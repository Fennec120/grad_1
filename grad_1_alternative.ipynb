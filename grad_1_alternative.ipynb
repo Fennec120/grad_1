{
 "cells": [
  {
   "cell_type": "code",
   "execution_count": 94,
   "id": "1c370580",
   "metadata": {},
   "outputs": [],
   "source": [
    "import dill\n",
    "import pandas as pd\n",
    "from sklearn.compose import ColumnTransformer, make_column_selector\n",
    "import time\n",
    "import datetime\n",
    "import matplotlib.pyplot as plt\n",
    "from sklearn.preprocessing import OneHotEncoder\n",
    "from sklearn.preprocessing import StandardScaler\n",
    "from sklearn.ensemble import RandomForestClassifier\n",
    "from sklearn.model_selection import train_test_split\n",
    "from sklearn.metrics import accuracy_score\n",
    "from sklearn.metrics import roc_auc_score\n",
    "from sklearn.model_selection import cross_val_score\n",
    "from sklearn.tree import DecisionTreeClassifier\n",
    "import json\n",
    "from sklearn.svm import SVC\n",
    "from sklearn.pipeline import Pipeline\n",
    "from sklearn.preprocessing import FunctionTransformer\n",
    "from sklearn.linear_model import LogisticRegression\n",
    "from sklearn.model_selection import GridSearchCV"
   ]
  },
  {
   "cell_type": "markdown",
   "id": "e9a11344",
   "metadata": {},
   "source": [
    "## funcs"
   ]
  },
  {
   "cell_type": "code",
   "execution_count": 2,
   "id": "9f41282c",
   "metadata": {},
   "outputs": [],
   "source": [
    "def remove_outliers(df: pd.DataFrame) -> pd.DataFrame:\n",
    "    def calculate_outliers(data):\n",
    "        q25 = data.quantile(0.25)\n",
    "        q75 = data.quantile(0.75)\n",
    "        iqr = q75 - q25\n",
    "        bounds = (q25 - 1.5 * iqr, q75 + 1.5 * iqr)\n",
    "        return bounds\n",
    "\n",
    "    df = df.copy()\n",
    "    boundaries = calculate_outliers(df['year'])\n",
    "    df.loc[df['year'] < boundaries[0], 'year'] = round(boundaries[0])\n",
    "    df.loc[df['year'] > boundaries[1], 'year'] = round(boundaries[1])\n",
    "    return df"
   ]
  },
  {
   "cell_type": "code",
   "execution_count": 3,
   "id": "f17f0ad7",
   "metadata": {},
   "outputs": [],
   "source": [
    "def cols_to_drop_list_obvious(df3):\n",
    "    print('% of empties')\n",
    "    cols_to_drop = []\n",
    "    for col in df3.columns:\n",
    "        print(col, ' - ', round(len(df3[col][df3[col].isna() == True]) / len(df3[col]), 2))\n",
    "        if len(df3[col][df3[col].isna() == True]) / len(df3[col]) > 0.9:\n",
    "            cols_to_drop.append(col)\n",
    "    return cols_to_drop\n",
    "\n",
    "def show_empties_percentage(df3):\n",
    "    print('% of empties')\n",
    "    #cols_to_drop = []\n",
    "    for col in df3.columns:\n",
    "        if round(len(df3[col][df3[col].isna() == True]) / len(df3[col]), 3) != 0:\n",
    "            print(col, ' - ', round(len(df3[col][df3[col].isna() == True]) / len(df3[col]), 3))\n",
    "    b = 0\n",
    "    return b\n"
   ]
  },
  {
   "cell_type": "code",
   "execution_count": 4,
   "id": "54132706",
   "metadata": {},
   "outputs": [],
   "source": [
    "def show_what_else_to_do(df3):\n",
    "    counter = 0\n",
    "    for feature in df3.columns:\n",
    "        if df3[feature].dtype != 'O':\n",
    "            #print(feature, ' - ', df3[feature].dtype)\n",
    "            counter += 1\n",
    "        else:\n",
    "            print(feature)\n",
    "    print(counter == len(df3.columns))\n",
    "    return counter"
   ]
  },
  {
   "cell_type": "code",
   "execution_count": 5,
   "id": "8151150e",
   "metadata": {},
   "outputs": [],
   "source": [
    "def show_all_about_column(df3, column):\n",
    "    print('number of empty rows: ',  len(df3[df3[column].isna() == True]))\n",
    "    print('number of unique entries: ',  len(df3[column].unique()))\n",
    "    pass "
   ]
  },
  {
   "cell_type": "markdown",
   "id": "e6f95843",
   "metadata": {
    "collapsed": true
   },
   "source": [
    "!pip install fastparquet\n"
   ]
  },
  {
   "cell_type": "markdown",
   "id": "19f2a9f1",
   "metadata": {
    "collapsed": true
   },
   "source": [
    "!pip install pyarrow"
   ]
  },
  {
   "cell_type": "markdown",
   "id": "44660f98",
   "metadata": {},
   "source": [
    "## preparartions"
   ]
  },
  {
   "cell_type": "code",
   "execution_count": 6,
   "id": "f3490453",
   "metadata": {},
   "outputs": [],
   "source": [
    "df = pd.read_csv('data/ga_hits.csv')"
   ]
  },
  {
   "cell_type": "code",
   "execution_count": 7,
   "id": "bf6a4598",
   "metadata": {},
   "outputs": [
    {
     "name": "stderr",
     "output_type": "stream",
     "text": [
      "C:\\Users\\user\\AppData\\Local\\Temp\\ipykernel_4456\\2530114789.py:1: DtypeWarning: Columns (1) have mixed types. Specify dtype option on import or set low_memory=False.\n",
      "  df2 = pd.read_csv('data/ga_sessions.csv')\n"
     ]
    }
   ],
   "source": [
    "df2 = pd.read_csv('data/ga_sessions.csv')"
   ]
  },
  {
   "cell_type": "code",
   "execution_count": 109,
   "id": "1eb1419d",
   "metadata": {},
   "outputs": [],
   "source": [
    "df3 = pd.merge(df, df2, on='session_id')"
   ]
  },
  {
   "cell_type": "code",
   "execution_count": 110,
   "id": "d429b25b",
   "metadata": {},
   "outputs": [],
   "source": [
    "target_action = ['sub_car_claim_click', 'sub_car_claim_submit_click',\n",
    "'sub_open_dialog_click', 'sub_custom_question_submit_click',\n",
    "'sub_call_number_click', 'sub_callback_submit_click', 'sub_submit_success',\n",
    "'sub_car_request_submit_click']"
   ]
  },
  {
   "cell_type": "code",
   "execution_count": 111,
   "id": "2e7f576a",
   "metadata": {},
   "outputs": [
    {
     "name": "stdout",
     "output_type": "stream",
     "text": [
      "% of empties\n",
      "session_id  -  0.0\n",
      "hit_date  -  0.0\n",
      "hit_time  -  0.58\n",
      "hit_number  -  0.0\n",
      "hit_type  -  0.0\n",
      "hit_referer  -  0.4\n",
      "hit_page_path  -  0.0\n",
      "event_category  -  0.0\n",
      "event_action  -  0.0\n",
      "event_label  -  0.24\n",
      "event_value  -  1.0\n",
      "client_id  -  0.0\n",
      "visit_date  -  0.0\n",
      "visit_time  -  0.0\n",
      "visit_number  -  0.0\n",
      "utm_source  -  0.0\n",
      "utm_medium  -  0.0\n",
      "utm_campaign  -  0.14\n",
      "utm_adcontent  -  0.18\n",
      "utm_keyword  -  0.59\n",
      "device_category  -  0.0\n",
      "device_os  -  0.58\n",
      "device_brand  -  0.25\n",
      "device_model  -  0.99\n",
      "device_screen_resolution  -  0.0\n",
      "device_browser  -  0.0\n",
      "geo_country  -  0.0\n",
      "geo_city  -  0.0\n"
     ]
    }
   ],
   "source": [
    "cols_to_drop = cols_to_drop_list_obvious(df3)"
   ]
  },
  {
   "cell_type": "code",
   "execution_count": 112,
   "id": "f405205f",
   "metadata": {},
   "outputs": [
    {
     "data": {
      "text/plain": [
       "Index(['session_id', 'hit_date', 'hit_time', 'hit_number', 'hit_type',\n",
       "       'hit_referer', 'hit_page_path', 'event_category', 'event_action',\n",
       "       'event_label', 'event_value', 'client_id', 'visit_date', 'visit_time',\n",
       "       'visit_number', 'utm_source', 'utm_medium', 'utm_campaign',\n",
       "       'utm_adcontent', 'utm_keyword', 'device_category', 'device_os',\n",
       "       'device_brand', 'device_model', 'device_screen_resolution',\n",
       "       'device_browser', 'geo_country', 'geo_city'],\n",
       "      dtype='object')"
      ]
     },
     "execution_count": 112,
     "metadata": {},
     "output_type": "execute_result"
    }
   ],
   "source": [
    "df3.columns"
   ]
  },
  {
   "cell_type": "code",
   "execution_count": 113,
   "id": "f35f55ff",
   "metadata": {},
   "outputs": [],
   "source": [
    "df3['target_action'] = df3['event_action'].apply(lambda x: 1 if x in target_action else 0)"
   ]
  },
  {
   "cell_type": "code",
   "execution_count": 114,
   "id": "e274e8f4",
   "metadata": {},
   "outputs": [
    {
     "data": {
      "text/plain": [
       "['event_value', 'device_model']"
      ]
     },
     "execution_count": 114,
     "metadata": {},
     "output_type": "execute_result"
    }
   ],
   "source": [
    "cols_to_drop"
   ]
  },
  {
   "cell_type": "code",
   "execution_count": 115,
   "id": "fd46c3c0",
   "metadata": {},
   "outputs": [],
   "source": [
    "cols_to_drop = []\n",
    "for col in df.columns:\n",
    "    cols_to_drop.append(str(col))"
   ]
  },
  {
   "cell_type": "code",
   "execution_count": 116,
   "id": "b218a66c",
   "metadata": {},
   "outputs": [],
   "source": [
    "df3 = df3.drop(cols_to_drop, axis=1)"
   ]
  },
  {
   "cell_type": "code",
   "execution_count": 117,
   "id": "706ef96c",
   "metadata": {},
   "outputs": [
    {
     "data": {
      "text/plain": [
       "0.0031877144973238816"
      ]
     },
     "execution_count": 117,
     "metadata": {},
     "output_type": "execute_result"
    }
   ],
   "source": [
    "50000 / len(df3)"
   ]
  },
  {
   "cell_type": "code",
   "execution_count": 118,
   "id": "587c8a26",
   "metadata": {},
   "outputs": [],
   "source": [
    "df3_pos = df3[df3['target_action'] == 1].sample(50000)"
   ]
  },
  {
   "cell_type": "code",
   "execution_count": 119,
   "id": "b99f9289",
   "metadata": {},
   "outputs": [],
   "source": [
    "df3_neg = df3[df3['target_action'] == 0].sample(50000)"
   ]
  },
  {
   "cell_type": "code",
   "execution_count": 120,
   "id": "c360e8e1",
   "metadata": {},
   "outputs": [],
   "source": [
    "df3_pos = df3_pos.reset_index()"
   ]
  },
  {
   "cell_type": "code",
   "execution_count": 121,
   "id": "5bad8dfb",
   "metadata": {},
   "outputs": [],
   "source": [
    "df3_neg = df3_neg.reset_index()"
   ]
  },
  {
   "cell_type": "code",
   "execution_count": 122,
   "id": "d3f5c153",
   "metadata": {},
   "outputs": [],
   "source": [
    "df3_pos = df3_pos.drop('index', axis=1)\n",
    "df3_neg = df3_neg.drop('index', axis=1)"
   ]
  },
  {
   "cell_type": "code",
   "execution_count": 123,
   "id": "50a37d54",
   "metadata": {},
   "outputs": [],
   "source": [
    "df3 = pd.concat([df3_pos, df3_neg])"
   ]
  },
  {
   "cell_type": "code",
   "execution_count": 124,
   "id": "e15856f0",
   "metadata": {},
   "outputs": [],
   "source": [
    "#df3 = df3.sample(frac= 100000 / len(df3))"
   ]
  },
  {
   "cell_type": "code",
   "execution_count": 125,
   "id": "3667126b",
   "metadata": {},
   "outputs": [],
   "source": [
    "df3.loc[df3.utm_campaign.isna(), 'utm_campaign'] = 'other'"
   ]
  },
  {
   "cell_type": "code",
   "execution_count": 126,
   "id": "5f12a31d",
   "metadata": {},
   "outputs": [],
   "source": [
    "\n",
    "#utm_c_frec_dict = {}\n",
    "#counter = 1\n",
    "#for pos in df3.utm_campaign.unique():\n",
    "#    if len(df3[(df3.utm_campaign == pos) & (df3.target_action == 1)]) == 0:\n",
    "#        utm_c_frec_dict[str(pos)] = 0\n",
    "#    else:\n",
    "#        utm_c_frec_dict[str(pos)] = round(len(df3[(df3.utm_campaign == pos) & (df3.target_action == 1)]) / len(df3[df3.utm_campaign == pos]), 5)\n",
    "#   print(counter)\n",
    "#   counter = counter  + 1"
   ]
  },
  {
   "cell_type": "markdown",
   "id": "3d6ceab1",
   "metadata": {},
   "source": [
    "with open('data/utm_c_frec_dict.json', 'w') as f:\n",
    "    json.dump(utm_c_frec_dict, f)"
   ]
  },
  {
   "cell_type": "code",
   "execution_count": 127,
   "id": "f13d418e",
   "metadata": {},
   "outputs": [],
   "source": [
    "with open('data/utm_c_frec_dict.json', 'r') as f:\n",
    "    utm_c_frec_dict = json.load(f)\n",
    "\n"
   ]
  },
  {
   "cell_type": "code",
   "execution_count": 128,
   "id": "d7d43103",
   "metadata": {},
   "outputs": [],
   "source": [
    "df3['camp_succ_rate'] = df3.utm_campaign.apply(lambda x: utm_c_frec_dict[str(x)])"
   ]
  },
  {
   "cell_type": "code",
   "execution_count": 129,
   "id": "bd50f302",
   "metadata": {
    "scrolled": false
   },
   "outputs": [
    {
     "name": "stdout",
     "output_type": "stream",
     "text": [
      "% of empties\n",
      "utm_adcontent  -  0.185\n",
      "utm_keyword  -  0.625\n",
      "device_os  -  0.622\n",
      "device_brand  -  0.249\n",
      "device_model  -  0.993\n"
     ]
    },
    {
     "data": {
      "text/plain": [
       "0"
      ]
     },
     "execution_count": 129,
     "metadata": {},
     "output_type": "execute_result"
    }
   ],
   "source": [
    "show_empties_percentage(df3)"
   ]
  },
  {
   "cell_type": "code",
   "execution_count": 130,
   "id": "7b3b25c7",
   "metadata": {},
   "outputs": [],
   "source": [
    "df3['new_date'] = pd.to_datetime(df3['visit_date'])\n",
    "df3['day_of_week'] = df3.new_date.dt.dayofweek"
   ]
  },
  {
   "cell_type": "code",
   "execution_count": 131,
   "id": "da8f5979",
   "metadata": {},
   "outputs": [],
   "source": []
  },
  {
   "cell_type": "code",
   "execution_count": 132,
   "id": "2ca87111",
   "metadata": {},
   "outputs": [],
   "source": [
    "cols_to_drop = ['client_id','new_date', 'visit_date', 'utm_keyword', 'device_os', 'device_model', 'visit_time']\n"
   ]
  },
  {
   "cell_type": "code",
   "execution_count": 133,
   "id": "1cd6ce74",
   "metadata": {},
   "outputs": [],
   "source": [
    "df3 = df3.drop(cols_to_drop,axis=1)"
   ]
  },
  {
   "cell_type": "markdown",
   "id": "786c1d3d",
   "metadata": {},
   "source": [
    "df3 = df3.drop('visit_date',axis=1)"
   ]
  },
  {
   "cell_type": "markdown",
   "id": "113106b8",
   "metadata": {},
   "source": [
    "df3 = df3.drop('utm_keyword',axis=1)"
   ]
  },
  {
   "cell_type": "markdown",
   "id": "31027fd6",
   "metadata": {},
   "source": [
    "df3 = df3.drop('device_os',axis=1)"
   ]
  },
  {
   "cell_type": "markdown",
   "id": "a6bab102",
   "metadata": {},
   "source": [
    "df3 = df3.drop('device_model',axis=1)"
   ]
  },
  {
   "cell_type": "markdown",
   "id": "c5ea8a36",
   "metadata": {},
   "source": [
    "df3 = df3.drop('visit_time',axis=1)"
   ]
  },
  {
   "cell_type": "code",
   "execution_count": 134,
   "id": "924fe745",
   "metadata": {},
   "outputs": [
    {
     "name": "stdout",
     "output_type": "stream",
     "text": [
      "utm_source\n",
      "utm_medium\n",
      "utm_campaign\n",
      "utm_adcontent\n",
      "device_category\n",
      "device_brand\n",
      "device_screen_resolution\n",
      "device_browser\n",
      "geo_country\n",
      "geo_city\n",
      "False\n"
     ]
    },
    {
     "data": {
      "text/plain": [
       "4"
      ]
     },
     "execution_count": 134,
     "metadata": {},
     "output_type": "execute_result"
    }
   ],
   "source": [
    "show_what_else_to_do(df3)"
   ]
  },
  {
   "cell_type": "code",
   "execution_count": 135,
   "id": "cd6145b3",
   "metadata": {},
   "outputs": [],
   "source": [
    "df3.loc[df3.utm_source.isna() == True, 'utm_source'] = 'other'"
   ]
  },
  {
   "cell_type": "code",
   "execution_count": 136,
   "id": "71b3f2fb",
   "metadata": {},
   "outputs": [],
   "source": [
    "cols_to_encode = ['utm_source', \n",
    "                  'utm_medium', \n",
    "                  'utm_adcontent', \n",
    "                  'device_brand', \n",
    "                  'device_category', \n",
    "                  'device_screen_resolution', \n",
    "                  'device_browser',\n",
    "                  'utm_campaign',\n",
    "                  'geo_country',\n",
    "                  'geo_city'\n",
    "                 ]"
   ]
  },
  {
   "cell_type": "code",
   "execution_count": 137,
   "id": "0d334823",
   "metadata": {},
   "outputs": [
    {
     "name": "stdout",
     "output_type": "stream",
     "text": [
      "number of empty rows:  18532\n",
      "number of unique entries:  146\n"
     ]
    }
   ],
   "source": [
    "show_all_about_column(df3, 'utm_adcontent')"
   ]
  },
  {
   "cell_type": "code",
   "execution_count": 138,
   "id": "23497a92",
   "metadata": {},
   "outputs": [],
   "source": [
    "df3.loc[df3.utm_adcontent.isna() == True, 'utm_adcontent'] = 'Other'"
   ]
  },
  {
   "cell_type": "code",
   "execution_count": 139,
   "id": "8b28c38b",
   "metadata": {},
   "outputs": [
    {
     "name": "stdout",
     "output_type": "stream",
     "text": [
      "number of empty rows:  0\n",
      "number of unique entries:  3\n"
     ]
    }
   ],
   "source": [
    "show_all_about_column(df3,'device_category')"
   ]
  },
  {
   "cell_type": "code",
   "execution_count": 140,
   "id": "e9099b62",
   "metadata": {},
   "outputs": [],
   "source": [
    "df3.loc[df3.device_brand.isna() == True, 'device_brand'] = 'other'"
   ]
  },
  {
   "cell_type": "code",
   "execution_count": 141,
   "id": "0d17b399",
   "metadata": {},
   "outputs": [
    {
     "name": "stdout",
     "output_type": "stream",
     "text": [
      "utm_source\n",
      "utm_medium\n",
      "utm_campaign\n",
      "utm_adcontent\n",
      "device_category\n",
      "device_brand\n",
      "device_screen_resolution\n",
      "device_browser\n",
      "geo_country\n",
      "geo_city\n",
      "False\n"
     ]
    }
   ],
   "source": [
    "counter = 0\n",
    "for feature in df3.columns:\n",
    "    if df3[feature].dtype != 'O':\n",
    "        #print(feature, ' - ', df3[feature].dtype)\n",
    "        counter += 1\n",
    "    else:\n",
    "        print(feature)\n",
    "print(counter == len(df3.columns))"
   ]
  },
  {
   "cell_type": "markdown",
   "id": "3605090e",
   "metadata": {},
   "source": [
    "df3['resolution'] = df3.device_screen_resolution.apply(lambda x:eval(x.replace('x','*')))"
   ]
  },
  {
   "cell_type": "code",
   "execution_count": 143,
   "id": "71bce28d",
   "metadata": {},
   "outputs": [],
   "source": [
    "\n",
    "bounds = []\n",
    "\n",
    "for device in df3.device_category.unique():\n",
    "\n",
    "    q25 = df3[df3.device_category == device].resolution.quantile(0.25)\n",
    "    q75 = df3[df3.device_category == device].resolution.quantile(0.75)\n",
    "    iqr = q75 - q25\n",
    "\n",
    "    bounds.append((device, q25 - 1.5 * iqr, q75 + 1.5 * iqr))\n",
    "    \n",
    "        \n",
    "resolution = []\n"
   ]
  },
  {
   "cell_type": "markdown",
   "id": "861ea03a",
   "metadata": {},
   "source": [
    "tst_l = []\n",
    "counter = 1\n",
    "for i in range(len(df3.device_category)):\n",
    "    tst_l.append((df3.device_category[i], eval(df3.device_screen_resolution[i].replace('x','*'))))\n",
    "    if counter == 1000000:\n",
    "        print(counter)\n",
    "    counter +=1\n"
   ]
  },
  {
   "cell_type": "code",
   "execution_count": 144,
   "id": "0b46682e",
   "metadata": {},
   "outputs": [],
   "source": [
    "test_list = list(df3.device_screen_resolution)\n"
   ]
  },
  {
   "cell_type": "code",
   "execution_count": 145,
   "id": "8e118cfd",
   "metadata": {},
   "outputs": [
    {
     "data": {
      "text/plain": [
       "100000"
      ]
     },
     "execution_count": 145,
     "metadata": {},
     "output_type": "execute_result"
    }
   ],
   "source": [
    "test_list2 = list(df3.device_category)\n",
    "len(test_list2)"
   ]
  },
  {
   "cell_type": "code",
   "execution_count": 146,
   "id": "5c3c179b",
   "metadata": {},
   "outputs": [],
   "source": [
    "for i in range(len(test_list)):\n",
    "    test_list[i] = eval(test_list[i].replace('x','*'))"
   ]
  },
  {
   "cell_type": "code",
   "execution_count": 147,
   "id": "e0aa2fc4",
   "metadata": {},
   "outputs": [],
   "source": [
    "tst_l = list(zip(test_list2, test_list))"
   ]
  },
  {
   "cell_type": "code",
   "execution_count": 148,
   "id": "188644a6",
   "metadata": {},
   "outputs": [],
   "source": [
    "for i in range(len(tst_l)):\n",
    "    if tst_l[i][0] == bounds[0][0]:\n",
    "        resolution.append(bounds[0][0]+'_high' if tst_l[i][1] >= bounds[0][2] * 0.7 else (bounds[0][0]+'_medium' if bounds[0][2] * 0.7 > tst_l[i][1] >= bounds[0][2] * 0.1 else bounds[0][0]+'_low'))\n",
    "    elif tst_l[i][0] == bounds[1][0]:\n",
    "        resolution.append(bounds[1][0]+'_high' if tst_l[i][1] >= bounds[1][2] * 0.7 else (bounds[1][0]+'_medium' if bounds[1][2] * 0.7 > tst_l[i][1] >= bounds[1][2] * 0.1 else bounds[1][0]+'_low'))\n",
    "    elif tst_l[i][0] == bounds[2][0]:\n",
    "        resolution.append(bounds[2][0]+'_high' if tst_l[i][1] >= bounds[2][2] * 0.7 else (bounds[2][0]+'_medium' if bounds[2][2] * 0.7 > tst_l[i][1] >= bounds[2][2] * 0.1 else bounds[2][0]+'_low'))\n",
    "df3['device_screen_resolution'] = resolution\n"
   ]
  },
  {
   "cell_type": "markdown",
   "id": "b7da5b31",
   "metadata": {},
   "source": [
    "df3 = df3.drop('resolution', axis=1)"
   ]
  },
  {
   "cell_type": "markdown",
   "id": "3400c350",
   "metadata": {},
   "source": [
    "show_what_else_to_do(df3)"
   ]
  },
  {
   "cell_type": "markdown",
   "id": "229eef22",
   "metadata": {},
   "source": [
    "show_all_about_column(df3, 'device_browser')"
   ]
  },
  {
   "cell_type": "code",
   "execution_count": 152,
   "id": "5581d9a4",
   "metadata": {},
   "outputs": [],
   "source": [
    "country_list = list(df3.geo_country.unique())"
   ]
  },
  {
   "cell_type": "code",
   "execution_count": 153,
   "id": "f4b0a19b",
   "metadata": {},
   "outputs": [
    {
     "name": "stdout",
     "output_type": "stream",
     "text": [
      "Russia  -  97751\n",
      "Ukraine  -  401\n",
      "Egypt  -  12\n",
      "France  -  56\n",
      "Netherlands  -  76\n",
      "South Korea  -  4\n",
      "Germany  -  162\n",
      "Armenia  -  46\n",
      "Uzbekistan  -  67\n",
      "Sweden  -  41\n",
      "Spain  -  35\n",
      "Cyprus  -  52\n",
      "Finland  -  35\n",
      "Belarus  -  123\n",
      "Croatia  -  10\n",
      "Georgia  -  51\n",
      "Canada  -  16\n",
      "United Arab Emirates  -  28\n",
      "Morocco  -  20\n",
      "Kazakhstan  -  88\n",
      "Italy  -  24\n",
      "Norway  -  9\n",
      "United States  -  177\n",
      "Turkey  -  103\n",
      "Kyrgyzstan  -  44\n",
      "Cuba  -  2\n",
      "Israel  -  25\n",
      "Estonia  -  21\n",
      "United Kingdom  -  84\n",
      "Bulgaria  -  16\n",
      "Switzerland  -  18\n",
      "(not set)  -  49\n",
      "Slovenia  -  4\n",
      "Azerbaijan  -  19\n",
      "Iraq  -  14\n",
      "Albania  -  1\n",
      "Philippines  -  2\n",
      "Dominican Republic  -  10\n",
      "Montenegro  -  13\n",
      "Saudi Arabia  -  6\n",
      "Brazil  -  9\n",
      "Poland  -  26\n",
      "Greece  -  18\n",
      "China  -  5\n",
      "Latvia  -  16\n",
      "Serbia  -  7\n",
      "Indonesia  -  4\n",
      "Afghanistan  -  4\n",
      "Pakistan  -  4\n",
      "Maldives  -  8\n",
      "Lithuania  -  12\n",
      "Nigeria  -  1\n",
      "Tajikistan  -  20\n",
      "Czechia  -  11\n",
      "Romania  -  11\n",
      "Austria  -  11\n",
      "Hungary  -  5\n",
      "Moldova  -  12\n",
      "Iran  -  5\n",
      "South Africa  -  2\n",
      "Seychelles  -  4\n",
      "Tunisia  -  1\n",
      "Belgium  -  2\n",
      "Algeria  -  3\n",
      "Ireland  -  22\n",
      "Slovakia  -  1\n",
      "Iceland  -  1\n",
      "India  -  5\n",
      "Argentina  -  3\n",
      "Thailand  -  10\n",
      "Jordan  -  1\n",
      "Venezuela  -  1\n",
      "Colombia  -  2\n",
      "Malta  -  1\n",
      "Singapore  -  8\n",
      "Turkmenistan  -  1\n",
      "Laos  -  1\n",
      "North Korea  -  1\n",
      "Nicaragua  -  1\n",
      "Ethiopia  -  1\n",
      "Portugal  -  2\n",
      "Ecuador  -  1\n",
      "Mauritius  -  1\n",
      "Vietnam  -  1\n",
      "Japan  -  3\n",
      "Angola  -  1\n",
      "Denmark  -  2\n",
      "Luxembourg  -  2\n",
      "New Zealand  -  1\n",
      "Senegal  -  1\n",
      "Bangladesh  -  2\n",
      "Kenya  -  1\n",
      "Hong Kong  -  1\n",
      "Mexico  -  2\n",
      "North Macedonia  -  1\n",
      "Australia  -  2\n"
     ]
    }
   ],
   "source": [
    "for item in country_list:\n",
    "    print(item, ' - ', len(df3[df3.geo_country == item]))"
   ]
  },
  {
   "cell_type": "code",
   "execution_count": 154,
   "id": "1605b3b0",
   "metadata": {},
   "outputs": [
    {
     "data": {
      "text/plain": [
       "400.0"
      ]
     },
     "execution_count": 154,
     "metadata": {},
     "output_type": "execute_result"
    }
   ],
   "source": [
    "len(df3)*0.004"
   ]
  },
  {
   "cell_type": "code",
   "execution_count": 155,
   "id": "48e985b2",
   "metadata": {},
   "outputs": [],
   "source": [
    "trsh_5_pct = 0.01#len(df3)*0.005\n",
    "df3_len = len(df3) \n",
    "for item in country_list:\n",
    "    if len(df3[df3.geo_country == item]) / df3_len >= trsh_5_pct:\n",
    "        continue\n",
    "    else:\n",
    "        df3.loc[df3.geo_country == item, 'geo_country'] = 'some_unimportant_country'\n"
   ]
  },
  {
   "cell_type": "markdown",
   "id": "60ee18f7",
   "metadata": {},
   "source": [
    "city_list = list(df3.geo_city.unique())\n",
    "for item in range(len(city_list)):\n",
    "    city_list[item] =  (city_list[item], len(df3[df3.geo_city == city_list[item]]))"
   ]
  },
  {
   "cell_type": "code",
   "execution_count": 156,
   "id": "dc1a6687",
   "metadata": {},
   "outputs": [
    {
     "data": {
      "text/plain": [
       "array(['Russia', 'some_unimportant_country'], dtype=object)"
      ]
     },
     "execution_count": 156,
     "metadata": {},
     "output_type": "execute_result"
    }
   ],
   "source": [
    "df3.geo_country.unique()"
   ]
  },
  {
   "cell_type": "code",
   "execution_count": 157,
   "id": "298b3830",
   "metadata": {},
   "outputs": [],
   "source": [
    "trsh_06_pct = 100000 / len(df3)"
   ]
  },
  {
   "cell_type": "code",
   "execution_count": 158,
   "id": "84b6043d",
   "metadata": {},
   "outputs": [
    {
     "data": {
      "text/plain": [
       "1.0"
      ]
     },
     "execution_count": 158,
     "metadata": {},
     "output_type": "execute_result"
    }
   ],
   "source": [
    "trsh_06_pct"
   ]
  },
  {
   "cell_type": "markdown",
   "id": "cbaffd80",
   "metadata": {},
   "source": [
    "counter = 1\n",
    "for i in city_list_tst:\n",
    "    if i[0] > 100000:\n",
    "        #print(counter)\n",
    "        counter += 1"
   ]
  },
  {
   "cell_type": "code",
   "execution_count": null,
   "id": "9baef8e5",
   "metadata": {},
   "outputs": [],
   "source": [
    "with open('data/city_list.txt', 'w') as f:\n",
    "    for t in city_list_tst:\n",
    "        f.write(str(t) +'\\n')"
   ]
  },
  {
   "cell_type": "code",
   "execution_count": 159,
   "id": "7027f94d",
   "metadata": {},
   "outputs": [],
   "source": [
    "with open('data/city_list.txt', 'r') as f:\n",
    "    city_list = []\n",
    "    for line in f:\n",
    "        # remove newline character and parentheses\n",
    "        line = line.rstrip('\\n').replace('(', '').replace(')', '').replace(\"'\", '')\n",
    "        # split on comma and convert each element to correct type\n",
    "        tuple_elements = [int(e.strip()) if e.strip().isdigit() else e.strip() for e in line.split(',')]\n",
    "        # create tuple and add to list\n",
    "        my_tuple = tuple(tuple_elements)\n",
    "        city_list.append(my_tuple)"
   ]
  },
  {
   "cell_type": "code",
   "execution_count": 160,
   "id": "dab46aba",
   "metadata": {},
   "outputs": [],
   "source": [
    "df3.loc[((df3.geo_city != city_list[0][1]) & \n",
    "    (df3.geo_city != city_list[1][1]) & \n",
    "    (df3.geo_city != city_list[2][1]) &\n",
    "    (df3.geo_city != city_list[3][1]) & \n",
    "    (df3.geo_city != city_list[4][1]) & \n",
    "    (df3.geo_city != city_list[5][1])  )\n",
    "    #(df3.geo_city != city_list[6][1]) & \n",
    "    #(df3.geo_city != city_list[7][1]) & \n",
    "    #(df3.geo_city != city_list[8][1]) & \n",
    "    #(df3.geo_city != city_list[9][1]) & \n",
    "    #(df3.geo_city != city_list[10][1]) & \n",
    "    #(df3.geo_city != city_list[11][1]) & \n",
    "    #(df3.geo_city != city_list[12][1]) & \n",
    "    #(df3.geo_city != city_list[13][1]) & \n",
    "    #(df3.geo_city != city_list[14][1]) & \n",
    "    #(df3.geo_city != city_list[15][1]) & \n",
    "    #(df3.geo_city != city_list[16][1]) & \n",
    "    #(df3.geo_city != city_list[17][1]) & \n",
    "    #(df3.geo_city != city_list[18][1])) \n",
    "    ,'geo_city'  ] = 'some_unimportant_city'"
   ]
  },
  {
   "cell_type": "code",
   "execution_count": 161,
   "id": "728cdf32",
   "metadata": {},
   "outputs": [
    {
     "data": {
      "text/plain": [
       "array(['Moscow', 'Kazan', 'some_unimportant_city', 'Saint Petersburg',\n",
       "       'Krasnodar', 'Yekaterinburg'], dtype=object)"
      ]
     },
     "execution_count": 161,
     "metadata": {},
     "output_type": "execute_result"
    }
   ],
   "source": [
    "df3.geo_city.unique()"
   ]
  },
  {
   "cell_type": "markdown",
   "id": "07377e36",
   "metadata": {},
   "source": [
    "## encodin' shit!"
   ]
  },
  {
   "cell_type": "code",
   "execution_count": 163,
   "id": "b4759978",
   "metadata": {},
   "outputs": [],
   "source": [
    "df3 = df3.reset_index()"
   ]
  },
  {
   "cell_type": "code",
   "execution_count": 164,
   "id": "1341db45",
   "metadata": {},
   "outputs": [
    {
     "data": {
      "text/plain": [
       "['utm_source',\n",
       " 'utm_medium',\n",
       " 'utm_adcontent',\n",
       " 'device_brand',\n",
       " 'device_category',\n",
       " 'device_screen_resolution',\n",
       " 'device_browser',\n",
       " 'utm_campaign',\n",
       " 'geo_country',\n",
       " 'geo_city']"
      ]
     },
     "execution_count": 164,
     "metadata": {},
     "output_type": "execute_result"
    }
   ],
   "source": [
    "cols_to_encode"
   ]
  },
  {
   "cell_type": "code",
   "execution_count": 165,
   "id": "d522ed70",
   "metadata": {},
   "outputs": [
    {
     "name": "stderr",
     "output_type": "stream",
     "text": [
      "C:\\Users\\user\\anaconda3\\lib\\site-packages\\sklearn\\preprocessing\\_encoders.py:828: FutureWarning: `sparse` was renamed to `sparse_output` in version 1.2 and will be removed in 1.4. `sparse_output` is ignored unless you leave `sparse` to its default value.\n",
      "  warnings.warn(\n",
      "C:\\Users\\user\\anaconda3\\lib\\site-packages\\sklearn\\preprocessing\\_encoders.py:828: FutureWarning: `sparse` was renamed to `sparse_output` in version 1.2 and will be removed in 1.4. `sparse_output` is ignored unless you leave `sparse` to its default value.\n",
      "  warnings.warn(\n",
      "C:\\Users\\user\\anaconda3\\lib\\site-packages\\sklearn\\preprocessing\\_encoders.py:828: FutureWarning: `sparse` was renamed to `sparse_output` in version 1.2 and will be removed in 1.4. `sparse_output` is ignored unless you leave `sparse` to its default value.\n",
      "  warnings.warn(\n",
      "C:\\Users\\user\\AppData\\Local\\Temp\\ipykernel_4456\\484176590.py:15: PerformanceWarning: DataFrame is highly fragmented.  This is usually the result of calling `frame.insert` many times, which has poor performance.  Consider joining all columns at once using pd.concat(axis=1) instead. To get a de-fragmented frame, use `newframe = frame.copy()`\n",
      "  encoded_features[feature_names] = encoded_df.values\n",
      "C:\\Users\\user\\AppData\\Local\\Temp\\ipykernel_4456\\484176590.py:15: PerformanceWarning: DataFrame is highly fragmented.  This is usually the result of calling `frame.insert` many times, which has poor performance.  Consider joining all columns at once using pd.concat(axis=1) instead. To get a de-fragmented frame, use `newframe = frame.copy()`\n",
      "  encoded_features[feature_names] = encoded_df.values\n",
      "C:\\Users\\user\\AppData\\Local\\Temp\\ipykernel_4456\\484176590.py:15: PerformanceWarning: DataFrame is highly fragmented.  This is usually the result of calling `frame.insert` many times, which has poor performance.  Consider joining all columns at once using pd.concat(axis=1) instead. To get a de-fragmented frame, use `newframe = frame.copy()`\n",
      "  encoded_features[feature_names] = encoded_df.values\n",
      "C:\\Users\\user\\AppData\\Local\\Temp\\ipykernel_4456\\484176590.py:15: PerformanceWarning: DataFrame is highly fragmented.  This is usually the result of calling `frame.insert` many times, which has poor performance.  Consider joining all columns at once using pd.concat(axis=1) instead. To get a de-fragmented frame, use `newframe = frame.copy()`\n",
      "  encoded_features[feature_names] = encoded_df.values\n",
      "C:\\Users\\user\\AppData\\Local\\Temp\\ipykernel_4456\\484176590.py:15: PerformanceWarning: DataFrame is highly fragmented.  This is usually the result of calling `frame.insert` many times, which has poor performance.  Consider joining all columns at once using pd.concat(axis=1) instead. To get a de-fragmented frame, use `newframe = frame.copy()`\n",
      "  encoded_features[feature_names] = encoded_df.values\n",
      "C:\\Users\\user\\AppData\\Local\\Temp\\ipykernel_4456\\484176590.py:15: PerformanceWarning: DataFrame is highly fragmented.  This is usually the result of calling `frame.insert` many times, which has poor performance.  Consider joining all columns at once using pd.concat(axis=1) instead. To get a de-fragmented frame, use `newframe = frame.copy()`\n",
      "  encoded_features[feature_names] = encoded_df.values\n",
      "C:\\Users\\user\\AppData\\Local\\Temp\\ipykernel_4456\\484176590.py:15: PerformanceWarning: DataFrame is highly fragmented.  This is usually the result of calling `frame.insert` many times, which has poor performance.  Consider joining all columns at once using pd.concat(axis=1) instead. To get a de-fragmented frame, use `newframe = frame.copy()`\n",
      "  encoded_features[feature_names] = encoded_df.values\n",
      "C:\\Users\\user\\AppData\\Local\\Temp\\ipykernel_4456\\484176590.py:15: PerformanceWarning: DataFrame is highly fragmented.  This is usually the result of calling `frame.insert` many times, which has poor performance.  Consider joining all columns at once using pd.concat(axis=1) instead. To get a de-fragmented frame, use `newframe = frame.copy()`\n",
      "  encoded_features[feature_names] = encoded_df.values\n",
      "C:\\Users\\user\\AppData\\Local\\Temp\\ipykernel_4456\\484176590.py:15: PerformanceWarning: DataFrame is highly fragmented.  This is usually the result of calling `frame.insert` many times, which has poor performance.  Consider joining all columns at once using pd.concat(axis=1) instead. To get a de-fragmented frame, use `newframe = frame.copy()`\n",
      "  encoded_features[feature_names] = encoded_df.values\n",
      "C:\\Users\\user\\AppData\\Local\\Temp\\ipykernel_4456\\484176590.py:15: PerformanceWarning: DataFrame is highly fragmented.  This is usually the result of calling `frame.insert` many times, which has poor performance.  Consider joining all columns at once using pd.concat(axis=1) instead. To get a de-fragmented frame, use `newframe = frame.copy()`\n",
      "  encoded_features[feature_names] = encoded_df.values\n",
      "C:\\Users\\user\\AppData\\Local\\Temp\\ipykernel_4456\\484176590.py:15: PerformanceWarning: DataFrame is highly fragmented.  This is usually the result of calling `frame.insert` many times, which has poor performance.  Consider joining all columns at once using pd.concat(axis=1) instead. To get a de-fragmented frame, use `newframe = frame.copy()`\n",
      "  encoded_features[feature_names] = encoded_df.values\n",
      "C:\\Users\\user\\AppData\\Local\\Temp\\ipykernel_4456\\484176590.py:15: PerformanceWarning: DataFrame is highly fragmented.  This is usually the result of calling `frame.insert` many times, which has poor performance.  Consider joining all columns at once using pd.concat(axis=1) instead. To get a de-fragmented frame, use `newframe = frame.copy()`\n",
      "  encoded_features[feature_names] = encoded_df.values\n",
      "C:\\Users\\user\\AppData\\Local\\Temp\\ipykernel_4456\\484176590.py:15: PerformanceWarning: DataFrame is highly fragmented.  This is usually the result of calling `frame.insert` many times, which has poor performance.  Consider joining all columns at once using pd.concat(axis=1) instead. To get a de-fragmented frame, use `newframe = frame.copy()`\n",
      "  encoded_features[feature_names] = encoded_df.values\n",
      "C:\\Users\\user\\AppData\\Local\\Temp\\ipykernel_4456\\484176590.py:15: PerformanceWarning: DataFrame is highly fragmented.  This is usually the result of calling `frame.insert` many times, which has poor performance.  Consider joining all columns at once using pd.concat(axis=1) instead. To get a de-fragmented frame, use `newframe = frame.copy()`\n",
      "  encoded_features[feature_names] = encoded_df.values\n",
      "C:\\Users\\user\\AppData\\Local\\Temp\\ipykernel_4456\\484176590.py:15: PerformanceWarning: DataFrame is highly fragmented.  This is usually the result of calling `frame.insert` many times, which has poor performance.  Consider joining all columns at once using pd.concat(axis=1) instead. To get a de-fragmented frame, use `newframe = frame.copy()`\n",
      "  encoded_features[feature_names] = encoded_df.values\n",
      "C:\\Users\\user\\AppData\\Local\\Temp\\ipykernel_4456\\484176590.py:15: PerformanceWarning: DataFrame is highly fragmented.  This is usually the result of calling `frame.insert` many times, which has poor performance.  Consider joining all columns at once using pd.concat(axis=1) instead. To get a de-fragmented frame, use `newframe = frame.copy()`\n",
      "  encoded_features[feature_names] = encoded_df.values\n",
      "C:\\Users\\user\\AppData\\Local\\Temp\\ipykernel_4456\\484176590.py:15: PerformanceWarning: DataFrame is highly fragmented.  This is usually the result of calling `frame.insert` many times, which has poor performance.  Consider joining all columns at once using pd.concat(axis=1) instead. To get a de-fragmented frame, use `newframe = frame.copy()`\n",
      "  encoded_features[feature_names] = encoded_df.values\n",
      "C:\\Users\\user\\AppData\\Local\\Temp\\ipykernel_4456\\484176590.py:15: PerformanceWarning: DataFrame is highly fragmented.  This is usually the result of calling `frame.insert` many times, which has poor performance.  Consider joining all columns at once using pd.concat(axis=1) instead. To get a de-fragmented frame, use `newframe = frame.copy()`\n",
      "  encoded_features[feature_names] = encoded_df.values\n",
      "C:\\Users\\user\\AppData\\Local\\Temp\\ipykernel_4456\\484176590.py:15: PerformanceWarning: DataFrame is highly fragmented.  This is usually the result of calling `frame.insert` many times, which has poor performance.  Consider joining all columns at once using pd.concat(axis=1) instead. To get a de-fragmented frame, use `newframe = frame.copy()`\n",
      "  encoded_features[feature_names] = encoded_df.values\n",
      "C:\\Users\\user\\AppData\\Local\\Temp\\ipykernel_4456\\484176590.py:15: PerformanceWarning: DataFrame is highly fragmented.  This is usually the result of calling `frame.insert` many times, which has poor performance.  Consider joining all columns at once using pd.concat(axis=1) instead. To get a de-fragmented frame, use `newframe = frame.copy()`\n",
      "  encoded_features[feature_names] = encoded_df.values\n",
      "C:\\Users\\user\\AppData\\Local\\Temp\\ipykernel_4456\\484176590.py:15: PerformanceWarning: DataFrame is highly fragmented.  This is usually the result of calling `frame.insert` many times, which has poor performance.  Consider joining all columns at once using pd.concat(axis=1) instead. To get a de-fragmented frame, use `newframe = frame.copy()`\n",
      "  encoded_features[feature_names] = encoded_df.values\n",
      "C:\\Users\\user\\AppData\\Local\\Temp\\ipykernel_4456\\484176590.py:15: PerformanceWarning: DataFrame is highly fragmented.  This is usually the result of calling `frame.insert` many times, which has poor performance.  Consider joining all columns at once using pd.concat(axis=1) instead. To get a de-fragmented frame, use `newframe = frame.copy()`\n",
      "  encoded_features[feature_names] = encoded_df.values\n",
      "C:\\Users\\user\\AppData\\Local\\Temp\\ipykernel_4456\\484176590.py:15: PerformanceWarning: DataFrame is highly fragmented.  This is usually the result of calling `frame.insert` many times, which has poor performance.  Consider joining all columns at once using pd.concat(axis=1) instead. To get a de-fragmented frame, use `newframe = frame.copy()`\n",
      "  encoded_features[feature_names] = encoded_df.values\n",
      "C:\\Users\\user\\AppData\\Local\\Temp\\ipykernel_4456\\484176590.py:15: PerformanceWarning: DataFrame is highly fragmented.  This is usually the result of calling `frame.insert` many times, which has poor performance.  Consider joining all columns at once using pd.concat(axis=1) instead. To get a de-fragmented frame, use `newframe = frame.copy()`\n",
      "  encoded_features[feature_names] = encoded_df.values\n",
      "C:\\Users\\user\\AppData\\Local\\Temp\\ipykernel_4456\\484176590.py:15: PerformanceWarning: DataFrame is highly fragmented.  This is usually the result of calling `frame.insert` many times, which has poor performance.  Consider joining all columns at once using pd.concat(axis=1) instead. To get a de-fragmented frame, use `newframe = frame.copy()`\n",
      "  encoded_features[feature_names] = encoded_df.values\n",
      "C:\\Users\\user\\AppData\\Local\\Temp\\ipykernel_4456\\484176590.py:15: PerformanceWarning: DataFrame is highly fragmented.  This is usually the result of calling `frame.insert` many times, which has poor performance.  Consider joining all columns at once using pd.concat(axis=1) instead. To get a de-fragmented frame, use `newframe = frame.copy()`\n",
      "  encoded_features[feature_names] = encoded_df.values\n",
      "C:\\Users\\user\\AppData\\Local\\Temp\\ipykernel_4456\\484176590.py:15: PerformanceWarning: DataFrame is highly fragmented.  This is usually the result of calling `frame.insert` many times, which has poor performance.  Consider joining all columns at once using pd.concat(axis=1) instead. To get a de-fragmented frame, use `newframe = frame.copy()`\n",
      "  encoded_features[feature_names] = encoded_df.values\n",
      "C:\\Users\\user\\AppData\\Local\\Temp\\ipykernel_4456\\484176590.py:15: PerformanceWarning: DataFrame is highly fragmented.  This is usually the result of calling `frame.insert` many times, which has poor performance.  Consider joining all columns at once using pd.concat(axis=1) instead. To get a de-fragmented frame, use `newframe = frame.copy()`\n",
      "  encoded_features[feature_names] = encoded_df.values\n",
      "C:\\Users\\user\\AppData\\Local\\Temp\\ipykernel_4456\\484176590.py:15: PerformanceWarning: DataFrame is highly fragmented.  This is usually the result of calling `frame.insert` many times, which has poor performance.  Consider joining all columns at once using pd.concat(axis=1) instead. To get a de-fragmented frame, use `newframe = frame.copy()`\n",
      "  encoded_features[feature_names] = encoded_df.values\n",
      "C:\\Users\\user\\AppData\\Local\\Temp\\ipykernel_4456\\484176590.py:15: PerformanceWarning: DataFrame is highly fragmented.  This is usually the result of calling `frame.insert` many times, which has poor performance.  Consider joining all columns at once using pd.concat(axis=1) instead. To get a de-fragmented frame, use `newframe = frame.copy()`\n",
      "  encoded_features[feature_names] = encoded_df.values\n",
      "C:\\Users\\user\\AppData\\Local\\Temp\\ipykernel_4456\\484176590.py:15: PerformanceWarning: DataFrame is highly fragmented.  This is usually the result of calling `frame.insert` many times, which has poor performance.  Consider joining all columns at once using pd.concat(axis=1) instead. To get a de-fragmented frame, use `newframe = frame.copy()`\n",
      "  encoded_features[feature_names] = encoded_df.values\n",
      "C:\\Users\\user\\AppData\\Local\\Temp\\ipykernel_4456\\484176590.py:15: PerformanceWarning: DataFrame is highly fragmented.  This is usually the result of calling `frame.insert` many times, which has poor performance.  Consider joining all columns at once using pd.concat(axis=1) instead. To get a de-fragmented frame, use `newframe = frame.copy()`\n",
      "  encoded_features[feature_names] = encoded_df.values\n",
      "C:\\Users\\user\\AppData\\Local\\Temp\\ipykernel_4456\\484176590.py:15: PerformanceWarning: DataFrame is highly fragmented.  This is usually the result of calling `frame.insert` many times, which has poor performance.  Consider joining all columns at once using pd.concat(axis=1) instead. To get a de-fragmented frame, use `newframe = frame.copy()`\n",
      "  encoded_features[feature_names] = encoded_df.values\n",
      "C:\\Users\\user\\AppData\\Local\\Temp\\ipykernel_4456\\484176590.py:15: PerformanceWarning: DataFrame is highly fragmented.  This is usually the result of calling `frame.insert` many times, which has poor performance.  Consider joining all columns at once using pd.concat(axis=1) instead. To get a de-fragmented frame, use `newframe = frame.copy()`\n",
      "  encoded_features[feature_names] = encoded_df.values\n",
      "C:\\Users\\user\\AppData\\Local\\Temp\\ipykernel_4456\\484176590.py:15: PerformanceWarning: DataFrame is highly fragmented.  This is usually the result of calling `frame.insert` many times, which has poor performance.  Consider joining all columns at once using pd.concat(axis=1) instead. To get a de-fragmented frame, use `newframe = frame.copy()`\n",
      "  encoded_features[feature_names] = encoded_df.values\n",
      "C:\\Users\\user\\AppData\\Local\\Temp\\ipykernel_4456\\484176590.py:15: PerformanceWarning: DataFrame is highly fragmented.  This is usually the result of calling `frame.insert` many times, which has poor performance.  Consider joining all columns at once using pd.concat(axis=1) instead. To get a de-fragmented frame, use `newframe = frame.copy()`\n",
      "  encoded_features[feature_names] = encoded_df.values\n",
      "C:\\Users\\user\\AppData\\Local\\Temp\\ipykernel_4456\\484176590.py:15: PerformanceWarning: DataFrame is highly fragmented.  This is usually the result of calling `frame.insert` many times, which has poor performance.  Consider joining all columns at once using pd.concat(axis=1) instead. To get a de-fragmented frame, use `newframe = frame.copy()`\n",
      "  encoded_features[feature_names] = encoded_df.values\n",
      "C:\\Users\\user\\AppData\\Local\\Temp\\ipykernel_4456\\484176590.py:15: PerformanceWarning: DataFrame is highly fragmented.  This is usually the result of calling `frame.insert` many times, which has poor performance.  Consider joining all columns at once using pd.concat(axis=1) instead. To get a de-fragmented frame, use `newframe = frame.copy()`\n",
      "  encoded_features[feature_names] = encoded_df.values\n",
      "C:\\Users\\user\\AppData\\Local\\Temp\\ipykernel_4456\\484176590.py:15: PerformanceWarning: DataFrame is highly fragmented.  This is usually the result of calling `frame.insert` many times, which has poor performance.  Consider joining all columns at once using pd.concat(axis=1) instead. To get a de-fragmented frame, use `newframe = frame.copy()`\n",
      "  encoded_features[feature_names] = encoded_df.values\n",
      "C:\\Users\\user\\AppData\\Local\\Temp\\ipykernel_4456\\484176590.py:15: PerformanceWarning: DataFrame is highly fragmented.  This is usually the result of calling `frame.insert` many times, which has poor performance.  Consider joining all columns at once using pd.concat(axis=1) instead. To get a de-fragmented frame, use `newframe = frame.copy()`\n",
      "  encoded_features[feature_names] = encoded_df.values\n",
      "C:\\Users\\user\\AppData\\Local\\Temp\\ipykernel_4456\\484176590.py:15: PerformanceWarning: DataFrame is highly fragmented.  This is usually the result of calling `frame.insert` many times, which has poor performance.  Consider joining all columns at once using pd.concat(axis=1) instead. To get a de-fragmented frame, use `newframe = frame.copy()`\n",
      "  encoded_features[feature_names] = encoded_df.values\n",
      "C:\\Users\\user\\AppData\\Local\\Temp\\ipykernel_4456\\484176590.py:15: PerformanceWarning: DataFrame is highly fragmented.  This is usually the result of calling `frame.insert` many times, which has poor performance.  Consider joining all columns at once using pd.concat(axis=1) instead. To get a de-fragmented frame, use `newframe = frame.copy()`\n",
      "  encoded_features[feature_names] = encoded_df.values\n",
      "C:\\Users\\user\\AppData\\Local\\Temp\\ipykernel_4456\\484176590.py:15: PerformanceWarning: DataFrame is highly fragmented.  This is usually the result of calling `frame.insert` many times, which has poor performance.  Consider joining all columns at once using pd.concat(axis=1) instead. To get a de-fragmented frame, use `newframe = frame.copy()`\n",
      "  encoded_features[feature_names] = encoded_df.values\n",
      "C:\\Users\\user\\AppData\\Local\\Temp\\ipykernel_4456\\484176590.py:15: PerformanceWarning: DataFrame is highly fragmented.  This is usually the result of calling `frame.insert` many times, which has poor performance.  Consider joining all columns at once using pd.concat(axis=1) instead. To get a de-fragmented frame, use `newframe = frame.copy()`\n",
      "  encoded_features[feature_names] = encoded_df.values\n",
      "C:\\Users\\user\\AppData\\Local\\Temp\\ipykernel_4456\\484176590.py:15: PerformanceWarning: DataFrame is highly fragmented.  This is usually the result of calling `frame.insert` many times, which has poor performance.  Consider joining all columns at once using pd.concat(axis=1) instead. To get a de-fragmented frame, use `newframe = frame.copy()`\n",
      "  encoded_features[feature_names] = encoded_df.values\n",
      "C:\\Users\\user\\AppData\\Local\\Temp\\ipykernel_4456\\484176590.py:15: PerformanceWarning: DataFrame is highly fragmented.  This is usually the result of calling `frame.insert` many times, which has poor performance.  Consider joining all columns at once using pd.concat(axis=1) instead. To get a de-fragmented frame, use `newframe = frame.copy()`\n",
      "  encoded_features[feature_names] = encoded_df.values\n",
      "C:\\Users\\user\\AppData\\Local\\Temp\\ipykernel_4456\\484176590.py:15: PerformanceWarning: DataFrame is highly fragmented.  This is usually the result of calling `frame.insert` many times, which has poor performance.  Consider joining all columns at once using pd.concat(axis=1) instead. To get a de-fragmented frame, use `newframe = frame.copy()`\n",
      "  encoded_features[feature_names] = encoded_df.values\n",
      "C:\\Users\\user\\AppData\\Local\\Temp\\ipykernel_4456\\484176590.py:15: PerformanceWarning: DataFrame is highly fragmented.  This is usually the result of calling `frame.insert` many times, which has poor performance.  Consider joining all columns at once using pd.concat(axis=1) instead. To get a de-fragmented frame, use `newframe = frame.copy()`\n",
      "  encoded_features[feature_names] = encoded_df.values\n",
      "C:\\Users\\user\\AppData\\Local\\Temp\\ipykernel_4456\\484176590.py:15: PerformanceWarning: DataFrame is highly fragmented.  This is usually the result of calling `frame.insert` many times, which has poor performance.  Consider joining all columns at once using pd.concat(axis=1) instead. To get a de-fragmented frame, use `newframe = frame.copy()`\n",
      "  encoded_features[feature_names] = encoded_df.values\n",
      "C:\\Users\\user\\AppData\\Local\\Temp\\ipykernel_4456\\484176590.py:15: PerformanceWarning: DataFrame is highly fragmented.  This is usually the result of calling `frame.insert` many times, which has poor performance.  Consider joining all columns at once using pd.concat(axis=1) instead. To get a de-fragmented frame, use `newframe = frame.copy()`\n",
      "  encoded_features[feature_names] = encoded_df.values\n",
      "C:\\Users\\user\\AppData\\Local\\Temp\\ipykernel_4456\\484176590.py:15: PerformanceWarning: DataFrame is highly fragmented.  This is usually the result of calling `frame.insert` many times, which has poor performance.  Consider joining all columns at once using pd.concat(axis=1) instead. To get a de-fragmented frame, use `newframe = frame.copy()`\n",
      "  encoded_features[feature_names] = encoded_df.values\n",
      "C:\\Users\\user\\AppData\\Local\\Temp\\ipykernel_4456\\484176590.py:15: PerformanceWarning: DataFrame is highly fragmented.  This is usually the result of calling `frame.insert` many times, which has poor performance.  Consider joining all columns at once using pd.concat(axis=1) instead. To get a de-fragmented frame, use `newframe = frame.copy()`\n",
      "  encoded_features[feature_names] = encoded_df.values\n",
      "C:\\Users\\user\\AppData\\Local\\Temp\\ipykernel_4456\\484176590.py:15: PerformanceWarning: DataFrame is highly fragmented.  This is usually the result of calling `frame.insert` many times, which has poor performance.  Consider joining all columns at once using pd.concat(axis=1) instead. To get a de-fragmented frame, use `newframe = frame.copy()`\n",
      "  encoded_features[feature_names] = encoded_df.values\n",
      "C:\\Users\\user\\AppData\\Local\\Temp\\ipykernel_4456\\484176590.py:15: PerformanceWarning: DataFrame is highly fragmented.  This is usually the result of calling `frame.insert` many times, which has poor performance.  Consider joining all columns at once using pd.concat(axis=1) instead. To get a de-fragmented frame, use `newframe = frame.copy()`\n",
      "  encoded_features[feature_names] = encoded_df.values\n",
      "C:\\Users\\user\\AppData\\Local\\Temp\\ipykernel_4456\\484176590.py:15: PerformanceWarning: DataFrame is highly fragmented.  This is usually the result of calling `frame.insert` many times, which has poor performance.  Consider joining all columns at once using pd.concat(axis=1) instead. To get a de-fragmented frame, use `newframe = frame.copy()`\n",
      "  encoded_features[feature_names] = encoded_df.values\n",
      "C:\\Users\\user\\AppData\\Local\\Temp\\ipykernel_4456\\484176590.py:15: PerformanceWarning: DataFrame is highly fragmented.  This is usually the result of calling `frame.insert` many times, which has poor performance.  Consider joining all columns at once using pd.concat(axis=1) instead. To get a de-fragmented frame, use `newframe = frame.copy()`\n",
      "  encoded_features[feature_names] = encoded_df.values\n",
      "C:\\Users\\user\\AppData\\Local\\Temp\\ipykernel_4456\\484176590.py:15: PerformanceWarning: DataFrame is highly fragmented.  This is usually the result of calling `frame.insert` many times, which has poor performance.  Consider joining all columns at once using pd.concat(axis=1) instead. To get a de-fragmented frame, use `newframe = frame.copy()`\n",
      "  encoded_features[feature_names] = encoded_df.values\n",
      "C:\\Users\\user\\AppData\\Local\\Temp\\ipykernel_4456\\484176590.py:15: PerformanceWarning: DataFrame is highly fragmented.  This is usually the result of calling `frame.insert` many times, which has poor performance.  Consider joining all columns at once using pd.concat(axis=1) instead. To get a de-fragmented frame, use `newframe = frame.copy()`\n",
      "  encoded_features[feature_names] = encoded_df.values\n",
      "C:\\Users\\user\\AppData\\Local\\Temp\\ipykernel_4456\\484176590.py:15: PerformanceWarning: DataFrame is highly fragmented.  This is usually the result of calling `frame.insert` many times, which has poor performance.  Consider joining all columns at once using pd.concat(axis=1) instead. To get a de-fragmented frame, use `newframe = frame.copy()`\n",
      "  encoded_features[feature_names] = encoded_df.values\n",
      "C:\\Users\\user\\AppData\\Local\\Temp\\ipykernel_4456\\484176590.py:15: PerformanceWarning: DataFrame is highly fragmented.  This is usually the result of calling `frame.insert` many times, which has poor performance.  Consider joining all columns at once using pd.concat(axis=1) instead. To get a de-fragmented frame, use `newframe = frame.copy()`\n",
      "  encoded_features[feature_names] = encoded_df.values\n",
      "C:\\Users\\user\\AppData\\Local\\Temp\\ipykernel_4456\\484176590.py:15: PerformanceWarning: DataFrame is highly fragmented.  This is usually the result of calling `frame.insert` many times, which has poor performance.  Consider joining all columns at once using pd.concat(axis=1) instead. To get a de-fragmented frame, use `newframe = frame.copy()`\n",
      "  encoded_features[feature_names] = encoded_df.values\n",
      "C:\\Users\\user\\AppData\\Local\\Temp\\ipykernel_4456\\484176590.py:15: PerformanceWarning: DataFrame is highly fragmented.  This is usually the result of calling `frame.insert` many times, which has poor performance.  Consider joining all columns at once using pd.concat(axis=1) instead. To get a de-fragmented frame, use `newframe = frame.copy()`\n",
      "  encoded_features[feature_names] = encoded_df.values\n",
      "C:\\Users\\user\\AppData\\Local\\Temp\\ipykernel_4456\\484176590.py:15: PerformanceWarning: DataFrame is highly fragmented.  This is usually the result of calling `frame.insert` many times, which has poor performance.  Consider joining all columns at once using pd.concat(axis=1) instead. To get a de-fragmented frame, use `newframe = frame.copy()`\n",
      "  encoded_features[feature_names] = encoded_df.values\n",
      "C:\\Users\\user\\AppData\\Local\\Temp\\ipykernel_4456\\484176590.py:15: PerformanceWarning: DataFrame is highly fragmented.  This is usually the result of calling `frame.insert` many times, which has poor performance.  Consider joining all columns at once using pd.concat(axis=1) instead. To get a de-fragmented frame, use `newframe = frame.copy()`\n",
      "  encoded_features[feature_names] = encoded_df.values\n",
      "C:\\Users\\user\\AppData\\Local\\Temp\\ipykernel_4456\\484176590.py:15: PerformanceWarning: DataFrame is highly fragmented.  This is usually the result of calling `frame.insert` many times, which has poor performance.  Consider joining all columns at once using pd.concat(axis=1) instead. To get a de-fragmented frame, use `newframe = frame.copy()`\n",
      "  encoded_features[feature_names] = encoded_df.values\n",
      "C:\\Users\\user\\AppData\\Local\\Temp\\ipykernel_4456\\484176590.py:15: PerformanceWarning: DataFrame is highly fragmented.  This is usually the result of calling `frame.insert` many times, which has poor performance.  Consider joining all columns at once using pd.concat(axis=1) instead. To get a de-fragmented frame, use `newframe = frame.copy()`\n",
      "  encoded_features[feature_names] = encoded_df.values\n",
      "C:\\Users\\user\\AppData\\Local\\Temp\\ipykernel_4456\\484176590.py:15: PerformanceWarning: DataFrame is highly fragmented.  This is usually the result of calling `frame.insert` many times, which has poor performance.  Consider joining all columns at once using pd.concat(axis=1) instead. To get a de-fragmented frame, use `newframe = frame.copy()`\n",
      "  encoded_features[feature_names] = encoded_df.values\n",
      "C:\\Users\\user\\AppData\\Local\\Temp\\ipykernel_4456\\484176590.py:15: PerformanceWarning: DataFrame is highly fragmented.  This is usually the result of calling `frame.insert` many times, which has poor performance.  Consider joining all columns at once using pd.concat(axis=1) instead. To get a de-fragmented frame, use `newframe = frame.copy()`\n",
      "  encoded_features[feature_names] = encoded_df.values\n",
      "C:\\Users\\user\\AppData\\Local\\Temp\\ipykernel_4456\\484176590.py:15: PerformanceWarning: DataFrame is highly fragmented.  This is usually the result of calling `frame.insert` many times, which has poor performance.  Consider joining all columns at once using pd.concat(axis=1) instead. To get a de-fragmented frame, use `newframe = frame.copy()`\n",
      "  encoded_features[feature_names] = encoded_df.values\n",
      "C:\\Users\\user\\AppData\\Local\\Temp\\ipykernel_4456\\484176590.py:15: PerformanceWarning: DataFrame is highly fragmented.  This is usually the result of calling `frame.insert` many times, which has poor performance.  Consider joining all columns at once using pd.concat(axis=1) instead. To get a de-fragmented frame, use `newframe = frame.copy()`\n",
      "  encoded_features[feature_names] = encoded_df.values\n",
      "C:\\Users\\user\\AppData\\Local\\Temp\\ipykernel_4456\\484176590.py:15: PerformanceWarning: DataFrame is highly fragmented.  This is usually the result of calling `frame.insert` many times, which has poor performance.  Consider joining all columns at once using pd.concat(axis=1) instead. To get a de-fragmented frame, use `newframe = frame.copy()`\n",
      "  encoded_features[feature_names] = encoded_df.values\n",
      "C:\\Users\\user\\AppData\\Local\\Temp\\ipykernel_4456\\484176590.py:15: PerformanceWarning: DataFrame is highly fragmented.  This is usually the result of calling `frame.insert` many times, which has poor performance.  Consider joining all columns at once using pd.concat(axis=1) instead. To get a de-fragmented frame, use `newframe = frame.copy()`\n",
      "  encoded_features[feature_names] = encoded_df.values\n",
      "C:\\Users\\user\\AppData\\Local\\Temp\\ipykernel_4456\\484176590.py:15: PerformanceWarning: DataFrame is highly fragmented.  This is usually the result of calling `frame.insert` many times, which has poor performance.  Consider joining all columns at once using pd.concat(axis=1) instead. To get a de-fragmented frame, use `newframe = frame.copy()`\n",
      "  encoded_features[feature_names] = encoded_df.values\n",
      "C:\\Users\\user\\AppData\\Local\\Temp\\ipykernel_4456\\484176590.py:15: PerformanceWarning: DataFrame is highly fragmented.  This is usually the result of calling `frame.insert` many times, which has poor performance.  Consider joining all columns at once using pd.concat(axis=1) instead. To get a de-fragmented frame, use `newframe = frame.copy()`\n",
      "  encoded_features[feature_names] = encoded_df.values\n",
      "C:\\Users\\user\\AppData\\Local\\Temp\\ipykernel_4456\\484176590.py:15: PerformanceWarning: DataFrame is highly fragmented.  This is usually the result of calling `frame.insert` many times, which has poor performance.  Consider joining all columns at once using pd.concat(axis=1) instead. To get a de-fragmented frame, use `newframe = frame.copy()`\n",
      "  encoded_features[feature_names] = encoded_df.values\n",
      "C:\\Users\\user\\AppData\\Local\\Temp\\ipykernel_4456\\484176590.py:15: PerformanceWarning: DataFrame is highly fragmented.  This is usually the result of calling `frame.insert` many times, which has poor performance.  Consider joining all columns at once using pd.concat(axis=1) instead. To get a de-fragmented frame, use `newframe = frame.copy()`\n",
      "  encoded_features[feature_names] = encoded_df.values\n",
      "C:\\Users\\user\\AppData\\Local\\Temp\\ipykernel_4456\\484176590.py:15: PerformanceWarning: DataFrame is highly fragmented.  This is usually the result of calling `frame.insert` many times, which has poor performance.  Consider joining all columns at once using pd.concat(axis=1) instead. To get a de-fragmented frame, use `newframe = frame.copy()`\n",
      "  encoded_features[feature_names] = encoded_df.values\n",
      "C:\\Users\\user\\AppData\\Local\\Temp\\ipykernel_4456\\484176590.py:15: PerformanceWarning: DataFrame is highly fragmented.  This is usually the result of calling `frame.insert` many times, which has poor performance.  Consider joining all columns at once using pd.concat(axis=1) instead. To get a de-fragmented frame, use `newframe = frame.copy()`\n",
      "  encoded_features[feature_names] = encoded_df.values\n",
      "C:\\Users\\user\\AppData\\Local\\Temp\\ipykernel_4456\\484176590.py:15: PerformanceWarning: DataFrame is highly fragmented.  This is usually the result of calling `frame.insert` many times, which has poor performance.  Consider joining all columns at once using pd.concat(axis=1) instead. To get a de-fragmented frame, use `newframe = frame.copy()`\n",
      "  encoded_features[feature_names] = encoded_df.values\n",
      "C:\\Users\\user\\AppData\\Local\\Temp\\ipykernel_4456\\484176590.py:15: PerformanceWarning: DataFrame is highly fragmented.  This is usually the result of calling `frame.insert` many times, which has poor performance.  Consider joining all columns at once using pd.concat(axis=1) instead. To get a de-fragmented frame, use `newframe = frame.copy()`\n",
      "  encoded_features[feature_names] = encoded_df.values\n",
      "C:\\Users\\user\\AppData\\Local\\Temp\\ipykernel_4456\\484176590.py:15: PerformanceWarning: DataFrame is highly fragmented.  This is usually the result of calling `frame.insert` many times, which has poor performance.  Consider joining all columns at once using pd.concat(axis=1) instead. To get a de-fragmented frame, use `newframe = frame.copy()`\n",
      "  encoded_features[feature_names] = encoded_df.values\n",
      "C:\\Users\\user\\AppData\\Local\\Temp\\ipykernel_4456\\484176590.py:15: PerformanceWarning: DataFrame is highly fragmented.  This is usually the result of calling `frame.insert` many times, which has poor performance.  Consider joining all columns at once using pd.concat(axis=1) instead. To get a de-fragmented frame, use `newframe = frame.copy()`\n",
      "  encoded_features[feature_names] = encoded_df.values\n",
      "C:\\Users\\user\\anaconda3\\lib\\site-packages\\sklearn\\preprocessing\\_encoders.py:828: FutureWarning: `sparse` was renamed to `sparse_output` in version 1.2 and will be removed in 1.4. `sparse_output` is ignored unless you leave `sparse` to its default value.\n",
      "  warnings.warn(\n"
     ]
    },
    {
     "name": "stderr",
     "output_type": "stream",
     "text": [
      "C:\\Users\\user\\AppData\\Local\\Temp\\ipykernel_4456\\484176590.py:15: PerformanceWarning: DataFrame is highly fragmented.  This is usually the result of calling `frame.insert` many times, which has poor performance.  Consider joining all columns at once using pd.concat(axis=1) instead. To get a de-fragmented frame, use `newframe = frame.copy()`\n",
      "  encoded_features[feature_names] = encoded_df.values\n",
      "C:\\Users\\user\\AppData\\Local\\Temp\\ipykernel_4456\\484176590.py:15: PerformanceWarning: DataFrame is highly fragmented.  This is usually the result of calling `frame.insert` many times, which has poor performance.  Consider joining all columns at once using pd.concat(axis=1) instead. To get a de-fragmented frame, use `newframe = frame.copy()`\n",
      "  encoded_features[feature_names] = encoded_df.values\n",
      "C:\\Users\\user\\AppData\\Local\\Temp\\ipykernel_4456\\484176590.py:15: PerformanceWarning: DataFrame is highly fragmented.  This is usually the result of calling `frame.insert` many times, which has poor performance.  Consider joining all columns at once using pd.concat(axis=1) instead. To get a de-fragmented frame, use `newframe = frame.copy()`\n",
      "  encoded_features[feature_names] = encoded_df.values\n",
      "C:\\Users\\user\\AppData\\Local\\Temp\\ipykernel_4456\\484176590.py:15: PerformanceWarning: DataFrame is highly fragmented.  This is usually the result of calling `frame.insert` many times, which has poor performance.  Consider joining all columns at once using pd.concat(axis=1) instead. To get a de-fragmented frame, use `newframe = frame.copy()`\n",
      "  encoded_features[feature_names] = encoded_df.values\n",
      "C:\\Users\\user\\AppData\\Local\\Temp\\ipykernel_4456\\484176590.py:15: PerformanceWarning: DataFrame is highly fragmented.  This is usually the result of calling `frame.insert` many times, which has poor performance.  Consider joining all columns at once using pd.concat(axis=1) instead. To get a de-fragmented frame, use `newframe = frame.copy()`\n",
      "  encoded_features[feature_names] = encoded_df.values\n",
      "C:\\Users\\user\\AppData\\Local\\Temp\\ipykernel_4456\\484176590.py:15: PerformanceWarning: DataFrame is highly fragmented.  This is usually the result of calling `frame.insert` many times, which has poor performance.  Consider joining all columns at once using pd.concat(axis=1) instead. To get a de-fragmented frame, use `newframe = frame.copy()`\n",
      "  encoded_features[feature_names] = encoded_df.values\n",
      "C:\\Users\\user\\AppData\\Local\\Temp\\ipykernel_4456\\484176590.py:15: PerformanceWarning: DataFrame is highly fragmented.  This is usually the result of calling `frame.insert` many times, which has poor performance.  Consider joining all columns at once using pd.concat(axis=1) instead. To get a de-fragmented frame, use `newframe = frame.copy()`\n",
      "  encoded_features[feature_names] = encoded_df.values\n",
      "C:\\Users\\user\\AppData\\Local\\Temp\\ipykernel_4456\\484176590.py:15: PerformanceWarning: DataFrame is highly fragmented.  This is usually the result of calling `frame.insert` many times, which has poor performance.  Consider joining all columns at once using pd.concat(axis=1) instead. To get a de-fragmented frame, use `newframe = frame.copy()`\n",
      "  encoded_features[feature_names] = encoded_df.values\n",
      "C:\\Users\\user\\AppData\\Local\\Temp\\ipykernel_4456\\484176590.py:15: PerformanceWarning: DataFrame is highly fragmented.  This is usually the result of calling `frame.insert` many times, which has poor performance.  Consider joining all columns at once using pd.concat(axis=1) instead. To get a de-fragmented frame, use `newframe = frame.copy()`\n",
      "  encoded_features[feature_names] = encoded_df.values\n",
      "C:\\Users\\user\\AppData\\Local\\Temp\\ipykernel_4456\\484176590.py:15: PerformanceWarning: DataFrame is highly fragmented.  This is usually the result of calling `frame.insert` many times, which has poor performance.  Consider joining all columns at once using pd.concat(axis=1) instead. To get a de-fragmented frame, use `newframe = frame.copy()`\n",
      "  encoded_features[feature_names] = encoded_df.values\n",
      "C:\\Users\\user\\AppData\\Local\\Temp\\ipykernel_4456\\484176590.py:15: PerformanceWarning: DataFrame is highly fragmented.  This is usually the result of calling `frame.insert` many times, which has poor performance.  Consider joining all columns at once using pd.concat(axis=1) instead. To get a de-fragmented frame, use `newframe = frame.copy()`\n",
      "  encoded_features[feature_names] = encoded_df.values\n",
      "C:\\Users\\user\\AppData\\Local\\Temp\\ipykernel_4456\\484176590.py:15: PerformanceWarning: DataFrame is highly fragmented.  This is usually the result of calling `frame.insert` many times, which has poor performance.  Consider joining all columns at once using pd.concat(axis=1) instead. To get a de-fragmented frame, use `newframe = frame.copy()`\n",
      "  encoded_features[feature_names] = encoded_df.values\n",
      "C:\\Users\\user\\AppData\\Local\\Temp\\ipykernel_4456\\484176590.py:15: PerformanceWarning: DataFrame is highly fragmented.  This is usually the result of calling `frame.insert` many times, which has poor performance.  Consider joining all columns at once using pd.concat(axis=1) instead. To get a de-fragmented frame, use `newframe = frame.copy()`\n",
      "  encoded_features[feature_names] = encoded_df.values\n",
      "C:\\Users\\user\\AppData\\Local\\Temp\\ipykernel_4456\\484176590.py:15: PerformanceWarning: DataFrame is highly fragmented.  This is usually the result of calling `frame.insert` many times, which has poor performance.  Consider joining all columns at once using pd.concat(axis=1) instead. To get a de-fragmented frame, use `newframe = frame.copy()`\n",
      "  encoded_features[feature_names] = encoded_df.values\n",
      "C:\\Users\\user\\AppData\\Local\\Temp\\ipykernel_4456\\484176590.py:15: PerformanceWarning: DataFrame is highly fragmented.  This is usually the result of calling `frame.insert` many times, which has poor performance.  Consider joining all columns at once using pd.concat(axis=1) instead. To get a de-fragmented frame, use `newframe = frame.copy()`\n",
      "  encoded_features[feature_names] = encoded_df.values\n",
      "C:\\Users\\user\\AppData\\Local\\Temp\\ipykernel_4456\\484176590.py:15: PerformanceWarning: DataFrame is highly fragmented.  This is usually the result of calling `frame.insert` many times, which has poor performance.  Consider joining all columns at once using pd.concat(axis=1) instead. To get a de-fragmented frame, use `newframe = frame.copy()`\n",
      "  encoded_features[feature_names] = encoded_df.values\n",
      "C:\\Users\\user\\AppData\\Local\\Temp\\ipykernel_4456\\484176590.py:15: PerformanceWarning: DataFrame is highly fragmented.  This is usually the result of calling `frame.insert` many times, which has poor performance.  Consider joining all columns at once using pd.concat(axis=1) instead. To get a de-fragmented frame, use `newframe = frame.copy()`\n",
      "  encoded_features[feature_names] = encoded_df.values\n",
      "C:\\Users\\user\\AppData\\Local\\Temp\\ipykernel_4456\\484176590.py:15: PerformanceWarning: DataFrame is highly fragmented.  This is usually the result of calling `frame.insert` many times, which has poor performance.  Consider joining all columns at once using pd.concat(axis=1) instead. To get a de-fragmented frame, use `newframe = frame.copy()`\n",
      "  encoded_features[feature_names] = encoded_df.values\n",
      "C:\\Users\\user\\AppData\\Local\\Temp\\ipykernel_4456\\484176590.py:15: PerformanceWarning: DataFrame is highly fragmented.  This is usually the result of calling `frame.insert` many times, which has poor performance.  Consider joining all columns at once using pd.concat(axis=1) instead. To get a de-fragmented frame, use `newframe = frame.copy()`\n",
      "  encoded_features[feature_names] = encoded_df.values\n",
      "C:\\Users\\user\\AppData\\Local\\Temp\\ipykernel_4456\\484176590.py:15: PerformanceWarning: DataFrame is highly fragmented.  This is usually the result of calling `frame.insert` many times, which has poor performance.  Consider joining all columns at once using pd.concat(axis=1) instead. To get a de-fragmented frame, use `newframe = frame.copy()`\n",
      "  encoded_features[feature_names] = encoded_df.values\n",
      "C:\\Users\\user\\AppData\\Local\\Temp\\ipykernel_4456\\484176590.py:15: PerformanceWarning: DataFrame is highly fragmented.  This is usually the result of calling `frame.insert` many times, which has poor performance.  Consider joining all columns at once using pd.concat(axis=1) instead. To get a de-fragmented frame, use `newframe = frame.copy()`\n",
      "  encoded_features[feature_names] = encoded_df.values\n",
      "C:\\Users\\user\\AppData\\Local\\Temp\\ipykernel_4456\\484176590.py:15: PerformanceWarning: DataFrame is highly fragmented.  This is usually the result of calling `frame.insert` many times, which has poor performance.  Consider joining all columns at once using pd.concat(axis=1) instead. To get a de-fragmented frame, use `newframe = frame.copy()`\n",
      "  encoded_features[feature_names] = encoded_df.values\n",
      "C:\\Users\\user\\AppData\\Local\\Temp\\ipykernel_4456\\484176590.py:15: PerformanceWarning: DataFrame is highly fragmented.  This is usually the result of calling `frame.insert` many times, which has poor performance.  Consider joining all columns at once using pd.concat(axis=1) instead. To get a de-fragmented frame, use `newframe = frame.copy()`\n",
      "  encoded_features[feature_names] = encoded_df.values\n",
      "C:\\Users\\user\\AppData\\Local\\Temp\\ipykernel_4456\\484176590.py:15: PerformanceWarning: DataFrame is highly fragmented.  This is usually the result of calling `frame.insert` many times, which has poor performance.  Consider joining all columns at once using pd.concat(axis=1) instead. To get a de-fragmented frame, use `newframe = frame.copy()`\n",
      "  encoded_features[feature_names] = encoded_df.values\n",
      "C:\\Users\\user\\AppData\\Local\\Temp\\ipykernel_4456\\484176590.py:15: PerformanceWarning: DataFrame is highly fragmented.  This is usually the result of calling `frame.insert` many times, which has poor performance.  Consider joining all columns at once using pd.concat(axis=1) instead. To get a de-fragmented frame, use `newframe = frame.copy()`\n",
      "  encoded_features[feature_names] = encoded_df.values\n",
      "C:\\Users\\user\\AppData\\Local\\Temp\\ipykernel_4456\\484176590.py:15: PerformanceWarning: DataFrame is highly fragmented.  This is usually the result of calling `frame.insert` many times, which has poor performance.  Consider joining all columns at once using pd.concat(axis=1) instead. To get a de-fragmented frame, use `newframe = frame.copy()`\n",
      "  encoded_features[feature_names] = encoded_df.values\n",
      "C:\\Users\\user\\AppData\\Local\\Temp\\ipykernel_4456\\484176590.py:15: PerformanceWarning: DataFrame is highly fragmented.  This is usually the result of calling `frame.insert` many times, which has poor performance.  Consider joining all columns at once using pd.concat(axis=1) instead. To get a de-fragmented frame, use `newframe = frame.copy()`\n",
      "  encoded_features[feature_names] = encoded_df.values\n",
      "C:\\Users\\user\\AppData\\Local\\Temp\\ipykernel_4456\\484176590.py:15: PerformanceWarning: DataFrame is highly fragmented.  This is usually the result of calling `frame.insert` many times, which has poor performance.  Consider joining all columns at once using pd.concat(axis=1) instead. To get a de-fragmented frame, use `newframe = frame.copy()`\n",
      "  encoded_features[feature_names] = encoded_df.values\n",
      "C:\\Users\\user\\AppData\\Local\\Temp\\ipykernel_4456\\484176590.py:15: PerformanceWarning: DataFrame is highly fragmented.  This is usually the result of calling `frame.insert` many times, which has poor performance.  Consider joining all columns at once using pd.concat(axis=1) instead. To get a de-fragmented frame, use `newframe = frame.copy()`\n",
      "  encoded_features[feature_names] = encoded_df.values\n",
      "C:\\Users\\user\\AppData\\Local\\Temp\\ipykernel_4456\\484176590.py:15: PerformanceWarning: DataFrame is highly fragmented.  This is usually the result of calling `frame.insert` many times, which has poor performance.  Consider joining all columns at once using pd.concat(axis=1) instead. To get a de-fragmented frame, use `newframe = frame.copy()`\n",
      "  encoded_features[feature_names] = encoded_df.values\n",
      "C:\\Users\\user\\AppData\\Local\\Temp\\ipykernel_4456\\484176590.py:15: PerformanceWarning: DataFrame is highly fragmented.  This is usually the result of calling `frame.insert` many times, which has poor performance.  Consider joining all columns at once using pd.concat(axis=1) instead. To get a de-fragmented frame, use `newframe = frame.copy()`\n",
      "  encoded_features[feature_names] = encoded_df.values\n",
      "C:\\Users\\user\\AppData\\Local\\Temp\\ipykernel_4456\\484176590.py:15: PerformanceWarning: DataFrame is highly fragmented.  This is usually the result of calling `frame.insert` many times, which has poor performance.  Consider joining all columns at once using pd.concat(axis=1) instead. To get a de-fragmented frame, use `newframe = frame.copy()`\n",
      "  encoded_features[feature_names] = encoded_df.values\n",
      "C:\\Users\\user\\AppData\\Local\\Temp\\ipykernel_4456\\484176590.py:15: PerformanceWarning: DataFrame is highly fragmented.  This is usually the result of calling `frame.insert` many times, which has poor performance.  Consider joining all columns at once using pd.concat(axis=1) instead. To get a de-fragmented frame, use `newframe = frame.copy()`\n",
      "  encoded_features[feature_names] = encoded_df.values\n",
      "C:\\Users\\user\\AppData\\Local\\Temp\\ipykernel_4456\\484176590.py:15: PerformanceWarning: DataFrame is highly fragmented.  This is usually the result of calling `frame.insert` many times, which has poor performance.  Consider joining all columns at once using pd.concat(axis=1) instead. To get a de-fragmented frame, use `newframe = frame.copy()`\n",
      "  encoded_features[feature_names] = encoded_df.values\n",
      "C:\\Users\\user\\AppData\\Local\\Temp\\ipykernel_4456\\484176590.py:15: PerformanceWarning: DataFrame is highly fragmented.  This is usually the result of calling `frame.insert` many times, which has poor performance.  Consider joining all columns at once using pd.concat(axis=1) instead. To get a de-fragmented frame, use `newframe = frame.copy()`\n",
      "  encoded_features[feature_names] = encoded_df.values\n",
      "C:\\Users\\user\\AppData\\Local\\Temp\\ipykernel_4456\\484176590.py:15: PerformanceWarning: DataFrame is highly fragmented.  This is usually the result of calling `frame.insert` many times, which has poor performance.  Consider joining all columns at once using pd.concat(axis=1) instead. To get a de-fragmented frame, use `newframe = frame.copy()`\n",
      "  encoded_features[feature_names] = encoded_df.values\n",
      "C:\\Users\\user\\AppData\\Local\\Temp\\ipykernel_4456\\484176590.py:15: PerformanceWarning: DataFrame is highly fragmented.  This is usually the result of calling `frame.insert` many times, which has poor performance.  Consider joining all columns at once using pd.concat(axis=1) instead. To get a de-fragmented frame, use `newframe = frame.copy()`\n",
      "  encoded_features[feature_names] = encoded_df.values\n",
      "C:\\Users\\user\\AppData\\Local\\Temp\\ipykernel_4456\\484176590.py:15: PerformanceWarning: DataFrame is highly fragmented.  This is usually the result of calling `frame.insert` many times, which has poor performance.  Consider joining all columns at once using pd.concat(axis=1) instead. To get a de-fragmented frame, use `newframe = frame.copy()`\n",
      "  encoded_features[feature_names] = encoded_df.values\n",
      "C:\\Users\\user\\AppData\\Local\\Temp\\ipykernel_4456\\484176590.py:15: PerformanceWarning: DataFrame is highly fragmented.  This is usually the result of calling `frame.insert` many times, which has poor performance.  Consider joining all columns at once using pd.concat(axis=1) instead. To get a de-fragmented frame, use `newframe = frame.copy()`\n",
      "  encoded_features[feature_names] = encoded_df.values\n",
      "C:\\Users\\user\\AppData\\Local\\Temp\\ipykernel_4456\\484176590.py:15: PerformanceWarning: DataFrame is highly fragmented.  This is usually the result of calling `frame.insert` many times, which has poor performance.  Consider joining all columns at once using pd.concat(axis=1) instead. To get a de-fragmented frame, use `newframe = frame.copy()`\n",
      "  encoded_features[feature_names] = encoded_df.values\n",
      "C:\\Users\\user\\AppData\\Local\\Temp\\ipykernel_4456\\484176590.py:15: PerformanceWarning: DataFrame is highly fragmented.  This is usually the result of calling `frame.insert` many times, which has poor performance.  Consider joining all columns at once using pd.concat(axis=1) instead. To get a de-fragmented frame, use `newframe = frame.copy()`\n",
      "  encoded_features[feature_names] = encoded_df.values\n",
      "C:\\Users\\user\\AppData\\Local\\Temp\\ipykernel_4456\\484176590.py:15: PerformanceWarning: DataFrame is highly fragmented.  This is usually the result of calling `frame.insert` many times, which has poor performance.  Consider joining all columns at once using pd.concat(axis=1) instead. To get a de-fragmented frame, use `newframe = frame.copy()`\n",
      "  encoded_features[feature_names] = encoded_df.values\n",
      "C:\\Users\\user\\AppData\\Local\\Temp\\ipykernel_4456\\484176590.py:15: PerformanceWarning: DataFrame is highly fragmented.  This is usually the result of calling `frame.insert` many times, which has poor performance.  Consider joining all columns at once using pd.concat(axis=1) instead. To get a de-fragmented frame, use `newframe = frame.copy()`\n",
      "  encoded_features[feature_names] = encoded_df.values\n",
      "C:\\Users\\user\\AppData\\Local\\Temp\\ipykernel_4456\\484176590.py:15: PerformanceWarning: DataFrame is highly fragmented.  This is usually the result of calling `frame.insert` many times, which has poor performance.  Consider joining all columns at once using pd.concat(axis=1) instead. To get a de-fragmented frame, use `newframe = frame.copy()`\n",
      "  encoded_features[feature_names] = encoded_df.values\n",
      "C:\\Users\\user\\AppData\\Local\\Temp\\ipykernel_4456\\484176590.py:15: PerformanceWarning: DataFrame is highly fragmented.  This is usually the result of calling `frame.insert` many times, which has poor performance.  Consider joining all columns at once using pd.concat(axis=1) instead. To get a de-fragmented frame, use `newframe = frame.copy()`\n",
      "  encoded_features[feature_names] = encoded_df.values\n",
      "C:\\Users\\user\\AppData\\Local\\Temp\\ipykernel_4456\\484176590.py:15: PerformanceWarning: DataFrame is highly fragmented.  This is usually the result of calling `frame.insert` many times, which has poor performance.  Consider joining all columns at once using pd.concat(axis=1) instead. To get a de-fragmented frame, use `newframe = frame.copy()`\n",
      "  encoded_features[feature_names] = encoded_df.values\n",
      "C:\\Users\\user\\AppData\\Local\\Temp\\ipykernel_4456\\484176590.py:15: PerformanceWarning: DataFrame is highly fragmented.  This is usually the result of calling `frame.insert` many times, which has poor performance.  Consider joining all columns at once using pd.concat(axis=1) instead. To get a de-fragmented frame, use `newframe = frame.copy()`\n",
      "  encoded_features[feature_names] = encoded_df.values\n",
      "C:\\Users\\user\\AppData\\Local\\Temp\\ipykernel_4456\\484176590.py:15: PerformanceWarning: DataFrame is highly fragmented.  This is usually the result of calling `frame.insert` many times, which has poor performance.  Consider joining all columns at once using pd.concat(axis=1) instead. To get a de-fragmented frame, use `newframe = frame.copy()`\n",
      "  encoded_features[feature_names] = encoded_df.values\n",
      "C:\\Users\\user\\AppData\\Local\\Temp\\ipykernel_4456\\484176590.py:15: PerformanceWarning: DataFrame is highly fragmented.  This is usually the result of calling `frame.insert` many times, which has poor performance.  Consider joining all columns at once using pd.concat(axis=1) instead. To get a de-fragmented frame, use `newframe = frame.copy()`\n",
      "  encoded_features[feature_names] = encoded_df.values\n",
      "C:\\Users\\user\\AppData\\Local\\Temp\\ipykernel_4456\\484176590.py:15: PerformanceWarning: DataFrame is highly fragmented.  This is usually the result of calling `frame.insert` many times, which has poor performance.  Consider joining all columns at once using pd.concat(axis=1) instead. To get a de-fragmented frame, use `newframe = frame.copy()`\n",
      "  encoded_features[feature_names] = encoded_df.values\n",
      "C:\\Users\\user\\AppData\\Local\\Temp\\ipykernel_4456\\484176590.py:15: PerformanceWarning: DataFrame is highly fragmented.  This is usually the result of calling `frame.insert` many times, which has poor performance.  Consider joining all columns at once using pd.concat(axis=1) instead. To get a de-fragmented frame, use `newframe = frame.copy()`\n",
      "  encoded_features[feature_names] = encoded_df.values\n",
      "C:\\Users\\user\\AppData\\Local\\Temp\\ipykernel_4456\\484176590.py:15: PerformanceWarning: DataFrame is highly fragmented.  This is usually the result of calling `frame.insert` many times, which has poor performance.  Consider joining all columns at once using pd.concat(axis=1) instead. To get a de-fragmented frame, use `newframe = frame.copy()`\n",
      "  encoded_features[feature_names] = encoded_df.values\n",
      "C:\\Users\\user\\AppData\\Local\\Temp\\ipykernel_4456\\484176590.py:15: PerformanceWarning: DataFrame is highly fragmented.  This is usually the result of calling `frame.insert` many times, which has poor performance.  Consider joining all columns at once using pd.concat(axis=1) instead. To get a de-fragmented frame, use `newframe = frame.copy()`\n",
      "  encoded_features[feature_names] = encoded_df.values\n",
      "C:\\Users\\user\\AppData\\Local\\Temp\\ipykernel_4456\\484176590.py:15: PerformanceWarning: DataFrame is highly fragmented.  This is usually the result of calling `frame.insert` many times, which has poor performance.  Consider joining all columns at once using pd.concat(axis=1) instead. To get a de-fragmented frame, use `newframe = frame.copy()`\n",
      "  encoded_features[feature_names] = encoded_df.values\n",
      "C:\\Users\\user\\AppData\\Local\\Temp\\ipykernel_4456\\484176590.py:15: PerformanceWarning: DataFrame is highly fragmented.  This is usually the result of calling `frame.insert` many times, which has poor performance.  Consider joining all columns at once using pd.concat(axis=1) instead. To get a de-fragmented frame, use `newframe = frame.copy()`\n",
      "  encoded_features[feature_names] = encoded_df.values\n",
      "C:\\Users\\user\\AppData\\Local\\Temp\\ipykernel_4456\\484176590.py:15: PerformanceWarning: DataFrame is highly fragmented.  This is usually the result of calling `frame.insert` many times, which has poor performance.  Consider joining all columns at once using pd.concat(axis=1) instead. To get a de-fragmented frame, use `newframe = frame.copy()`\n",
      "  encoded_features[feature_names] = encoded_df.values\n",
      "C:\\Users\\user\\AppData\\Local\\Temp\\ipykernel_4456\\484176590.py:15: PerformanceWarning: DataFrame is highly fragmented.  This is usually the result of calling `frame.insert` many times, which has poor performance.  Consider joining all columns at once using pd.concat(axis=1) instead. To get a de-fragmented frame, use `newframe = frame.copy()`\n",
      "  encoded_features[feature_names] = encoded_df.values\n",
      "C:\\Users\\user\\AppData\\Local\\Temp\\ipykernel_4456\\484176590.py:15: PerformanceWarning: DataFrame is highly fragmented.  This is usually the result of calling `frame.insert` many times, which has poor performance.  Consider joining all columns at once using pd.concat(axis=1) instead. To get a de-fragmented frame, use `newframe = frame.copy()`\n",
      "  encoded_features[feature_names] = encoded_df.values\n",
      "C:\\Users\\user\\AppData\\Local\\Temp\\ipykernel_4456\\484176590.py:15: PerformanceWarning: DataFrame is highly fragmented.  This is usually the result of calling `frame.insert` many times, which has poor performance.  Consider joining all columns at once using pd.concat(axis=1) instead. To get a de-fragmented frame, use `newframe = frame.copy()`\n",
      "  encoded_features[feature_names] = encoded_df.values\n",
      "C:\\Users\\user\\AppData\\Local\\Temp\\ipykernel_4456\\484176590.py:15: PerformanceWarning: DataFrame is highly fragmented.  This is usually the result of calling `frame.insert` many times, which has poor performance.  Consider joining all columns at once using pd.concat(axis=1) instead. To get a de-fragmented frame, use `newframe = frame.copy()`\n",
      "  encoded_features[feature_names] = encoded_df.values\n",
      "C:\\Users\\user\\AppData\\Local\\Temp\\ipykernel_4456\\484176590.py:15: PerformanceWarning: DataFrame is highly fragmented.  This is usually the result of calling `frame.insert` many times, which has poor performance.  Consider joining all columns at once using pd.concat(axis=1) instead. To get a de-fragmented frame, use `newframe = frame.copy()`\n",
      "  encoded_features[feature_names] = encoded_df.values\n",
      "C:\\Users\\user\\AppData\\Local\\Temp\\ipykernel_4456\\484176590.py:15: PerformanceWarning: DataFrame is highly fragmented.  This is usually the result of calling `frame.insert` many times, which has poor performance.  Consider joining all columns at once using pd.concat(axis=1) instead. To get a de-fragmented frame, use `newframe = frame.copy()`\n",
      "  encoded_features[feature_names] = encoded_df.values\n",
      "C:\\Users\\user\\AppData\\Local\\Temp\\ipykernel_4456\\484176590.py:15: PerformanceWarning: DataFrame is highly fragmented.  This is usually the result of calling `frame.insert` many times, which has poor performance.  Consider joining all columns at once using pd.concat(axis=1) instead. To get a de-fragmented frame, use `newframe = frame.copy()`\n",
      "  encoded_features[feature_names] = encoded_df.values\n",
      "C:\\Users\\user\\AppData\\Local\\Temp\\ipykernel_4456\\484176590.py:15: PerformanceWarning: DataFrame is highly fragmented.  This is usually the result of calling `frame.insert` many times, which has poor performance.  Consider joining all columns at once using pd.concat(axis=1) instead. To get a de-fragmented frame, use `newframe = frame.copy()`\n",
      "  encoded_features[feature_names] = encoded_df.values\n",
      "C:\\Users\\user\\AppData\\Local\\Temp\\ipykernel_4456\\484176590.py:15: PerformanceWarning: DataFrame is highly fragmented.  This is usually the result of calling `frame.insert` many times, which has poor performance.  Consider joining all columns at once using pd.concat(axis=1) instead. To get a de-fragmented frame, use `newframe = frame.copy()`\n",
      "  encoded_features[feature_names] = encoded_df.values\n",
      "C:\\Users\\user\\AppData\\Local\\Temp\\ipykernel_4456\\484176590.py:15: PerformanceWarning: DataFrame is highly fragmented.  This is usually the result of calling `frame.insert` many times, which has poor performance.  Consider joining all columns at once using pd.concat(axis=1) instead. To get a de-fragmented frame, use `newframe = frame.copy()`\n",
      "  encoded_features[feature_names] = encoded_df.values\n",
      "C:\\Users\\user\\AppData\\Local\\Temp\\ipykernel_4456\\484176590.py:15: PerformanceWarning: DataFrame is highly fragmented.  This is usually the result of calling `frame.insert` many times, which has poor performance.  Consider joining all columns at once using pd.concat(axis=1) instead. To get a de-fragmented frame, use `newframe = frame.copy()`\n",
      "  encoded_features[feature_names] = encoded_df.values\n",
      "C:\\Users\\user\\AppData\\Local\\Temp\\ipykernel_4456\\484176590.py:15: PerformanceWarning: DataFrame is highly fragmented.  This is usually the result of calling `frame.insert` many times, which has poor performance.  Consider joining all columns at once using pd.concat(axis=1) instead. To get a de-fragmented frame, use `newframe = frame.copy()`\n",
      "  encoded_features[feature_names] = encoded_df.values\n",
      "C:\\Users\\user\\AppData\\Local\\Temp\\ipykernel_4456\\484176590.py:15: PerformanceWarning: DataFrame is highly fragmented.  This is usually the result of calling `frame.insert` many times, which has poor performance.  Consider joining all columns at once using pd.concat(axis=1) instead. To get a de-fragmented frame, use `newframe = frame.copy()`\n",
      "  encoded_features[feature_names] = encoded_df.values\n",
      "C:\\Users\\user\\AppData\\Local\\Temp\\ipykernel_4456\\484176590.py:15: PerformanceWarning: DataFrame is highly fragmented.  This is usually the result of calling `frame.insert` many times, which has poor performance.  Consider joining all columns at once using pd.concat(axis=1) instead. To get a de-fragmented frame, use `newframe = frame.copy()`\n",
      "  encoded_features[feature_names] = encoded_df.values\n",
      "C:\\Users\\user\\AppData\\Local\\Temp\\ipykernel_4456\\484176590.py:15: PerformanceWarning: DataFrame is highly fragmented.  This is usually the result of calling `frame.insert` many times, which has poor performance.  Consider joining all columns at once using pd.concat(axis=1) instead. To get a de-fragmented frame, use `newframe = frame.copy()`\n",
      "  encoded_features[feature_names] = encoded_df.values\n",
      "C:\\Users\\user\\AppData\\Local\\Temp\\ipykernel_4456\\484176590.py:15: PerformanceWarning: DataFrame is highly fragmented.  This is usually the result of calling `frame.insert` many times, which has poor performance.  Consider joining all columns at once using pd.concat(axis=1) instead. To get a de-fragmented frame, use `newframe = frame.copy()`\n",
      "  encoded_features[feature_names] = encoded_df.values\n",
      "C:\\Users\\user\\AppData\\Local\\Temp\\ipykernel_4456\\484176590.py:15: PerformanceWarning: DataFrame is highly fragmented.  This is usually the result of calling `frame.insert` many times, which has poor performance.  Consider joining all columns at once using pd.concat(axis=1) instead. To get a de-fragmented frame, use `newframe = frame.copy()`\n",
      "  encoded_features[feature_names] = encoded_df.values\n",
      "C:\\Users\\user\\AppData\\Local\\Temp\\ipykernel_4456\\484176590.py:15: PerformanceWarning: DataFrame is highly fragmented.  This is usually the result of calling `frame.insert` many times, which has poor performance.  Consider joining all columns at once using pd.concat(axis=1) instead. To get a de-fragmented frame, use `newframe = frame.copy()`\n",
      "  encoded_features[feature_names] = encoded_df.values\n",
      "C:\\Users\\user\\AppData\\Local\\Temp\\ipykernel_4456\\484176590.py:15: PerformanceWarning: DataFrame is highly fragmented.  This is usually the result of calling `frame.insert` many times, which has poor performance.  Consider joining all columns at once using pd.concat(axis=1) instead. To get a de-fragmented frame, use `newframe = frame.copy()`\n",
      "  encoded_features[feature_names] = encoded_df.values\n",
      "C:\\Users\\user\\AppData\\Local\\Temp\\ipykernel_4456\\484176590.py:15: PerformanceWarning: DataFrame is highly fragmented.  This is usually the result of calling `frame.insert` many times, which has poor performance.  Consider joining all columns at once using pd.concat(axis=1) instead. To get a de-fragmented frame, use `newframe = frame.copy()`\n",
      "  encoded_features[feature_names] = encoded_df.values\n",
      "C:\\Users\\user\\AppData\\Local\\Temp\\ipykernel_4456\\484176590.py:15: PerformanceWarning: DataFrame is highly fragmented.  This is usually the result of calling `frame.insert` many times, which has poor performance.  Consider joining all columns at once using pd.concat(axis=1) instead. To get a de-fragmented frame, use `newframe = frame.copy()`\n",
      "  encoded_features[feature_names] = encoded_df.values\n",
      "C:\\Users\\user\\AppData\\Local\\Temp\\ipykernel_4456\\484176590.py:15: PerformanceWarning: DataFrame is highly fragmented.  This is usually the result of calling `frame.insert` many times, which has poor performance.  Consider joining all columns at once using pd.concat(axis=1) instead. To get a de-fragmented frame, use `newframe = frame.copy()`\n",
      "  encoded_features[feature_names] = encoded_df.values\n",
      "C:\\Users\\user\\AppData\\Local\\Temp\\ipykernel_4456\\484176590.py:15: PerformanceWarning: DataFrame is highly fragmented.  This is usually the result of calling `frame.insert` many times, which has poor performance.  Consider joining all columns at once using pd.concat(axis=1) instead. To get a de-fragmented frame, use `newframe = frame.copy()`\n",
      "  encoded_features[feature_names] = encoded_df.values\n",
      "C:\\Users\\user\\anaconda3\\lib\\site-packages\\sklearn\\preprocessing\\_encoders.py:828: FutureWarning: `sparse` was renamed to `sparse_output` in version 1.2 and will be removed in 1.4. `sparse_output` is ignored unless you leave `sparse` to its default value.\n",
      "  warnings.warn(\n",
      "C:\\Users\\user\\AppData\\Local\\Temp\\ipykernel_4456\\484176590.py:15: PerformanceWarning: DataFrame is highly fragmented.  This is usually the result of calling `frame.insert` many times, which has poor performance.  Consider joining all columns at once using pd.concat(axis=1) instead. To get a de-fragmented frame, use `newframe = frame.copy()`\n",
      "  encoded_features[feature_names] = encoded_df.values\n",
      "C:\\Users\\user\\AppData\\Local\\Temp\\ipykernel_4456\\484176590.py:15: PerformanceWarning: DataFrame is highly fragmented.  This is usually the result of calling `frame.insert` many times, which has poor performance.  Consider joining all columns at once using pd.concat(axis=1) instead. To get a de-fragmented frame, use `newframe = frame.copy()`\n",
      "  encoded_features[feature_names] = encoded_df.values\n",
      "C:\\Users\\user\\AppData\\Local\\Temp\\ipykernel_4456\\484176590.py:15: PerformanceWarning: DataFrame is highly fragmented.  This is usually the result of calling `frame.insert` many times, which has poor performance.  Consider joining all columns at once using pd.concat(axis=1) instead. To get a de-fragmented frame, use `newframe = frame.copy()`\n",
      "  encoded_features[feature_names] = encoded_df.values\n"
     ]
    },
    {
     "name": "stderr",
     "output_type": "stream",
     "text": [
      "C:\\Users\\user\\anaconda3\\lib\\site-packages\\sklearn\\preprocessing\\_encoders.py:828: FutureWarning: `sparse` was renamed to `sparse_output` in version 1.2 and will be removed in 1.4. `sparse_output` is ignored unless you leave `sparse` to its default value.\n",
      "  warnings.warn(\n",
      "C:\\Users\\user\\AppData\\Local\\Temp\\ipykernel_4456\\484176590.py:15: PerformanceWarning: DataFrame is highly fragmented.  This is usually the result of calling `frame.insert` many times, which has poor performance.  Consider joining all columns at once using pd.concat(axis=1) instead. To get a de-fragmented frame, use `newframe = frame.copy()`\n",
      "  encoded_features[feature_names] = encoded_df.values\n",
      "C:\\Users\\user\\AppData\\Local\\Temp\\ipykernel_4456\\484176590.py:15: PerformanceWarning: DataFrame is highly fragmented.  This is usually the result of calling `frame.insert` many times, which has poor performance.  Consider joining all columns at once using pd.concat(axis=1) instead. To get a de-fragmented frame, use `newframe = frame.copy()`\n",
      "  encoded_features[feature_names] = encoded_df.values\n",
      "C:\\Users\\user\\AppData\\Local\\Temp\\ipykernel_4456\\484176590.py:15: PerformanceWarning: DataFrame is highly fragmented.  This is usually the result of calling `frame.insert` many times, which has poor performance.  Consider joining all columns at once using pd.concat(axis=1) instead. To get a de-fragmented frame, use `newframe = frame.copy()`\n",
      "  encoded_features[feature_names] = encoded_df.values\n",
      "C:\\Users\\user\\AppData\\Local\\Temp\\ipykernel_4456\\484176590.py:15: PerformanceWarning: DataFrame is highly fragmented.  This is usually the result of calling `frame.insert` many times, which has poor performance.  Consider joining all columns at once using pd.concat(axis=1) instead. To get a de-fragmented frame, use `newframe = frame.copy()`\n",
      "  encoded_features[feature_names] = encoded_df.values\n",
      "C:\\Users\\user\\AppData\\Local\\Temp\\ipykernel_4456\\484176590.py:15: PerformanceWarning: DataFrame is highly fragmented.  This is usually the result of calling `frame.insert` many times, which has poor performance.  Consider joining all columns at once using pd.concat(axis=1) instead. To get a de-fragmented frame, use `newframe = frame.copy()`\n",
      "  encoded_features[feature_names] = encoded_df.values\n",
      "C:\\Users\\user\\AppData\\Local\\Temp\\ipykernel_4456\\484176590.py:15: PerformanceWarning: DataFrame is highly fragmented.  This is usually the result of calling `frame.insert` many times, which has poor performance.  Consider joining all columns at once using pd.concat(axis=1) instead. To get a de-fragmented frame, use `newframe = frame.copy()`\n",
      "  encoded_features[feature_names] = encoded_df.values\n",
      "C:\\Users\\user\\AppData\\Local\\Temp\\ipykernel_4456\\484176590.py:15: PerformanceWarning: DataFrame is highly fragmented.  This is usually the result of calling `frame.insert` many times, which has poor performance.  Consider joining all columns at once using pd.concat(axis=1) instead. To get a de-fragmented frame, use `newframe = frame.copy()`\n",
      "  encoded_features[feature_names] = encoded_df.values\n",
      "C:\\Users\\user\\AppData\\Local\\Temp\\ipykernel_4456\\484176590.py:15: PerformanceWarning: DataFrame is highly fragmented.  This is usually the result of calling `frame.insert` many times, which has poor performance.  Consider joining all columns at once using pd.concat(axis=1) instead. To get a de-fragmented frame, use `newframe = frame.copy()`\n",
      "  encoded_features[feature_names] = encoded_df.values\n",
      "C:\\Users\\user\\anaconda3\\lib\\site-packages\\sklearn\\preprocessing\\_encoders.py:828: FutureWarning: `sparse` was renamed to `sparse_output` in version 1.2 and will be removed in 1.4. `sparse_output` is ignored unless you leave `sparse` to its default value.\n",
      "  warnings.warn(\n",
      "C:\\Users\\user\\AppData\\Local\\Temp\\ipykernel_4456\\484176590.py:15: PerformanceWarning: DataFrame is highly fragmented.  This is usually the result of calling `frame.insert` many times, which has poor performance.  Consider joining all columns at once using pd.concat(axis=1) instead. To get a de-fragmented frame, use `newframe = frame.copy()`\n",
      "  encoded_features[feature_names] = encoded_df.values\n",
      "C:\\Users\\user\\AppData\\Local\\Temp\\ipykernel_4456\\484176590.py:15: PerformanceWarning: DataFrame is highly fragmented.  This is usually the result of calling `frame.insert` many times, which has poor performance.  Consider joining all columns at once using pd.concat(axis=1) instead. To get a de-fragmented frame, use `newframe = frame.copy()`\n",
      "  encoded_features[feature_names] = encoded_df.values\n",
      "C:\\Users\\user\\AppData\\Local\\Temp\\ipykernel_4456\\484176590.py:15: PerformanceWarning: DataFrame is highly fragmented.  This is usually the result of calling `frame.insert` many times, which has poor performance.  Consider joining all columns at once using pd.concat(axis=1) instead. To get a de-fragmented frame, use `newframe = frame.copy()`\n",
      "  encoded_features[feature_names] = encoded_df.values\n",
      "C:\\Users\\user\\AppData\\Local\\Temp\\ipykernel_4456\\484176590.py:15: PerformanceWarning: DataFrame is highly fragmented.  This is usually the result of calling `frame.insert` many times, which has poor performance.  Consider joining all columns at once using pd.concat(axis=1) instead. To get a de-fragmented frame, use `newframe = frame.copy()`\n",
      "  encoded_features[feature_names] = encoded_df.values\n",
      "C:\\Users\\user\\AppData\\Local\\Temp\\ipykernel_4456\\484176590.py:15: PerformanceWarning: DataFrame is highly fragmented.  This is usually the result of calling `frame.insert` many times, which has poor performance.  Consider joining all columns at once using pd.concat(axis=1) instead. To get a de-fragmented frame, use `newframe = frame.copy()`\n",
      "  encoded_features[feature_names] = encoded_df.values\n",
      "C:\\Users\\user\\AppData\\Local\\Temp\\ipykernel_4456\\484176590.py:15: PerformanceWarning: DataFrame is highly fragmented.  This is usually the result of calling `frame.insert` many times, which has poor performance.  Consider joining all columns at once using pd.concat(axis=1) instead. To get a de-fragmented frame, use `newframe = frame.copy()`\n",
      "  encoded_features[feature_names] = encoded_df.values\n",
      "C:\\Users\\user\\AppData\\Local\\Temp\\ipykernel_4456\\484176590.py:15: PerformanceWarning: DataFrame is highly fragmented.  This is usually the result of calling `frame.insert` many times, which has poor performance.  Consider joining all columns at once using pd.concat(axis=1) instead. To get a de-fragmented frame, use `newframe = frame.copy()`\n",
      "  encoded_features[feature_names] = encoded_df.values\n",
      "C:\\Users\\user\\AppData\\Local\\Temp\\ipykernel_4456\\484176590.py:15: PerformanceWarning: DataFrame is highly fragmented.  This is usually the result of calling `frame.insert` many times, which has poor performance.  Consider joining all columns at once using pd.concat(axis=1) instead. To get a de-fragmented frame, use `newframe = frame.copy()`\n",
      "  encoded_features[feature_names] = encoded_df.values\n",
      "C:\\Users\\user\\AppData\\Local\\Temp\\ipykernel_4456\\484176590.py:15: PerformanceWarning: DataFrame is highly fragmented.  This is usually the result of calling `frame.insert` many times, which has poor performance.  Consider joining all columns at once using pd.concat(axis=1) instead. To get a de-fragmented frame, use `newframe = frame.copy()`\n",
      "  encoded_features[feature_names] = encoded_df.values\n",
      "C:\\Users\\user\\AppData\\Local\\Temp\\ipykernel_4456\\484176590.py:15: PerformanceWarning: DataFrame is highly fragmented.  This is usually the result of calling `frame.insert` many times, which has poor performance.  Consider joining all columns at once using pd.concat(axis=1) instead. To get a de-fragmented frame, use `newframe = frame.copy()`\n",
      "  encoded_features[feature_names] = encoded_df.values\n",
      "C:\\Users\\user\\AppData\\Local\\Temp\\ipykernel_4456\\484176590.py:15: PerformanceWarning: DataFrame is highly fragmented.  This is usually the result of calling `frame.insert` many times, which has poor performance.  Consider joining all columns at once using pd.concat(axis=1) instead. To get a de-fragmented frame, use `newframe = frame.copy()`\n",
      "  encoded_features[feature_names] = encoded_df.values\n",
      "C:\\Users\\user\\AppData\\Local\\Temp\\ipykernel_4456\\484176590.py:15: PerformanceWarning: DataFrame is highly fragmented.  This is usually the result of calling `frame.insert` many times, which has poor performance.  Consider joining all columns at once using pd.concat(axis=1) instead. To get a de-fragmented frame, use `newframe = frame.copy()`\n",
      "  encoded_features[feature_names] = encoded_df.values\n",
      "C:\\Users\\user\\AppData\\Local\\Temp\\ipykernel_4456\\484176590.py:15: PerformanceWarning: DataFrame is highly fragmented.  This is usually the result of calling `frame.insert` many times, which has poor performance.  Consider joining all columns at once using pd.concat(axis=1) instead. To get a de-fragmented frame, use `newframe = frame.copy()`\n",
      "  encoded_features[feature_names] = encoded_df.values\n",
      "C:\\Users\\user\\AppData\\Local\\Temp\\ipykernel_4456\\484176590.py:15: PerformanceWarning: DataFrame is highly fragmented.  This is usually the result of calling `frame.insert` many times, which has poor performance.  Consider joining all columns at once using pd.concat(axis=1) instead. To get a de-fragmented frame, use `newframe = frame.copy()`\n",
      "  encoded_features[feature_names] = encoded_df.values\n",
      "C:\\Users\\user\\AppData\\Local\\Temp\\ipykernel_4456\\484176590.py:15: PerformanceWarning: DataFrame is highly fragmented.  This is usually the result of calling `frame.insert` many times, which has poor performance.  Consider joining all columns at once using pd.concat(axis=1) instead. To get a de-fragmented frame, use `newframe = frame.copy()`\n",
      "  encoded_features[feature_names] = encoded_df.values\n",
      "C:\\Users\\user\\AppData\\Local\\Temp\\ipykernel_4456\\484176590.py:15: PerformanceWarning: DataFrame is highly fragmented.  This is usually the result of calling `frame.insert` many times, which has poor performance.  Consider joining all columns at once using pd.concat(axis=1) instead. To get a de-fragmented frame, use `newframe = frame.copy()`\n",
      "  encoded_features[feature_names] = encoded_df.values\n",
      "C:\\Users\\user\\AppData\\Local\\Temp\\ipykernel_4456\\484176590.py:15: PerformanceWarning: DataFrame is highly fragmented.  This is usually the result of calling `frame.insert` many times, which has poor performance.  Consider joining all columns at once using pd.concat(axis=1) instead. To get a de-fragmented frame, use `newframe = frame.copy()`\n",
      "  encoded_features[feature_names] = encoded_df.values\n",
      "C:\\Users\\user\\AppData\\Local\\Temp\\ipykernel_4456\\484176590.py:15: PerformanceWarning: DataFrame is highly fragmented.  This is usually the result of calling `frame.insert` many times, which has poor performance.  Consider joining all columns at once using pd.concat(axis=1) instead. To get a de-fragmented frame, use `newframe = frame.copy()`\n",
      "  encoded_features[feature_names] = encoded_df.values\n",
      "C:\\Users\\user\\AppData\\Local\\Temp\\ipykernel_4456\\484176590.py:15: PerformanceWarning: DataFrame is highly fragmented.  This is usually the result of calling `frame.insert` many times, which has poor performance.  Consider joining all columns at once using pd.concat(axis=1) instead. To get a de-fragmented frame, use `newframe = frame.copy()`\n",
      "  encoded_features[feature_names] = encoded_df.values\n",
      "C:\\Users\\user\\anaconda3\\lib\\site-packages\\sklearn\\preprocessing\\_encoders.py:828: FutureWarning: `sparse` was renamed to `sparse_output` in version 1.2 and will be removed in 1.4. `sparse_output` is ignored unless you leave `sparse` to its default value.\n",
      "  warnings.warn(\n",
      "C:\\Users\\user\\AppData\\Local\\Temp\\ipykernel_4456\\484176590.py:15: PerformanceWarning: DataFrame is highly fragmented.  This is usually the result of calling `frame.insert` many times, which has poor performance.  Consider joining all columns at once using pd.concat(axis=1) instead. To get a de-fragmented frame, use `newframe = frame.copy()`\n",
      "  encoded_features[feature_names] = encoded_df.values\n",
      "C:\\Users\\user\\AppData\\Local\\Temp\\ipykernel_4456\\484176590.py:15: PerformanceWarning: DataFrame is highly fragmented.  This is usually the result of calling `frame.insert` many times, which has poor performance.  Consider joining all columns at once using pd.concat(axis=1) instead. To get a de-fragmented frame, use `newframe = frame.copy()`\n",
      "  encoded_features[feature_names] = encoded_df.values\n"
     ]
    },
    {
     "name": "stderr",
     "output_type": "stream",
     "text": [
      "C:\\Users\\user\\AppData\\Local\\Temp\\ipykernel_4456\\484176590.py:15: PerformanceWarning: DataFrame is highly fragmented.  This is usually the result of calling `frame.insert` many times, which has poor performance.  Consider joining all columns at once using pd.concat(axis=1) instead. To get a de-fragmented frame, use `newframe = frame.copy()`\n",
      "  encoded_features[feature_names] = encoded_df.values\n",
      "C:\\Users\\user\\AppData\\Local\\Temp\\ipykernel_4456\\484176590.py:15: PerformanceWarning: DataFrame is highly fragmented.  This is usually the result of calling `frame.insert` many times, which has poor performance.  Consider joining all columns at once using pd.concat(axis=1) instead. To get a de-fragmented frame, use `newframe = frame.copy()`\n",
      "  encoded_features[feature_names] = encoded_df.values\n",
      "C:\\Users\\user\\AppData\\Local\\Temp\\ipykernel_4456\\484176590.py:15: PerformanceWarning: DataFrame is highly fragmented.  This is usually the result of calling `frame.insert` many times, which has poor performance.  Consider joining all columns at once using pd.concat(axis=1) instead. To get a de-fragmented frame, use `newframe = frame.copy()`\n",
      "  encoded_features[feature_names] = encoded_df.values\n",
      "C:\\Users\\user\\AppData\\Local\\Temp\\ipykernel_4456\\484176590.py:15: PerformanceWarning: DataFrame is highly fragmented.  This is usually the result of calling `frame.insert` many times, which has poor performance.  Consider joining all columns at once using pd.concat(axis=1) instead. To get a de-fragmented frame, use `newframe = frame.copy()`\n",
      "  encoded_features[feature_names] = encoded_df.values\n",
      "C:\\Users\\user\\AppData\\Local\\Temp\\ipykernel_4456\\484176590.py:15: PerformanceWarning: DataFrame is highly fragmented.  This is usually the result of calling `frame.insert` many times, which has poor performance.  Consider joining all columns at once using pd.concat(axis=1) instead. To get a de-fragmented frame, use `newframe = frame.copy()`\n",
      "  encoded_features[feature_names] = encoded_df.values\n",
      "C:\\Users\\user\\AppData\\Local\\Temp\\ipykernel_4456\\484176590.py:15: PerformanceWarning: DataFrame is highly fragmented.  This is usually the result of calling `frame.insert` many times, which has poor performance.  Consider joining all columns at once using pd.concat(axis=1) instead. To get a de-fragmented frame, use `newframe = frame.copy()`\n",
      "  encoded_features[feature_names] = encoded_df.values\n",
      "C:\\Users\\user\\AppData\\Local\\Temp\\ipykernel_4456\\484176590.py:15: PerformanceWarning: DataFrame is highly fragmented.  This is usually the result of calling `frame.insert` many times, which has poor performance.  Consider joining all columns at once using pd.concat(axis=1) instead. To get a de-fragmented frame, use `newframe = frame.copy()`\n",
      "  encoded_features[feature_names] = encoded_df.values\n",
      "C:\\Users\\user\\AppData\\Local\\Temp\\ipykernel_4456\\484176590.py:15: PerformanceWarning: DataFrame is highly fragmented.  This is usually the result of calling `frame.insert` many times, which has poor performance.  Consider joining all columns at once using pd.concat(axis=1) instead. To get a de-fragmented frame, use `newframe = frame.copy()`\n",
      "  encoded_features[feature_names] = encoded_df.values\n",
      "C:\\Users\\user\\AppData\\Local\\Temp\\ipykernel_4456\\484176590.py:15: PerformanceWarning: DataFrame is highly fragmented.  This is usually the result of calling `frame.insert` many times, which has poor performance.  Consider joining all columns at once using pd.concat(axis=1) instead. To get a de-fragmented frame, use `newframe = frame.copy()`\n",
      "  encoded_features[feature_names] = encoded_df.values\n",
      "C:\\Users\\user\\AppData\\Local\\Temp\\ipykernel_4456\\484176590.py:15: PerformanceWarning: DataFrame is highly fragmented.  This is usually the result of calling `frame.insert` many times, which has poor performance.  Consider joining all columns at once using pd.concat(axis=1) instead. To get a de-fragmented frame, use `newframe = frame.copy()`\n",
      "  encoded_features[feature_names] = encoded_df.values\n",
      "C:\\Users\\user\\AppData\\Local\\Temp\\ipykernel_4456\\484176590.py:15: PerformanceWarning: DataFrame is highly fragmented.  This is usually the result of calling `frame.insert` many times, which has poor performance.  Consider joining all columns at once using pd.concat(axis=1) instead. To get a de-fragmented frame, use `newframe = frame.copy()`\n",
      "  encoded_features[feature_names] = encoded_df.values\n",
      "C:\\Users\\user\\AppData\\Local\\Temp\\ipykernel_4456\\484176590.py:15: PerformanceWarning: DataFrame is highly fragmented.  This is usually the result of calling `frame.insert` many times, which has poor performance.  Consider joining all columns at once using pd.concat(axis=1) instead. To get a de-fragmented frame, use `newframe = frame.copy()`\n",
      "  encoded_features[feature_names] = encoded_df.values\n",
      "C:\\Users\\user\\AppData\\Local\\Temp\\ipykernel_4456\\484176590.py:15: PerformanceWarning: DataFrame is highly fragmented.  This is usually the result of calling `frame.insert` many times, which has poor performance.  Consider joining all columns at once using pd.concat(axis=1) instead. To get a de-fragmented frame, use `newframe = frame.copy()`\n",
      "  encoded_features[feature_names] = encoded_df.values\n",
      "C:\\Users\\user\\AppData\\Local\\Temp\\ipykernel_4456\\484176590.py:15: PerformanceWarning: DataFrame is highly fragmented.  This is usually the result of calling `frame.insert` many times, which has poor performance.  Consider joining all columns at once using pd.concat(axis=1) instead. To get a de-fragmented frame, use `newframe = frame.copy()`\n",
      "  encoded_features[feature_names] = encoded_df.values\n",
      "C:\\Users\\user\\AppData\\Local\\Temp\\ipykernel_4456\\484176590.py:15: PerformanceWarning: DataFrame is highly fragmented.  This is usually the result of calling `frame.insert` many times, which has poor performance.  Consider joining all columns at once using pd.concat(axis=1) instead. To get a de-fragmented frame, use `newframe = frame.copy()`\n",
      "  encoded_features[feature_names] = encoded_df.values\n",
      "C:\\Users\\user\\AppData\\Local\\Temp\\ipykernel_4456\\484176590.py:15: PerformanceWarning: DataFrame is highly fragmented.  This is usually the result of calling `frame.insert` many times, which has poor performance.  Consider joining all columns at once using pd.concat(axis=1) instead. To get a de-fragmented frame, use `newframe = frame.copy()`\n",
      "  encoded_features[feature_names] = encoded_df.values\n",
      "C:\\Users\\user\\AppData\\Local\\Temp\\ipykernel_4456\\484176590.py:15: PerformanceWarning: DataFrame is highly fragmented.  This is usually the result of calling `frame.insert` many times, which has poor performance.  Consider joining all columns at once using pd.concat(axis=1) instead. To get a de-fragmented frame, use `newframe = frame.copy()`\n",
      "  encoded_features[feature_names] = encoded_df.values\n",
      "C:\\Users\\user\\AppData\\Local\\Temp\\ipykernel_4456\\484176590.py:15: PerformanceWarning: DataFrame is highly fragmented.  This is usually the result of calling `frame.insert` many times, which has poor performance.  Consider joining all columns at once using pd.concat(axis=1) instead. To get a de-fragmented frame, use `newframe = frame.copy()`\n",
      "  encoded_features[feature_names] = encoded_df.values\n",
      "C:\\Users\\user\\AppData\\Local\\Temp\\ipykernel_4456\\484176590.py:15: PerformanceWarning: DataFrame is highly fragmented.  This is usually the result of calling `frame.insert` many times, which has poor performance.  Consider joining all columns at once using pd.concat(axis=1) instead. To get a de-fragmented frame, use `newframe = frame.copy()`\n",
      "  encoded_features[feature_names] = encoded_df.values\n",
      "C:\\Users\\user\\AppData\\Local\\Temp\\ipykernel_4456\\484176590.py:15: PerformanceWarning: DataFrame is highly fragmented.  This is usually the result of calling `frame.insert` many times, which has poor performance.  Consider joining all columns at once using pd.concat(axis=1) instead. To get a de-fragmented frame, use `newframe = frame.copy()`\n",
      "  encoded_features[feature_names] = encoded_df.values\n",
      "C:\\Users\\user\\AppData\\Local\\Temp\\ipykernel_4456\\484176590.py:15: PerformanceWarning: DataFrame is highly fragmented.  This is usually the result of calling `frame.insert` many times, which has poor performance.  Consider joining all columns at once using pd.concat(axis=1) instead. To get a de-fragmented frame, use `newframe = frame.copy()`\n",
      "  encoded_features[feature_names] = encoded_df.values\n",
      "C:\\Users\\user\\AppData\\Local\\Temp\\ipykernel_4456\\484176590.py:15: PerformanceWarning: DataFrame is highly fragmented.  This is usually the result of calling `frame.insert` many times, which has poor performance.  Consider joining all columns at once using pd.concat(axis=1) instead. To get a de-fragmented frame, use `newframe = frame.copy()`\n",
      "  encoded_features[feature_names] = encoded_df.values\n",
      "C:\\Users\\user\\AppData\\Local\\Temp\\ipykernel_4456\\484176590.py:15: PerformanceWarning: DataFrame is highly fragmented.  This is usually the result of calling `frame.insert` many times, which has poor performance.  Consider joining all columns at once using pd.concat(axis=1) instead. To get a de-fragmented frame, use `newframe = frame.copy()`\n",
      "  encoded_features[feature_names] = encoded_df.values\n",
      "C:\\Users\\user\\AppData\\Local\\Temp\\ipykernel_4456\\484176590.py:15: PerformanceWarning: DataFrame is highly fragmented.  This is usually the result of calling `frame.insert` many times, which has poor performance.  Consider joining all columns at once using pd.concat(axis=1) instead. To get a de-fragmented frame, use `newframe = frame.copy()`\n",
      "  encoded_features[feature_names] = encoded_df.values\n",
      "C:\\Users\\user\\AppData\\Local\\Temp\\ipykernel_4456\\484176590.py:15: PerformanceWarning: DataFrame is highly fragmented.  This is usually the result of calling `frame.insert` many times, which has poor performance.  Consider joining all columns at once using pd.concat(axis=1) instead. To get a de-fragmented frame, use `newframe = frame.copy()`\n",
      "  encoded_features[feature_names] = encoded_df.values\n",
      "C:\\Users\\user\\AppData\\Local\\Temp\\ipykernel_4456\\484176590.py:15: PerformanceWarning: DataFrame is highly fragmented.  This is usually the result of calling `frame.insert` many times, which has poor performance.  Consider joining all columns at once using pd.concat(axis=1) instead. To get a de-fragmented frame, use `newframe = frame.copy()`\n",
      "  encoded_features[feature_names] = encoded_df.values\n",
      "C:\\Users\\user\\AppData\\Local\\Temp\\ipykernel_4456\\484176590.py:15: PerformanceWarning: DataFrame is highly fragmented.  This is usually the result of calling `frame.insert` many times, which has poor performance.  Consider joining all columns at once using pd.concat(axis=1) instead. To get a de-fragmented frame, use `newframe = frame.copy()`\n",
      "  encoded_features[feature_names] = encoded_df.values\n",
      "C:\\Users\\user\\AppData\\Local\\Temp\\ipykernel_4456\\484176590.py:15: PerformanceWarning: DataFrame is highly fragmented.  This is usually the result of calling `frame.insert` many times, which has poor performance.  Consider joining all columns at once using pd.concat(axis=1) instead. To get a de-fragmented frame, use `newframe = frame.copy()`\n",
      "  encoded_features[feature_names] = encoded_df.values\n",
      "C:\\Users\\user\\AppData\\Local\\Temp\\ipykernel_4456\\484176590.py:15: PerformanceWarning: DataFrame is highly fragmented.  This is usually the result of calling `frame.insert` many times, which has poor performance.  Consider joining all columns at once using pd.concat(axis=1) instead. To get a de-fragmented frame, use `newframe = frame.copy()`\n",
      "  encoded_features[feature_names] = encoded_df.values\n",
      "C:\\Users\\user\\AppData\\Local\\Temp\\ipykernel_4456\\484176590.py:15: PerformanceWarning: DataFrame is highly fragmented.  This is usually the result of calling `frame.insert` many times, which has poor performance.  Consider joining all columns at once using pd.concat(axis=1) instead. To get a de-fragmented frame, use `newframe = frame.copy()`\n",
      "  encoded_features[feature_names] = encoded_df.values\n",
      "C:\\Users\\user\\AppData\\Local\\Temp\\ipykernel_4456\\484176590.py:15: PerformanceWarning: DataFrame is highly fragmented.  This is usually the result of calling `frame.insert` many times, which has poor performance.  Consider joining all columns at once using pd.concat(axis=1) instead. To get a de-fragmented frame, use `newframe = frame.copy()`\n",
      "  encoded_features[feature_names] = encoded_df.values\n",
      "C:\\Users\\user\\AppData\\Local\\Temp\\ipykernel_4456\\484176590.py:15: PerformanceWarning: DataFrame is highly fragmented.  This is usually the result of calling `frame.insert` many times, which has poor performance.  Consider joining all columns at once using pd.concat(axis=1) instead. To get a de-fragmented frame, use `newframe = frame.copy()`\n",
      "  encoded_features[feature_names] = encoded_df.values\n",
      "C:\\Users\\user\\AppData\\Local\\Temp\\ipykernel_4456\\484176590.py:15: PerformanceWarning: DataFrame is highly fragmented.  This is usually the result of calling `frame.insert` many times, which has poor performance.  Consider joining all columns at once using pd.concat(axis=1) instead. To get a de-fragmented frame, use `newframe = frame.copy()`\n",
      "  encoded_features[feature_names] = encoded_df.values\n",
      "C:\\Users\\user\\AppData\\Local\\Temp\\ipykernel_4456\\484176590.py:15: PerformanceWarning: DataFrame is highly fragmented.  This is usually the result of calling `frame.insert` many times, which has poor performance.  Consider joining all columns at once using pd.concat(axis=1) instead. To get a de-fragmented frame, use `newframe = frame.copy()`\n",
      "  encoded_features[feature_names] = encoded_df.values\n",
      "C:\\Users\\user\\AppData\\Local\\Temp\\ipykernel_4456\\484176590.py:15: PerformanceWarning: DataFrame is highly fragmented.  This is usually the result of calling `frame.insert` many times, which has poor performance.  Consider joining all columns at once using pd.concat(axis=1) instead. To get a de-fragmented frame, use `newframe = frame.copy()`\n",
      "  encoded_features[feature_names] = encoded_df.values\n",
      "C:\\Users\\user\\AppData\\Local\\Temp\\ipykernel_4456\\484176590.py:15: PerformanceWarning: DataFrame is highly fragmented.  This is usually the result of calling `frame.insert` many times, which has poor performance.  Consider joining all columns at once using pd.concat(axis=1) instead. To get a de-fragmented frame, use `newframe = frame.copy()`\n",
      "  encoded_features[feature_names] = encoded_df.values\n",
      "C:\\Users\\user\\AppData\\Local\\Temp\\ipykernel_4456\\484176590.py:15: PerformanceWarning: DataFrame is highly fragmented.  This is usually the result of calling `frame.insert` many times, which has poor performance.  Consider joining all columns at once using pd.concat(axis=1) instead. To get a de-fragmented frame, use `newframe = frame.copy()`\n",
      "  encoded_features[feature_names] = encoded_df.values\n",
      "C:\\Users\\user\\AppData\\Local\\Temp\\ipykernel_4456\\484176590.py:15: PerformanceWarning: DataFrame is highly fragmented.  This is usually the result of calling `frame.insert` many times, which has poor performance.  Consider joining all columns at once using pd.concat(axis=1) instead. To get a de-fragmented frame, use `newframe = frame.copy()`\n",
      "  encoded_features[feature_names] = encoded_df.values\n",
      "C:\\Users\\user\\AppData\\Local\\Temp\\ipykernel_4456\\484176590.py:15: PerformanceWarning: DataFrame is highly fragmented.  This is usually the result of calling `frame.insert` many times, which has poor performance.  Consider joining all columns at once using pd.concat(axis=1) instead. To get a de-fragmented frame, use `newframe = frame.copy()`\n",
      "  encoded_features[feature_names] = encoded_df.values\n",
      "C:\\Users\\user\\AppData\\Local\\Temp\\ipykernel_4456\\484176590.py:15: PerformanceWarning: DataFrame is highly fragmented.  This is usually the result of calling `frame.insert` many times, which has poor performance.  Consider joining all columns at once using pd.concat(axis=1) instead. To get a de-fragmented frame, use `newframe = frame.copy()`\n",
      "  encoded_features[feature_names] = encoded_df.values\n",
      "C:\\Users\\user\\AppData\\Local\\Temp\\ipykernel_4456\\484176590.py:15: PerformanceWarning: DataFrame is highly fragmented.  This is usually the result of calling `frame.insert` many times, which has poor performance.  Consider joining all columns at once using pd.concat(axis=1) instead. To get a de-fragmented frame, use `newframe = frame.copy()`\n",
      "  encoded_features[feature_names] = encoded_df.values\n",
      "C:\\Users\\user\\AppData\\Local\\Temp\\ipykernel_4456\\484176590.py:15: PerformanceWarning: DataFrame is highly fragmented.  This is usually the result of calling `frame.insert` many times, which has poor performance.  Consider joining all columns at once using pd.concat(axis=1) instead. To get a de-fragmented frame, use `newframe = frame.copy()`\n",
      "  encoded_features[feature_names] = encoded_df.values\n",
      "C:\\Users\\user\\AppData\\Local\\Temp\\ipykernel_4456\\484176590.py:15: PerformanceWarning: DataFrame is highly fragmented.  This is usually the result of calling `frame.insert` many times, which has poor performance.  Consider joining all columns at once using pd.concat(axis=1) instead. To get a de-fragmented frame, use `newframe = frame.copy()`\n",
      "  encoded_features[feature_names] = encoded_df.values\n",
      "C:\\Users\\user\\AppData\\Local\\Temp\\ipykernel_4456\\484176590.py:15: PerformanceWarning: DataFrame is highly fragmented.  This is usually the result of calling `frame.insert` many times, which has poor performance.  Consider joining all columns at once using pd.concat(axis=1) instead. To get a de-fragmented frame, use `newframe = frame.copy()`\n",
      "  encoded_features[feature_names] = encoded_df.values\n",
      "C:\\Users\\user\\AppData\\Local\\Temp\\ipykernel_4456\\484176590.py:15: PerformanceWarning: DataFrame is highly fragmented.  This is usually the result of calling `frame.insert` many times, which has poor performance.  Consider joining all columns at once using pd.concat(axis=1) instead. To get a de-fragmented frame, use `newframe = frame.copy()`\n",
      "  encoded_features[feature_names] = encoded_df.values\n",
      "C:\\Users\\user\\AppData\\Local\\Temp\\ipykernel_4456\\484176590.py:15: PerformanceWarning: DataFrame is highly fragmented.  This is usually the result of calling `frame.insert` many times, which has poor performance.  Consider joining all columns at once using pd.concat(axis=1) instead. To get a de-fragmented frame, use `newframe = frame.copy()`\n",
      "  encoded_features[feature_names] = encoded_df.values\n",
      "C:\\Users\\user\\AppData\\Local\\Temp\\ipykernel_4456\\484176590.py:15: PerformanceWarning: DataFrame is highly fragmented.  This is usually the result of calling `frame.insert` many times, which has poor performance.  Consider joining all columns at once using pd.concat(axis=1) instead. To get a de-fragmented frame, use `newframe = frame.copy()`\n",
      "  encoded_features[feature_names] = encoded_df.values\n",
      "C:\\Users\\user\\AppData\\Local\\Temp\\ipykernel_4456\\484176590.py:15: PerformanceWarning: DataFrame is highly fragmented.  This is usually the result of calling `frame.insert` many times, which has poor performance.  Consider joining all columns at once using pd.concat(axis=1) instead. To get a de-fragmented frame, use `newframe = frame.copy()`\n",
      "  encoded_features[feature_names] = encoded_df.values\n",
      "C:\\Users\\user\\AppData\\Local\\Temp\\ipykernel_4456\\484176590.py:15: PerformanceWarning: DataFrame is highly fragmented.  This is usually the result of calling `frame.insert` many times, which has poor performance.  Consider joining all columns at once using pd.concat(axis=1) instead. To get a de-fragmented frame, use `newframe = frame.copy()`\n",
      "  encoded_features[feature_names] = encoded_df.values\n",
      "C:\\Users\\user\\AppData\\Local\\Temp\\ipykernel_4456\\484176590.py:15: PerformanceWarning: DataFrame is highly fragmented.  This is usually the result of calling `frame.insert` many times, which has poor performance.  Consider joining all columns at once using pd.concat(axis=1) instead. To get a de-fragmented frame, use `newframe = frame.copy()`\n",
      "  encoded_features[feature_names] = encoded_df.values\n",
      "C:\\Users\\user\\AppData\\Local\\Temp\\ipykernel_4456\\484176590.py:15: PerformanceWarning: DataFrame is highly fragmented.  This is usually the result of calling `frame.insert` many times, which has poor performance.  Consider joining all columns at once using pd.concat(axis=1) instead. To get a de-fragmented frame, use `newframe = frame.copy()`\n",
      "  encoded_features[feature_names] = encoded_df.values\n",
      "C:\\Users\\user\\AppData\\Local\\Temp\\ipykernel_4456\\484176590.py:15: PerformanceWarning: DataFrame is highly fragmented.  This is usually the result of calling `frame.insert` many times, which has poor performance.  Consider joining all columns at once using pd.concat(axis=1) instead. To get a de-fragmented frame, use `newframe = frame.copy()`\n",
      "  encoded_features[feature_names] = encoded_df.values\n",
      "C:\\Users\\user\\AppData\\Local\\Temp\\ipykernel_4456\\484176590.py:15: PerformanceWarning: DataFrame is highly fragmented.  This is usually the result of calling `frame.insert` many times, which has poor performance.  Consider joining all columns at once using pd.concat(axis=1) instead. To get a de-fragmented frame, use `newframe = frame.copy()`\n",
      "  encoded_features[feature_names] = encoded_df.values\n",
      "C:\\Users\\user\\AppData\\Local\\Temp\\ipykernel_4456\\484176590.py:15: PerformanceWarning: DataFrame is highly fragmented.  This is usually the result of calling `frame.insert` many times, which has poor performance.  Consider joining all columns at once using pd.concat(axis=1) instead. To get a de-fragmented frame, use `newframe = frame.copy()`\n",
      "  encoded_features[feature_names] = encoded_df.values\n",
      "C:\\Users\\user\\AppData\\Local\\Temp\\ipykernel_4456\\484176590.py:15: PerformanceWarning: DataFrame is highly fragmented.  This is usually the result of calling `frame.insert` many times, which has poor performance.  Consider joining all columns at once using pd.concat(axis=1) instead. To get a de-fragmented frame, use `newframe = frame.copy()`\n",
      "  encoded_features[feature_names] = encoded_df.values\n",
      "C:\\Users\\user\\AppData\\Local\\Temp\\ipykernel_4456\\484176590.py:15: PerformanceWarning: DataFrame is highly fragmented.  This is usually the result of calling `frame.insert` many times, which has poor performance.  Consider joining all columns at once using pd.concat(axis=1) instead. To get a de-fragmented frame, use `newframe = frame.copy()`\n",
      "  encoded_features[feature_names] = encoded_df.values\n",
      "C:\\Users\\user\\AppData\\Local\\Temp\\ipykernel_4456\\484176590.py:15: PerformanceWarning: DataFrame is highly fragmented.  This is usually the result of calling `frame.insert` many times, which has poor performance.  Consider joining all columns at once using pd.concat(axis=1) instead. To get a de-fragmented frame, use `newframe = frame.copy()`\n",
      "  encoded_features[feature_names] = encoded_df.values\n",
      "C:\\Users\\user\\AppData\\Local\\Temp\\ipykernel_4456\\484176590.py:15: PerformanceWarning: DataFrame is highly fragmented.  This is usually the result of calling `frame.insert` many times, which has poor performance.  Consider joining all columns at once using pd.concat(axis=1) instead. To get a de-fragmented frame, use `newframe = frame.copy()`\n",
      "  encoded_features[feature_names] = encoded_df.values\n",
      "C:\\Users\\user\\AppData\\Local\\Temp\\ipykernel_4456\\484176590.py:15: PerformanceWarning: DataFrame is highly fragmented.  This is usually the result of calling `frame.insert` many times, which has poor performance.  Consider joining all columns at once using pd.concat(axis=1) instead. To get a de-fragmented frame, use `newframe = frame.copy()`\n",
      "  encoded_features[feature_names] = encoded_df.values\n",
      "C:\\Users\\user\\AppData\\Local\\Temp\\ipykernel_4456\\484176590.py:15: PerformanceWarning: DataFrame is highly fragmented.  This is usually the result of calling `frame.insert` many times, which has poor performance.  Consider joining all columns at once using pd.concat(axis=1) instead. To get a de-fragmented frame, use `newframe = frame.copy()`\n",
      "  encoded_features[feature_names] = encoded_df.values\n",
      "C:\\Users\\user\\AppData\\Local\\Temp\\ipykernel_4456\\484176590.py:15: PerformanceWarning: DataFrame is highly fragmented.  This is usually the result of calling `frame.insert` many times, which has poor performance.  Consider joining all columns at once using pd.concat(axis=1) instead. To get a de-fragmented frame, use `newframe = frame.copy()`\n",
      "  encoded_features[feature_names] = encoded_df.values\n",
      "C:\\Users\\user\\AppData\\Local\\Temp\\ipykernel_4456\\484176590.py:15: PerformanceWarning: DataFrame is highly fragmented.  This is usually the result of calling `frame.insert` many times, which has poor performance.  Consider joining all columns at once using pd.concat(axis=1) instead. To get a de-fragmented frame, use `newframe = frame.copy()`\n",
      "  encoded_features[feature_names] = encoded_df.values\n",
      "C:\\Users\\user\\AppData\\Local\\Temp\\ipykernel_4456\\484176590.py:15: PerformanceWarning: DataFrame is highly fragmented.  This is usually the result of calling `frame.insert` many times, which has poor performance.  Consider joining all columns at once using pd.concat(axis=1) instead. To get a de-fragmented frame, use `newframe = frame.copy()`\n",
      "  encoded_features[feature_names] = encoded_df.values\n",
      "C:\\Users\\user\\AppData\\Local\\Temp\\ipykernel_4456\\484176590.py:15: PerformanceWarning: DataFrame is highly fragmented.  This is usually the result of calling `frame.insert` many times, which has poor performance.  Consider joining all columns at once using pd.concat(axis=1) instead. To get a de-fragmented frame, use `newframe = frame.copy()`\n",
      "  encoded_features[feature_names] = encoded_df.values\n",
      "C:\\Users\\user\\AppData\\Local\\Temp\\ipykernel_4456\\484176590.py:15: PerformanceWarning: DataFrame is highly fragmented.  This is usually the result of calling `frame.insert` many times, which has poor performance.  Consider joining all columns at once using pd.concat(axis=1) instead. To get a de-fragmented frame, use `newframe = frame.copy()`\n",
      "  encoded_features[feature_names] = encoded_df.values\n",
      "C:\\Users\\user\\AppData\\Local\\Temp\\ipykernel_4456\\484176590.py:15: PerformanceWarning: DataFrame is highly fragmented.  This is usually the result of calling `frame.insert` many times, which has poor performance.  Consider joining all columns at once using pd.concat(axis=1) instead. To get a de-fragmented frame, use `newframe = frame.copy()`\n",
      "  encoded_features[feature_names] = encoded_df.values\n",
      "C:\\Users\\user\\AppData\\Local\\Temp\\ipykernel_4456\\484176590.py:15: PerformanceWarning: DataFrame is highly fragmented.  This is usually the result of calling `frame.insert` many times, which has poor performance.  Consider joining all columns at once using pd.concat(axis=1) instead. To get a de-fragmented frame, use `newframe = frame.copy()`\n",
      "  encoded_features[feature_names] = encoded_df.values\n",
      "C:\\Users\\user\\AppData\\Local\\Temp\\ipykernel_4456\\484176590.py:15: PerformanceWarning: DataFrame is highly fragmented.  This is usually the result of calling `frame.insert` many times, which has poor performance.  Consider joining all columns at once using pd.concat(axis=1) instead. To get a de-fragmented frame, use `newframe = frame.copy()`\n",
      "  encoded_features[feature_names] = encoded_df.values\n",
      "C:\\Users\\user\\AppData\\Local\\Temp\\ipykernel_4456\\484176590.py:15: PerformanceWarning: DataFrame is highly fragmented.  This is usually the result of calling `frame.insert` many times, which has poor performance.  Consider joining all columns at once using pd.concat(axis=1) instead. To get a de-fragmented frame, use `newframe = frame.copy()`\n",
      "  encoded_features[feature_names] = encoded_df.values\n",
      "C:\\Users\\user\\AppData\\Local\\Temp\\ipykernel_4456\\484176590.py:15: PerformanceWarning: DataFrame is highly fragmented.  This is usually the result of calling `frame.insert` many times, which has poor performance.  Consider joining all columns at once using pd.concat(axis=1) instead. To get a de-fragmented frame, use `newframe = frame.copy()`\n",
      "  encoded_features[feature_names] = encoded_df.values\n",
      "C:\\Users\\user\\AppData\\Local\\Temp\\ipykernel_4456\\484176590.py:15: PerformanceWarning: DataFrame is highly fragmented.  This is usually the result of calling `frame.insert` many times, which has poor performance.  Consider joining all columns at once using pd.concat(axis=1) instead. To get a de-fragmented frame, use `newframe = frame.copy()`\n",
      "  encoded_features[feature_names] = encoded_df.values\n",
      "C:\\Users\\user\\AppData\\Local\\Temp\\ipykernel_4456\\484176590.py:15: PerformanceWarning: DataFrame is highly fragmented.  This is usually the result of calling `frame.insert` many times, which has poor performance.  Consider joining all columns at once using pd.concat(axis=1) instead. To get a de-fragmented frame, use `newframe = frame.copy()`\n",
      "  encoded_features[feature_names] = encoded_df.values\n",
      "C:\\Users\\user\\AppData\\Local\\Temp\\ipykernel_4456\\484176590.py:15: PerformanceWarning: DataFrame is highly fragmented.  This is usually the result of calling `frame.insert` many times, which has poor performance.  Consider joining all columns at once using pd.concat(axis=1) instead. To get a de-fragmented frame, use `newframe = frame.copy()`\n",
      "  encoded_features[feature_names] = encoded_df.values\n",
      "C:\\Users\\user\\AppData\\Local\\Temp\\ipykernel_4456\\484176590.py:15: PerformanceWarning: DataFrame is highly fragmented.  This is usually the result of calling `frame.insert` many times, which has poor performance.  Consider joining all columns at once using pd.concat(axis=1) instead. To get a de-fragmented frame, use `newframe = frame.copy()`\n",
      "  encoded_features[feature_names] = encoded_df.values\n",
      "C:\\Users\\user\\AppData\\Local\\Temp\\ipykernel_4456\\484176590.py:15: PerformanceWarning: DataFrame is highly fragmented.  This is usually the result of calling `frame.insert` many times, which has poor performance.  Consider joining all columns at once using pd.concat(axis=1) instead. To get a de-fragmented frame, use `newframe = frame.copy()`\n",
      "  encoded_features[feature_names] = encoded_df.values\n",
      "C:\\Users\\user\\AppData\\Local\\Temp\\ipykernel_4456\\484176590.py:15: PerformanceWarning: DataFrame is highly fragmented.  This is usually the result of calling `frame.insert` many times, which has poor performance.  Consider joining all columns at once using pd.concat(axis=1) instead. To get a de-fragmented frame, use `newframe = frame.copy()`\n",
      "  encoded_features[feature_names] = encoded_df.values\n",
      "C:\\Users\\user\\AppData\\Local\\Temp\\ipykernel_4456\\484176590.py:15: PerformanceWarning: DataFrame is highly fragmented.  This is usually the result of calling `frame.insert` many times, which has poor performance.  Consider joining all columns at once using pd.concat(axis=1) instead. To get a de-fragmented frame, use `newframe = frame.copy()`\n",
      "  encoded_features[feature_names] = encoded_df.values\n",
      "C:\\Users\\user\\AppData\\Local\\Temp\\ipykernel_4456\\484176590.py:15: PerformanceWarning: DataFrame is highly fragmented.  This is usually the result of calling `frame.insert` many times, which has poor performance.  Consider joining all columns at once using pd.concat(axis=1) instead. To get a de-fragmented frame, use `newframe = frame.copy()`\n",
      "  encoded_features[feature_names] = encoded_df.values\n"
     ]
    },
    {
     "name": "stderr",
     "output_type": "stream",
     "text": [
      "C:\\Users\\user\\AppData\\Local\\Temp\\ipykernel_4456\\484176590.py:15: PerformanceWarning: DataFrame is highly fragmented.  This is usually the result of calling `frame.insert` many times, which has poor performance.  Consider joining all columns at once using pd.concat(axis=1) instead. To get a de-fragmented frame, use `newframe = frame.copy()`\n",
      "  encoded_features[feature_names] = encoded_df.values\n",
      "C:\\Users\\user\\AppData\\Local\\Temp\\ipykernel_4456\\484176590.py:15: PerformanceWarning: DataFrame is highly fragmented.  This is usually the result of calling `frame.insert` many times, which has poor performance.  Consider joining all columns at once using pd.concat(axis=1) instead. To get a de-fragmented frame, use `newframe = frame.copy()`\n",
      "  encoded_features[feature_names] = encoded_df.values\n",
      "C:\\Users\\user\\AppData\\Local\\Temp\\ipykernel_4456\\484176590.py:15: PerformanceWarning: DataFrame is highly fragmented.  This is usually the result of calling `frame.insert` many times, which has poor performance.  Consider joining all columns at once using pd.concat(axis=1) instead. To get a de-fragmented frame, use `newframe = frame.copy()`\n",
      "  encoded_features[feature_names] = encoded_df.values\n",
      "C:\\Users\\user\\AppData\\Local\\Temp\\ipykernel_4456\\484176590.py:15: PerformanceWarning: DataFrame is highly fragmented.  This is usually the result of calling `frame.insert` many times, which has poor performance.  Consider joining all columns at once using pd.concat(axis=1) instead. To get a de-fragmented frame, use `newframe = frame.copy()`\n",
      "  encoded_features[feature_names] = encoded_df.values\n",
      "C:\\Users\\user\\AppData\\Local\\Temp\\ipykernel_4456\\484176590.py:15: PerformanceWarning: DataFrame is highly fragmented.  This is usually the result of calling `frame.insert` many times, which has poor performance.  Consider joining all columns at once using pd.concat(axis=1) instead. To get a de-fragmented frame, use `newframe = frame.copy()`\n",
      "  encoded_features[feature_names] = encoded_df.values\n",
      "C:\\Users\\user\\AppData\\Local\\Temp\\ipykernel_4456\\484176590.py:15: PerformanceWarning: DataFrame is highly fragmented.  This is usually the result of calling `frame.insert` many times, which has poor performance.  Consider joining all columns at once using pd.concat(axis=1) instead. To get a de-fragmented frame, use `newframe = frame.copy()`\n",
      "  encoded_features[feature_names] = encoded_df.values\n",
      "C:\\Users\\user\\AppData\\Local\\Temp\\ipykernel_4456\\484176590.py:15: PerformanceWarning: DataFrame is highly fragmented.  This is usually the result of calling `frame.insert` many times, which has poor performance.  Consider joining all columns at once using pd.concat(axis=1) instead. To get a de-fragmented frame, use `newframe = frame.copy()`\n",
      "  encoded_features[feature_names] = encoded_df.values\n",
      "C:\\Users\\user\\AppData\\Local\\Temp\\ipykernel_4456\\484176590.py:15: PerformanceWarning: DataFrame is highly fragmented.  This is usually the result of calling `frame.insert` many times, which has poor performance.  Consider joining all columns at once using pd.concat(axis=1) instead. To get a de-fragmented frame, use `newframe = frame.copy()`\n",
      "  encoded_features[feature_names] = encoded_df.values\n",
      "C:\\Users\\user\\AppData\\Local\\Temp\\ipykernel_4456\\484176590.py:15: PerformanceWarning: DataFrame is highly fragmented.  This is usually the result of calling `frame.insert` many times, which has poor performance.  Consider joining all columns at once using pd.concat(axis=1) instead. To get a de-fragmented frame, use `newframe = frame.copy()`\n",
      "  encoded_features[feature_names] = encoded_df.values\n",
      "C:\\Users\\user\\AppData\\Local\\Temp\\ipykernel_4456\\484176590.py:15: PerformanceWarning: DataFrame is highly fragmented.  This is usually the result of calling `frame.insert` many times, which has poor performance.  Consider joining all columns at once using pd.concat(axis=1) instead. To get a de-fragmented frame, use `newframe = frame.copy()`\n",
      "  encoded_features[feature_names] = encoded_df.values\n",
      "C:\\Users\\user\\AppData\\Local\\Temp\\ipykernel_4456\\484176590.py:15: PerformanceWarning: DataFrame is highly fragmented.  This is usually the result of calling `frame.insert` many times, which has poor performance.  Consider joining all columns at once using pd.concat(axis=1) instead. To get a de-fragmented frame, use `newframe = frame.copy()`\n",
      "  encoded_features[feature_names] = encoded_df.values\n",
      "C:\\Users\\user\\AppData\\Local\\Temp\\ipykernel_4456\\484176590.py:15: PerformanceWarning: DataFrame is highly fragmented.  This is usually the result of calling `frame.insert` many times, which has poor performance.  Consider joining all columns at once using pd.concat(axis=1) instead. To get a de-fragmented frame, use `newframe = frame.copy()`\n",
      "  encoded_features[feature_names] = encoded_df.values\n",
      "C:\\Users\\user\\AppData\\Local\\Temp\\ipykernel_4456\\484176590.py:15: PerformanceWarning: DataFrame is highly fragmented.  This is usually the result of calling `frame.insert` many times, which has poor performance.  Consider joining all columns at once using pd.concat(axis=1) instead. To get a de-fragmented frame, use `newframe = frame.copy()`\n",
      "  encoded_features[feature_names] = encoded_df.values\n",
      "C:\\Users\\user\\AppData\\Local\\Temp\\ipykernel_4456\\484176590.py:15: PerformanceWarning: DataFrame is highly fragmented.  This is usually the result of calling `frame.insert` many times, which has poor performance.  Consider joining all columns at once using pd.concat(axis=1) instead. To get a de-fragmented frame, use `newframe = frame.copy()`\n",
      "  encoded_features[feature_names] = encoded_df.values\n",
      "C:\\Users\\user\\AppData\\Local\\Temp\\ipykernel_4456\\484176590.py:15: PerformanceWarning: DataFrame is highly fragmented.  This is usually the result of calling `frame.insert` many times, which has poor performance.  Consider joining all columns at once using pd.concat(axis=1) instead. To get a de-fragmented frame, use `newframe = frame.copy()`\n",
      "  encoded_features[feature_names] = encoded_df.values\n",
      "C:\\Users\\user\\AppData\\Local\\Temp\\ipykernel_4456\\484176590.py:15: PerformanceWarning: DataFrame is highly fragmented.  This is usually the result of calling `frame.insert` many times, which has poor performance.  Consider joining all columns at once using pd.concat(axis=1) instead. To get a de-fragmented frame, use `newframe = frame.copy()`\n",
      "  encoded_features[feature_names] = encoded_df.values\n",
      "C:\\Users\\user\\AppData\\Local\\Temp\\ipykernel_4456\\484176590.py:15: PerformanceWarning: DataFrame is highly fragmented.  This is usually the result of calling `frame.insert` many times, which has poor performance.  Consider joining all columns at once using pd.concat(axis=1) instead. To get a de-fragmented frame, use `newframe = frame.copy()`\n",
      "  encoded_features[feature_names] = encoded_df.values\n",
      "C:\\Users\\user\\AppData\\Local\\Temp\\ipykernel_4456\\484176590.py:15: PerformanceWarning: DataFrame is highly fragmented.  This is usually the result of calling `frame.insert` many times, which has poor performance.  Consider joining all columns at once using pd.concat(axis=1) instead. To get a de-fragmented frame, use `newframe = frame.copy()`\n",
      "  encoded_features[feature_names] = encoded_df.values\n",
      "C:\\Users\\user\\AppData\\Local\\Temp\\ipykernel_4456\\484176590.py:15: PerformanceWarning: DataFrame is highly fragmented.  This is usually the result of calling `frame.insert` many times, which has poor performance.  Consider joining all columns at once using pd.concat(axis=1) instead. To get a de-fragmented frame, use `newframe = frame.copy()`\n",
      "  encoded_features[feature_names] = encoded_df.values\n",
      "C:\\Users\\user\\AppData\\Local\\Temp\\ipykernel_4456\\484176590.py:15: PerformanceWarning: DataFrame is highly fragmented.  This is usually the result of calling `frame.insert` many times, which has poor performance.  Consider joining all columns at once using pd.concat(axis=1) instead. To get a de-fragmented frame, use `newframe = frame.copy()`\n",
      "  encoded_features[feature_names] = encoded_df.values\n",
      "C:\\Users\\user\\AppData\\Local\\Temp\\ipykernel_4456\\484176590.py:15: PerformanceWarning: DataFrame is highly fragmented.  This is usually the result of calling `frame.insert` many times, which has poor performance.  Consider joining all columns at once using pd.concat(axis=1) instead. To get a de-fragmented frame, use `newframe = frame.copy()`\n",
      "  encoded_features[feature_names] = encoded_df.values\n",
      "C:\\Users\\user\\AppData\\Local\\Temp\\ipykernel_4456\\484176590.py:15: PerformanceWarning: DataFrame is highly fragmented.  This is usually the result of calling `frame.insert` many times, which has poor performance.  Consider joining all columns at once using pd.concat(axis=1) instead. To get a de-fragmented frame, use `newframe = frame.copy()`\n",
      "  encoded_features[feature_names] = encoded_df.values\n",
      "C:\\Users\\user\\AppData\\Local\\Temp\\ipykernel_4456\\484176590.py:15: PerformanceWarning: DataFrame is highly fragmented.  This is usually the result of calling `frame.insert` many times, which has poor performance.  Consider joining all columns at once using pd.concat(axis=1) instead. To get a de-fragmented frame, use `newframe = frame.copy()`\n",
      "  encoded_features[feature_names] = encoded_df.values\n",
      "C:\\Users\\user\\AppData\\Local\\Temp\\ipykernel_4456\\484176590.py:15: PerformanceWarning: DataFrame is highly fragmented.  This is usually the result of calling `frame.insert` many times, which has poor performance.  Consider joining all columns at once using pd.concat(axis=1) instead. To get a de-fragmented frame, use `newframe = frame.copy()`\n",
      "  encoded_features[feature_names] = encoded_df.values\n",
      "C:\\Users\\user\\AppData\\Local\\Temp\\ipykernel_4456\\484176590.py:15: PerformanceWarning: DataFrame is highly fragmented.  This is usually the result of calling `frame.insert` many times, which has poor performance.  Consider joining all columns at once using pd.concat(axis=1) instead. To get a de-fragmented frame, use `newframe = frame.copy()`\n",
      "  encoded_features[feature_names] = encoded_df.values\n",
      "C:\\Users\\user\\AppData\\Local\\Temp\\ipykernel_4456\\484176590.py:15: PerformanceWarning: DataFrame is highly fragmented.  This is usually the result of calling `frame.insert` many times, which has poor performance.  Consider joining all columns at once using pd.concat(axis=1) instead. To get a de-fragmented frame, use `newframe = frame.copy()`\n",
      "  encoded_features[feature_names] = encoded_df.values\n",
      "C:\\Users\\user\\AppData\\Local\\Temp\\ipykernel_4456\\484176590.py:15: PerformanceWarning: DataFrame is highly fragmented.  This is usually the result of calling `frame.insert` many times, which has poor performance.  Consider joining all columns at once using pd.concat(axis=1) instead. To get a de-fragmented frame, use `newframe = frame.copy()`\n",
      "  encoded_features[feature_names] = encoded_df.values\n",
      "C:\\Users\\user\\AppData\\Local\\Temp\\ipykernel_4456\\484176590.py:15: PerformanceWarning: DataFrame is highly fragmented.  This is usually the result of calling `frame.insert` many times, which has poor performance.  Consider joining all columns at once using pd.concat(axis=1) instead. To get a de-fragmented frame, use `newframe = frame.copy()`\n",
      "  encoded_features[feature_names] = encoded_df.values\n",
      "C:\\Users\\user\\AppData\\Local\\Temp\\ipykernel_4456\\484176590.py:15: PerformanceWarning: DataFrame is highly fragmented.  This is usually the result of calling `frame.insert` many times, which has poor performance.  Consider joining all columns at once using pd.concat(axis=1) instead. To get a de-fragmented frame, use `newframe = frame.copy()`\n",
      "  encoded_features[feature_names] = encoded_df.values\n",
      "C:\\Users\\user\\AppData\\Local\\Temp\\ipykernel_4456\\484176590.py:15: PerformanceWarning: DataFrame is highly fragmented.  This is usually the result of calling `frame.insert` many times, which has poor performance.  Consider joining all columns at once using pd.concat(axis=1) instead. To get a de-fragmented frame, use `newframe = frame.copy()`\n",
      "  encoded_features[feature_names] = encoded_df.values\n",
      "C:\\Users\\user\\AppData\\Local\\Temp\\ipykernel_4456\\484176590.py:15: PerformanceWarning: DataFrame is highly fragmented.  This is usually the result of calling `frame.insert` many times, which has poor performance.  Consider joining all columns at once using pd.concat(axis=1) instead. To get a de-fragmented frame, use `newframe = frame.copy()`\n",
      "  encoded_features[feature_names] = encoded_df.values\n",
      "C:\\Users\\user\\AppData\\Local\\Temp\\ipykernel_4456\\484176590.py:15: PerformanceWarning: DataFrame is highly fragmented.  This is usually the result of calling `frame.insert` many times, which has poor performance.  Consider joining all columns at once using pd.concat(axis=1) instead. To get a de-fragmented frame, use `newframe = frame.copy()`\n",
      "  encoded_features[feature_names] = encoded_df.values\n",
      "C:\\Users\\user\\AppData\\Local\\Temp\\ipykernel_4456\\484176590.py:15: PerformanceWarning: DataFrame is highly fragmented.  This is usually the result of calling `frame.insert` many times, which has poor performance.  Consider joining all columns at once using pd.concat(axis=1) instead. To get a de-fragmented frame, use `newframe = frame.copy()`\n",
      "  encoded_features[feature_names] = encoded_df.values\n",
      "C:\\Users\\user\\AppData\\Local\\Temp\\ipykernel_4456\\484176590.py:15: PerformanceWarning: DataFrame is highly fragmented.  This is usually the result of calling `frame.insert` many times, which has poor performance.  Consider joining all columns at once using pd.concat(axis=1) instead. To get a de-fragmented frame, use `newframe = frame.copy()`\n",
      "  encoded_features[feature_names] = encoded_df.values\n",
      "C:\\Users\\user\\AppData\\Local\\Temp\\ipykernel_4456\\484176590.py:15: PerformanceWarning: DataFrame is highly fragmented.  This is usually the result of calling `frame.insert` many times, which has poor performance.  Consider joining all columns at once using pd.concat(axis=1) instead. To get a de-fragmented frame, use `newframe = frame.copy()`\n",
      "  encoded_features[feature_names] = encoded_df.values\n",
      "C:\\Users\\user\\AppData\\Local\\Temp\\ipykernel_4456\\484176590.py:15: PerformanceWarning: DataFrame is highly fragmented.  This is usually the result of calling `frame.insert` many times, which has poor performance.  Consider joining all columns at once using pd.concat(axis=1) instead. To get a de-fragmented frame, use `newframe = frame.copy()`\n",
      "  encoded_features[feature_names] = encoded_df.values\n",
      "C:\\Users\\user\\AppData\\Local\\Temp\\ipykernel_4456\\484176590.py:15: PerformanceWarning: DataFrame is highly fragmented.  This is usually the result of calling `frame.insert` many times, which has poor performance.  Consider joining all columns at once using pd.concat(axis=1) instead. To get a de-fragmented frame, use `newframe = frame.copy()`\n",
      "  encoded_features[feature_names] = encoded_df.values\n",
      "C:\\Users\\user\\AppData\\Local\\Temp\\ipykernel_4456\\484176590.py:15: PerformanceWarning: DataFrame is highly fragmented.  This is usually the result of calling `frame.insert` many times, which has poor performance.  Consider joining all columns at once using pd.concat(axis=1) instead. To get a de-fragmented frame, use `newframe = frame.copy()`\n",
      "  encoded_features[feature_names] = encoded_df.values\n",
      "C:\\Users\\user\\AppData\\Local\\Temp\\ipykernel_4456\\484176590.py:15: PerformanceWarning: DataFrame is highly fragmented.  This is usually the result of calling `frame.insert` many times, which has poor performance.  Consider joining all columns at once using pd.concat(axis=1) instead. To get a de-fragmented frame, use `newframe = frame.copy()`\n",
      "  encoded_features[feature_names] = encoded_df.values\n",
      "C:\\Users\\user\\AppData\\Local\\Temp\\ipykernel_4456\\484176590.py:15: PerformanceWarning: DataFrame is highly fragmented.  This is usually the result of calling `frame.insert` many times, which has poor performance.  Consider joining all columns at once using pd.concat(axis=1) instead. To get a de-fragmented frame, use `newframe = frame.copy()`\n",
      "  encoded_features[feature_names] = encoded_df.values\n",
      "C:\\Users\\user\\AppData\\Local\\Temp\\ipykernel_4456\\484176590.py:15: PerformanceWarning: DataFrame is highly fragmented.  This is usually the result of calling `frame.insert` many times, which has poor performance.  Consider joining all columns at once using pd.concat(axis=1) instead. To get a de-fragmented frame, use `newframe = frame.copy()`\n",
      "  encoded_features[feature_names] = encoded_df.values\n",
      "C:\\Users\\user\\AppData\\Local\\Temp\\ipykernel_4456\\484176590.py:15: PerformanceWarning: DataFrame is highly fragmented.  This is usually the result of calling `frame.insert` many times, which has poor performance.  Consider joining all columns at once using pd.concat(axis=1) instead. To get a de-fragmented frame, use `newframe = frame.copy()`\n",
      "  encoded_features[feature_names] = encoded_df.values\n",
      "C:\\Users\\user\\AppData\\Local\\Temp\\ipykernel_4456\\484176590.py:15: PerformanceWarning: DataFrame is highly fragmented.  This is usually the result of calling `frame.insert` many times, which has poor performance.  Consider joining all columns at once using pd.concat(axis=1) instead. To get a de-fragmented frame, use `newframe = frame.copy()`\n",
      "  encoded_features[feature_names] = encoded_df.values\n",
      "C:\\Users\\user\\AppData\\Local\\Temp\\ipykernel_4456\\484176590.py:15: PerformanceWarning: DataFrame is highly fragmented.  This is usually the result of calling `frame.insert` many times, which has poor performance.  Consider joining all columns at once using pd.concat(axis=1) instead. To get a de-fragmented frame, use `newframe = frame.copy()`\n",
      "  encoded_features[feature_names] = encoded_df.values\n",
      "C:\\Users\\user\\AppData\\Local\\Temp\\ipykernel_4456\\484176590.py:15: PerformanceWarning: DataFrame is highly fragmented.  This is usually the result of calling `frame.insert` many times, which has poor performance.  Consider joining all columns at once using pd.concat(axis=1) instead. To get a de-fragmented frame, use `newframe = frame.copy()`\n",
      "  encoded_features[feature_names] = encoded_df.values\n",
      "C:\\Users\\user\\AppData\\Local\\Temp\\ipykernel_4456\\484176590.py:15: PerformanceWarning: DataFrame is highly fragmented.  This is usually the result of calling `frame.insert` many times, which has poor performance.  Consider joining all columns at once using pd.concat(axis=1) instead. To get a de-fragmented frame, use `newframe = frame.copy()`\n",
      "  encoded_features[feature_names] = encoded_df.values\n",
      "C:\\Users\\user\\AppData\\Local\\Temp\\ipykernel_4456\\484176590.py:15: PerformanceWarning: DataFrame is highly fragmented.  This is usually the result of calling `frame.insert` many times, which has poor performance.  Consider joining all columns at once using pd.concat(axis=1) instead. To get a de-fragmented frame, use `newframe = frame.copy()`\n",
      "  encoded_features[feature_names] = encoded_df.values\n",
      "C:\\Users\\user\\AppData\\Local\\Temp\\ipykernel_4456\\484176590.py:15: PerformanceWarning: DataFrame is highly fragmented.  This is usually the result of calling `frame.insert` many times, which has poor performance.  Consider joining all columns at once using pd.concat(axis=1) instead. To get a de-fragmented frame, use `newframe = frame.copy()`\n",
      "  encoded_features[feature_names] = encoded_df.values\n",
      "C:\\Users\\user\\AppData\\Local\\Temp\\ipykernel_4456\\484176590.py:15: PerformanceWarning: DataFrame is highly fragmented.  This is usually the result of calling `frame.insert` many times, which has poor performance.  Consider joining all columns at once using pd.concat(axis=1) instead. To get a de-fragmented frame, use `newframe = frame.copy()`\n",
      "  encoded_features[feature_names] = encoded_df.values\n",
      "C:\\Users\\user\\AppData\\Local\\Temp\\ipykernel_4456\\484176590.py:15: PerformanceWarning: DataFrame is highly fragmented.  This is usually the result of calling `frame.insert` many times, which has poor performance.  Consider joining all columns at once using pd.concat(axis=1) instead. To get a de-fragmented frame, use `newframe = frame.copy()`\n",
      "  encoded_features[feature_names] = encoded_df.values\n",
      "C:\\Users\\user\\AppData\\Local\\Temp\\ipykernel_4456\\484176590.py:15: PerformanceWarning: DataFrame is highly fragmented.  This is usually the result of calling `frame.insert` many times, which has poor performance.  Consider joining all columns at once using pd.concat(axis=1) instead. To get a de-fragmented frame, use `newframe = frame.copy()`\n",
      "  encoded_features[feature_names] = encoded_df.values\n",
      "C:\\Users\\user\\AppData\\Local\\Temp\\ipykernel_4456\\484176590.py:15: PerformanceWarning: DataFrame is highly fragmented.  This is usually the result of calling `frame.insert` many times, which has poor performance.  Consider joining all columns at once using pd.concat(axis=1) instead. To get a de-fragmented frame, use `newframe = frame.copy()`\n",
      "  encoded_features[feature_names] = encoded_df.values\n",
      "C:\\Users\\user\\AppData\\Local\\Temp\\ipykernel_4456\\484176590.py:15: PerformanceWarning: DataFrame is highly fragmented.  This is usually the result of calling `frame.insert` many times, which has poor performance.  Consider joining all columns at once using pd.concat(axis=1) instead. To get a de-fragmented frame, use `newframe = frame.copy()`\n",
      "  encoded_features[feature_names] = encoded_df.values\n",
      "C:\\Users\\user\\AppData\\Local\\Temp\\ipykernel_4456\\484176590.py:15: PerformanceWarning: DataFrame is highly fragmented.  This is usually the result of calling `frame.insert` many times, which has poor performance.  Consider joining all columns at once using pd.concat(axis=1) instead. To get a de-fragmented frame, use `newframe = frame.copy()`\n",
      "  encoded_features[feature_names] = encoded_df.values\n",
      "C:\\Users\\user\\AppData\\Local\\Temp\\ipykernel_4456\\484176590.py:15: PerformanceWarning: DataFrame is highly fragmented.  This is usually the result of calling `frame.insert` many times, which has poor performance.  Consider joining all columns at once using pd.concat(axis=1) instead. To get a de-fragmented frame, use `newframe = frame.copy()`\n",
      "  encoded_features[feature_names] = encoded_df.values\n",
      "C:\\Users\\user\\AppData\\Local\\Temp\\ipykernel_4456\\484176590.py:15: PerformanceWarning: DataFrame is highly fragmented.  This is usually the result of calling `frame.insert` many times, which has poor performance.  Consider joining all columns at once using pd.concat(axis=1) instead. To get a de-fragmented frame, use `newframe = frame.copy()`\n",
      "  encoded_features[feature_names] = encoded_df.values\n",
      "C:\\Users\\user\\AppData\\Local\\Temp\\ipykernel_4456\\484176590.py:15: PerformanceWarning: DataFrame is highly fragmented.  This is usually the result of calling `frame.insert` many times, which has poor performance.  Consider joining all columns at once using pd.concat(axis=1) instead. To get a de-fragmented frame, use `newframe = frame.copy()`\n",
      "  encoded_features[feature_names] = encoded_df.values\n",
      "C:\\Users\\user\\AppData\\Local\\Temp\\ipykernel_4456\\484176590.py:15: PerformanceWarning: DataFrame is highly fragmented.  This is usually the result of calling `frame.insert` many times, which has poor performance.  Consider joining all columns at once using pd.concat(axis=1) instead. To get a de-fragmented frame, use `newframe = frame.copy()`\n",
      "  encoded_features[feature_names] = encoded_df.values\n",
      "C:\\Users\\user\\AppData\\Local\\Temp\\ipykernel_4456\\484176590.py:15: PerformanceWarning: DataFrame is highly fragmented.  This is usually the result of calling `frame.insert` many times, which has poor performance.  Consider joining all columns at once using pd.concat(axis=1) instead. To get a de-fragmented frame, use `newframe = frame.copy()`\n",
      "  encoded_features[feature_names] = encoded_df.values\n",
      "C:\\Users\\user\\AppData\\Local\\Temp\\ipykernel_4456\\484176590.py:15: PerformanceWarning: DataFrame is highly fragmented.  This is usually the result of calling `frame.insert` many times, which has poor performance.  Consider joining all columns at once using pd.concat(axis=1) instead. To get a de-fragmented frame, use `newframe = frame.copy()`\n",
      "  encoded_features[feature_names] = encoded_df.values\n",
      "C:\\Users\\user\\AppData\\Local\\Temp\\ipykernel_4456\\484176590.py:15: PerformanceWarning: DataFrame is highly fragmented.  This is usually the result of calling `frame.insert` many times, which has poor performance.  Consider joining all columns at once using pd.concat(axis=1) instead. To get a de-fragmented frame, use `newframe = frame.copy()`\n",
      "  encoded_features[feature_names] = encoded_df.values\n",
      "C:\\Users\\user\\AppData\\Local\\Temp\\ipykernel_4456\\484176590.py:15: PerformanceWarning: DataFrame is highly fragmented.  This is usually the result of calling `frame.insert` many times, which has poor performance.  Consider joining all columns at once using pd.concat(axis=1) instead. To get a de-fragmented frame, use `newframe = frame.copy()`\n",
      "  encoded_features[feature_names] = encoded_df.values\n",
      "C:\\Users\\user\\AppData\\Local\\Temp\\ipykernel_4456\\484176590.py:15: PerformanceWarning: DataFrame is highly fragmented.  This is usually the result of calling `frame.insert` many times, which has poor performance.  Consider joining all columns at once using pd.concat(axis=1) instead. To get a de-fragmented frame, use `newframe = frame.copy()`\n",
      "  encoded_features[feature_names] = encoded_df.values\n",
      "C:\\Users\\user\\AppData\\Local\\Temp\\ipykernel_4456\\484176590.py:15: PerformanceWarning: DataFrame is highly fragmented.  This is usually the result of calling `frame.insert` many times, which has poor performance.  Consider joining all columns at once using pd.concat(axis=1) instead. To get a de-fragmented frame, use `newframe = frame.copy()`\n",
      "  encoded_features[feature_names] = encoded_df.values\n",
      "C:\\Users\\user\\AppData\\Local\\Temp\\ipykernel_4456\\484176590.py:15: PerformanceWarning: DataFrame is highly fragmented.  This is usually the result of calling `frame.insert` many times, which has poor performance.  Consider joining all columns at once using pd.concat(axis=1) instead. To get a de-fragmented frame, use `newframe = frame.copy()`\n",
      "  encoded_features[feature_names] = encoded_df.values\n",
      "C:\\Users\\user\\AppData\\Local\\Temp\\ipykernel_4456\\484176590.py:15: PerformanceWarning: DataFrame is highly fragmented.  This is usually the result of calling `frame.insert` many times, which has poor performance.  Consider joining all columns at once using pd.concat(axis=1) instead. To get a de-fragmented frame, use `newframe = frame.copy()`\n",
      "  encoded_features[feature_names] = encoded_df.values\n",
      "C:\\Users\\user\\AppData\\Local\\Temp\\ipykernel_4456\\484176590.py:15: PerformanceWarning: DataFrame is highly fragmented.  This is usually the result of calling `frame.insert` many times, which has poor performance.  Consider joining all columns at once using pd.concat(axis=1) instead. To get a de-fragmented frame, use `newframe = frame.copy()`\n",
      "  encoded_features[feature_names] = encoded_df.values\n",
      "C:\\Users\\user\\AppData\\Local\\Temp\\ipykernel_4456\\484176590.py:15: PerformanceWarning: DataFrame is highly fragmented.  This is usually the result of calling `frame.insert` many times, which has poor performance.  Consider joining all columns at once using pd.concat(axis=1) instead. To get a de-fragmented frame, use `newframe = frame.copy()`\n",
      "  encoded_features[feature_names] = encoded_df.values\n",
      "C:\\Users\\user\\AppData\\Local\\Temp\\ipykernel_4456\\484176590.py:15: PerformanceWarning: DataFrame is highly fragmented.  This is usually the result of calling `frame.insert` many times, which has poor performance.  Consider joining all columns at once using pd.concat(axis=1) instead. To get a de-fragmented frame, use `newframe = frame.copy()`\n",
      "  encoded_features[feature_names] = encoded_df.values\n",
      "C:\\Users\\user\\AppData\\Local\\Temp\\ipykernel_4456\\484176590.py:15: PerformanceWarning: DataFrame is highly fragmented.  This is usually the result of calling `frame.insert` many times, which has poor performance.  Consider joining all columns at once using pd.concat(axis=1) instead. To get a de-fragmented frame, use `newframe = frame.copy()`\n",
      "  encoded_features[feature_names] = encoded_df.values\n",
      "C:\\Users\\user\\AppData\\Local\\Temp\\ipykernel_4456\\484176590.py:15: PerformanceWarning: DataFrame is highly fragmented.  This is usually the result of calling `frame.insert` many times, which has poor performance.  Consider joining all columns at once using pd.concat(axis=1) instead. To get a de-fragmented frame, use `newframe = frame.copy()`\n",
      "  encoded_features[feature_names] = encoded_df.values\n",
      "C:\\Users\\user\\AppData\\Local\\Temp\\ipykernel_4456\\484176590.py:15: PerformanceWarning: DataFrame is highly fragmented.  This is usually the result of calling `frame.insert` many times, which has poor performance.  Consider joining all columns at once using pd.concat(axis=1) instead. To get a de-fragmented frame, use `newframe = frame.copy()`\n",
      "  encoded_features[feature_names] = encoded_df.values\n",
      "C:\\Users\\user\\AppData\\Local\\Temp\\ipykernel_4456\\484176590.py:15: PerformanceWarning: DataFrame is highly fragmented.  This is usually the result of calling `frame.insert` many times, which has poor performance.  Consider joining all columns at once using pd.concat(axis=1) instead. To get a de-fragmented frame, use `newframe = frame.copy()`\n",
      "  encoded_features[feature_names] = encoded_df.values\n",
      "C:\\Users\\user\\AppData\\Local\\Temp\\ipykernel_4456\\484176590.py:15: PerformanceWarning: DataFrame is highly fragmented.  This is usually the result of calling `frame.insert` many times, which has poor performance.  Consider joining all columns at once using pd.concat(axis=1) instead. To get a de-fragmented frame, use `newframe = frame.copy()`\n",
      "  encoded_features[feature_names] = encoded_df.values\n",
      "C:\\Users\\user\\AppData\\Local\\Temp\\ipykernel_4456\\484176590.py:15: PerformanceWarning: DataFrame is highly fragmented.  This is usually the result of calling `frame.insert` many times, which has poor performance.  Consider joining all columns at once using pd.concat(axis=1) instead. To get a de-fragmented frame, use `newframe = frame.copy()`\n",
      "  encoded_features[feature_names] = encoded_df.values\n",
      "C:\\Users\\user\\AppData\\Local\\Temp\\ipykernel_4456\\484176590.py:15: PerformanceWarning: DataFrame is highly fragmented.  This is usually the result of calling `frame.insert` many times, which has poor performance.  Consider joining all columns at once using pd.concat(axis=1) instead. To get a de-fragmented frame, use `newframe = frame.copy()`\n",
      "  encoded_features[feature_names] = encoded_df.values\n"
     ]
    },
    {
     "name": "stderr",
     "output_type": "stream",
     "text": [
      "C:\\Users\\user\\AppData\\Local\\Temp\\ipykernel_4456\\484176590.py:15: PerformanceWarning: DataFrame is highly fragmented.  This is usually the result of calling `frame.insert` many times, which has poor performance.  Consider joining all columns at once using pd.concat(axis=1) instead. To get a de-fragmented frame, use `newframe = frame.copy()`\n",
      "  encoded_features[feature_names] = encoded_df.values\n",
      "C:\\Users\\user\\AppData\\Local\\Temp\\ipykernel_4456\\484176590.py:15: PerformanceWarning: DataFrame is highly fragmented.  This is usually the result of calling `frame.insert` many times, which has poor performance.  Consider joining all columns at once using pd.concat(axis=1) instead. To get a de-fragmented frame, use `newframe = frame.copy()`\n",
      "  encoded_features[feature_names] = encoded_df.values\n",
      "C:\\Users\\user\\AppData\\Local\\Temp\\ipykernel_4456\\484176590.py:15: PerformanceWarning: DataFrame is highly fragmented.  This is usually the result of calling `frame.insert` many times, which has poor performance.  Consider joining all columns at once using pd.concat(axis=1) instead. To get a de-fragmented frame, use `newframe = frame.copy()`\n",
      "  encoded_features[feature_names] = encoded_df.values\n",
      "C:\\Users\\user\\AppData\\Local\\Temp\\ipykernel_4456\\484176590.py:15: PerformanceWarning: DataFrame is highly fragmented.  This is usually the result of calling `frame.insert` many times, which has poor performance.  Consider joining all columns at once using pd.concat(axis=1) instead. To get a de-fragmented frame, use `newframe = frame.copy()`\n",
      "  encoded_features[feature_names] = encoded_df.values\n",
      "C:\\Users\\user\\AppData\\Local\\Temp\\ipykernel_4456\\484176590.py:15: PerformanceWarning: DataFrame is highly fragmented.  This is usually the result of calling `frame.insert` many times, which has poor performance.  Consider joining all columns at once using pd.concat(axis=1) instead. To get a de-fragmented frame, use `newframe = frame.copy()`\n",
      "  encoded_features[feature_names] = encoded_df.values\n",
      "C:\\Users\\user\\AppData\\Local\\Temp\\ipykernel_4456\\484176590.py:15: PerformanceWarning: DataFrame is highly fragmented.  This is usually the result of calling `frame.insert` many times, which has poor performance.  Consider joining all columns at once using pd.concat(axis=1) instead. To get a de-fragmented frame, use `newframe = frame.copy()`\n",
      "  encoded_features[feature_names] = encoded_df.values\n",
      "C:\\Users\\user\\AppData\\Local\\Temp\\ipykernel_4456\\484176590.py:15: PerformanceWarning: DataFrame is highly fragmented.  This is usually the result of calling `frame.insert` many times, which has poor performance.  Consider joining all columns at once using pd.concat(axis=1) instead. To get a de-fragmented frame, use `newframe = frame.copy()`\n",
      "  encoded_features[feature_names] = encoded_df.values\n",
      "C:\\Users\\user\\AppData\\Local\\Temp\\ipykernel_4456\\484176590.py:15: PerformanceWarning: DataFrame is highly fragmented.  This is usually the result of calling `frame.insert` many times, which has poor performance.  Consider joining all columns at once using pd.concat(axis=1) instead. To get a de-fragmented frame, use `newframe = frame.copy()`\n",
      "  encoded_features[feature_names] = encoded_df.values\n",
      "C:\\Users\\user\\AppData\\Local\\Temp\\ipykernel_4456\\484176590.py:15: PerformanceWarning: DataFrame is highly fragmented.  This is usually the result of calling `frame.insert` many times, which has poor performance.  Consider joining all columns at once using pd.concat(axis=1) instead. To get a de-fragmented frame, use `newframe = frame.copy()`\n",
      "  encoded_features[feature_names] = encoded_df.values\n",
      "C:\\Users\\user\\AppData\\Local\\Temp\\ipykernel_4456\\484176590.py:15: PerformanceWarning: DataFrame is highly fragmented.  This is usually the result of calling `frame.insert` many times, which has poor performance.  Consider joining all columns at once using pd.concat(axis=1) instead. To get a de-fragmented frame, use `newframe = frame.copy()`\n",
      "  encoded_features[feature_names] = encoded_df.values\n",
      "C:\\Users\\user\\AppData\\Local\\Temp\\ipykernel_4456\\484176590.py:15: PerformanceWarning: DataFrame is highly fragmented.  This is usually the result of calling `frame.insert` many times, which has poor performance.  Consider joining all columns at once using pd.concat(axis=1) instead. To get a de-fragmented frame, use `newframe = frame.copy()`\n",
      "  encoded_features[feature_names] = encoded_df.values\n",
      "C:\\Users\\user\\AppData\\Local\\Temp\\ipykernel_4456\\484176590.py:15: PerformanceWarning: DataFrame is highly fragmented.  This is usually the result of calling `frame.insert` many times, which has poor performance.  Consider joining all columns at once using pd.concat(axis=1) instead. To get a de-fragmented frame, use `newframe = frame.copy()`\n",
      "  encoded_features[feature_names] = encoded_df.values\n",
      "C:\\Users\\user\\AppData\\Local\\Temp\\ipykernel_4456\\484176590.py:15: PerformanceWarning: DataFrame is highly fragmented.  This is usually the result of calling `frame.insert` many times, which has poor performance.  Consider joining all columns at once using pd.concat(axis=1) instead. To get a de-fragmented frame, use `newframe = frame.copy()`\n",
      "  encoded_features[feature_names] = encoded_df.values\n",
      "C:\\Users\\user\\AppData\\Local\\Temp\\ipykernel_4456\\484176590.py:15: PerformanceWarning: DataFrame is highly fragmented.  This is usually the result of calling `frame.insert` many times, which has poor performance.  Consider joining all columns at once using pd.concat(axis=1) instead. To get a de-fragmented frame, use `newframe = frame.copy()`\n",
      "  encoded_features[feature_names] = encoded_df.values\n",
      "C:\\Users\\user\\AppData\\Local\\Temp\\ipykernel_4456\\484176590.py:15: PerformanceWarning: DataFrame is highly fragmented.  This is usually the result of calling `frame.insert` many times, which has poor performance.  Consider joining all columns at once using pd.concat(axis=1) instead. To get a de-fragmented frame, use `newframe = frame.copy()`\n",
      "  encoded_features[feature_names] = encoded_df.values\n",
      "C:\\Users\\user\\AppData\\Local\\Temp\\ipykernel_4456\\484176590.py:15: PerformanceWarning: DataFrame is highly fragmented.  This is usually the result of calling `frame.insert` many times, which has poor performance.  Consider joining all columns at once using pd.concat(axis=1) instead. To get a de-fragmented frame, use `newframe = frame.copy()`\n",
      "  encoded_features[feature_names] = encoded_df.values\n",
      "C:\\Users\\user\\AppData\\Local\\Temp\\ipykernel_4456\\484176590.py:15: PerformanceWarning: DataFrame is highly fragmented.  This is usually the result of calling `frame.insert` many times, which has poor performance.  Consider joining all columns at once using pd.concat(axis=1) instead. To get a de-fragmented frame, use `newframe = frame.copy()`\n",
      "  encoded_features[feature_names] = encoded_df.values\n",
      "C:\\Users\\user\\AppData\\Local\\Temp\\ipykernel_4456\\484176590.py:15: PerformanceWarning: DataFrame is highly fragmented.  This is usually the result of calling `frame.insert` many times, which has poor performance.  Consider joining all columns at once using pd.concat(axis=1) instead. To get a de-fragmented frame, use `newframe = frame.copy()`\n",
      "  encoded_features[feature_names] = encoded_df.values\n",
      "C:\\Users\\user\\AppData\\Local\\Temp\\ipykernel_4456\\484176590.py:15: PerformanceWarning: DataFrame is highly fragmented.  This is usually the result of calling `frame.insert` many times, which has poor performance.  Consider joining all columns at once using pd.concat(axis=1) instead. To get a de-fragmented frame, use `newframe = frame.copy()`\n",
      "  encoded_features[feature_names] = encoded_df.values\n",
      "C:\\Users\\user\\AppData\\Local\\Temp\\ipykernel_4456\\484176590.py:15: PerformanceWarning: DataFrame is highly fragmented.  This is usually the result of calling `frame.insert` many times, which has poor performance.  Consider joining all columns at once using pd.concat(axis=1) instead. To get a de-fragmented frame, use `newframe = frame.copy()`\n",
      "  encoded_features[feature_names] = encoded_df.values\n",
      "C:\\Users\\user\\AppData\\Local\\Temp\\ipykernel_4456\\484176590.py:15: PerformanceWarning: DataFrame is highly fragmented.  This is usually the result of calling `frame.insert` many times, which has poor performance.  Consider joining all columns at once using pd.concat(axis=1) instead. To get a de-fragmented frame, use `newframe = frame.copy()`\n",
      "  encoded_features[feature_names] = encoded_df.values\n",
      "C:\\Users\\user\\AppData\\Local\\Temp\\ipykernel_4456\\484176590.py:15: PerformanceWarning: DataFrame is highly fragmented.  This is usually the result of calling `frame.insert` many times, which has poor performance.  Consider joining all columns at once using pd.concat(axis=1) instead. To get a de-fragmented frame, use `newframe = frame.copy()`\n",
      "  encoded_features[feature_names] = encoded_df.values\n",
      "C:\\Users\\user\\AppData\\Local\\Temp\\ipykernel_4456\\484176590.py:15: PerformanceWarning: DataFrame is highly fragmented.  This is usually the result of calling `frame.insert` many times, which has poor performance.  Consider joining all columns at once using pd.concat(axis=1) instead. To get a de-fragmented frame, use `newframe = frame.copy()`\n",
      "  encoded_features[feature_names] = encoded_df.values\n",
      "C:\\Users\\user\\AppData\\Local\\Temp\\ipykernel_4456\\484176590.py:15: PerformanceWarning: DataFrame is highly fragmented.  This is usually the result of calling `frame.insert` many times, which has poor performance.  Consider joining all columns at once using pd.concat(axis=1) instead. To get a de-fragmented frame, use `newframe = frame.copy()`\n",
      "  encoded_features[feature_names] = encoded_df.values\n",
      "C:\\Users\\user\\AppData\\Local\\Temp\\ipykernel_4456\\484176590.py:15: PerformanceWarning: DataFrame is highly fragmented.  This is usually the result of calling `frame.insert` many times, which has poor performance.  Consider joining all columns at once using pd.concat(axis=1) instead. To get a de-fragmented frame, use `newframe = frame.copy()`\n",
      "  encoded_features[feature_names] = encoded_df.values\n",
      "C:\\Users\\user\\AppData\\Local\\Temp\\ipykernel_4456\\484176590.py:15: PerformanceWarning: DataFrame is highly fragmented.  This is usually the result of calling `frame.insert` many times, which has poor performance.  Consider joining all columns at once using pd.concat(axis=1) instead. To get a de-fragmented frame, use `newframe = frame.copy()`\n",
      "  encoded_features[feature_names] = encoded_df.values\n",
      "C:\\Users\\user\\AppData\\Local\\Temp\\ipykernel_4456\\484176590.py:15: PerformanceWarning: DataFrame is highly fragmented.  This is usually the result of calling `frame.insert` many times, which has poor performance.  Consider joining all columns at once using pd.concat(axis=1) instead. To get a de-fragmented frame, use `newframe = frame.copy()`\n",
      "  encoded_features[feature_names] = encoded_df.values\n",
      "C:\\Users\\user\\AppData\\Local\\Temp\\ipykernel_4456\\484176590.py:15: PerformanceWarning: DataFrame is highly fragmented.  This is usually the result of calling `frame.insert` many times, which has poor performance.  Consider joining all columns at once using pd.concat(axis=1) instead. To get a de-fragmented frame, use `newframe = frame.copy()`\n",
      "  encoded_features[feature_names] = encoded_df.values\n",
      "C:\\Users\\user\\AppData\\Local\\Temp\\ipykernel_4456\\484176590.py:15: PerformanceWarning: DataFrame is highly fragmented.  This is usually the result of calling `frame.insert` many times, which has poor performance.  Consider joining all columns at once using pd.concat(axis=1) instead. To get a de-fragmented frame, use `newframe = frame.copy()`\n",
      "  encoded_features[feature_names] = encoded_df.values\n",
      "C:\\Users\\user\\AppData\\Local\\Temp\\ipykernel_4456\\484176590.py:15: PerformanceWarning: DataFrame is highly fragmented.  This is usually the result of calling `frame.insert` many times, which has poor performance.  Consider joining all columns at once using pd.concat(axis=1) instead. To get a de-fragmented frame, use `newframe = frame.copy()`\n",
      "  encoded_features[feature_names] = encoded_df.values\n",
      "C:\\Users\\user\\AppData\\Local\\Temp\\ipykernel_4456\\484176590.py:15: PerformanceWarning: DataFrame is highly fragmented.  This is usually the result of calling `frame.insert` many times, which has poor performance.  Consider joining all columns at once using pd.concat(axis=1) instead. To get a de-fragmented frame, use `newframe = frame.copy()`\n",
      "  encoded_features[feature_names] = encoded_df.values\n",
      "C:\\Users\\user\\AppData\\Local\\Temp\\ipykernel_4456\\484176590.py:15: PerformanceWarning: DataFrame is highly fragmented.  This is usually the result of calling `frame.insert` many times, which has poor performance.  Consider joining all columns at once using pd.concat(axis=1) instead. To get a de-fragmented frame, use `newframe = frame.copy()`\n",
      "  encoded_features[feature_names] = encoded_df.values\n",
      "C:\\Users\\user\\AppData\\Local\\Temp\\ipykernel_4456\\484176590.py:15: PerformanceWarning: DataFrame is highly fragmented.  This is usually the result of calling `frame.insert` many times, which has poor performance.  Consider joining all columns at once using pd.concat(axis=1) instead. To get a de-fragmented frame, use `newframe = frame.copy()`\n",
      "  encoded_features[feature_names] = encoded_df.values\n",
      "C:\\Users\\user\\AppData\\Local\\Temp\\ipykernel_4456\\484176590.py:15: PerformanceWarning: DataFrame is highly fragmented.  This is usually the result of calling `frame.insert` many times, which has poor performance.  Consider joining all columns at once using pd.concat(axis=1) instead. To get a de-fragmented frame, use `newframe = frame.copy()`\n",
      "  encoded_features[feature_names] = encoded_df.values\n",
      "C:\\Users\\user\\AppData\\Local\\Temp\\ipykernel_4456\\484176590.py:15: PerformanceWarning: DataFrame is highly fragmented.  This is usually the result of calling `frame.insert` many times, which has poor performance.  Consider joining all columns at once using pd.concat(axis=1) instead. To get a de-fragmented frame, use `newframe = frame.copy()`\n",
      "  encoded_features[feature_names] = encoded_df.values\n",
      "C:\\Users\\user\\AppData\\Local\\Temp\\ipykernel_4456\\484176590.py:15: PerformanceWarning: DataFrame is highly fragmented.  This is usually the result of calling `frame.insert` many times, which has poor performance.  Consider joining all columns at once using pd.concat(axis=1) instead. To get a de-fragmented frame, use `newframe = frame.copy()`\n",
      "  encoded_features[feature_names] = encoded_df.values\n",
      "C:\\Users\\user\\AppData\\Local\\Temp\\ipykernel_4456\\484176590.py:15: PerformanceWarning: DataFrame is highly fragmented.  This is usually the result of calling `frame.insert` many times, which has poor performance.  Consider joining all columns at once using pd.concat(axis=1) instead. To get a de-fragmented frame, use `newframe = frame.copy()`\n",
      "  encoded_features[feature_names] = encoded_df.values\n",
      "C:\\Users\\user\\AppData\\Local\\Temp\\ipykernel_4456\\484176590.py:15: PerformanceWarning: DataFrame is highly fragmented.  This is usually the result of calling `frame.insert` many times, which has poor performance.  Consider joining all columns at once using pd.concat(axis=1) instead. To get a de-fragmented frame, use `newframe = frame.copy()`\n",
      "  encoded_features[feature_names] = encoded_df.values\n",
      "C:\\Users\\user\\AppData\\Local\\Temp\\ipykernel_4456\\484176590.py:15: PerformanceWarning: DataFrame is highly fragmented.  This is usually the result of calling `frame.insert` many times, which has poor performance.  Consider joining all columns at once using pd.concat(axis=1) instead. To get a de-fragmented frame, use `newframe = frame.copy()`\n",
      "  encoded_features[feature_names] = encoded_df.values\n",
      "C:\\Users\\user\\AppData\\Local\\Temp\\ipykernel_4456\\484176590.py:15: PerformanceWarning: DataFrame is highly fragmented.  This is usually the result of calling `frame.insert` many times, which has poor performance.  Consider joining all columns at once using pd.concat(axis=1) instead. To get a de-fragmented frame, use `newframe = frame.copy()`\n",
      "  encoded_features[feature_names] = encoded_df.values\n",
      "C:\\Users\\user\\AppData\\Local\\Temp\\ipykernel_4456\\484176590.py:15: PerformanceWarning: DataFrame is highly fragmented.  This is usually the result of calling `frame.insert` many times, which has poor performance.  Consider joining all columns at once using pd.concat(axis=1) instead. To get a de-fragmented frame, use `newframe = frame.copy()`\n",
      "  encoded_features[feature_names] = encoded_df.values\n",
      "C:\\Users\\user\\AppData\\Local\\Temp\\ipykernel_4456\\484176590.py:15: PerformanceWarning: DataFrame is highly fragmented.  This is usually the result of calling `frame.insert` many times, which has poor performance.  Consider joining all columns at once using pd.concat(axis=1) instead. To get a de-fragmented frame, use `newframe = frame.copy()`\n",
      "  encoded_features[feature_names] = encoded_df.values\n",
      "C:\\Users\\user\\AppData\\Local\\Temp\\ipykernel_4456\\484176590.py:15: PerformanceWarning: DataFrame is highly fragmented.  This is usually the result of calling `frame.insert` many times, which has poor performance.  Consider joining all columns at once using pd.concat(axis=1) instead. To get a de-fragmented frame, use `newframe = frame.copy()`\n",
      "  encoded_features[feature_names] = encoded_df.values\n",
      "C:\\Users\\user\\AppData\\Local\\Temp\\ipykernel_4456\\484176590.py:15: PerformanceWarning: DataFrame is highly fragmented.  This is usually the result of calling `frame.insert` many times, which has poor performance.  Consider joining all columns at once using pd.concat(axis=1) instead. To get a de-fragmented frame, use `newframe = frame.copy()`\n",
      "  encoded_features[feature_names] = encoded_df.values\n",
      "C:\\Users\\user\\AppData\\Local\\Temp\\ipykernel_4456\\484176590.py:15: PerformanceWarning: DataFrame is highly fragmented.  This is usually the result of calling `frame.insert` many times, which has poor performance.  Consider joining all columns at once using pd.concat(axis=1) instead. To get a de-fragmented frame, use `newframe = frame.copy()`\n",
      "  encoded_features[feature_names] = encoded_df.values\n",
      "C:\\Users\\user\\AppData\\Local\\Temp\\ipykernel_4456\\484176590.py:15: PerformanceWarning: DataFrame is highly fragmented.  This is usually the result of calling `frame.insert` many times, which has poor performance.  Consider joining all columns at once using pd.concat(axis=1) instead. To get a de-fragmented frame, use `newframe = frame.copy()`\n",
      "  encoded_features[feature_names] = encoded_df.values\n",
      "C:\\Users\\user\\AppData\\Local\\Temp\\ipykernel_4456\\484176590.py:15: PerformanceWarning: DataFrame is highly fragmented.  This is usually the result of calling `frame.insert` many times, which has poor performance.  Consider joining all columns at once using pd.concat(axis=1) instead. To get a de-fragmented frame, use `newframe = frame.copy()`\n",
      "  encoded_features[feature_names] = encoded_df.values\n",
      "C:\\Users\\user\\AppData\\Local\\Temp\\ipykernel_4456\\484176590.py:15: PerformanceWarning: DataFrame is highly fragmented.  This is usually the result of calling `frame.insert` many times, which has poor performance.  Consider joining all columns at once using pd.concat(axis=1) instead. To get a de-fragmented frame, use `newframe = frame.copy()`\n",
      "  encoded_features[feature_names] = encoded_df.values\n",
      "C:\\Users\\user\\AppData\\Local\\Temp\\ipykernel_4456\\484176590.py:15: PerformanceWarning: DataFrame is highly fragmented.  This is usually the result of calling `frame.insert` many times, which has poor performance.  Consider joining all columns at once using pd.concat(axis=1) instead. To get a de-fragmented frame, use `newframe = frame.copy()`\n",
      "  encoded_features[feature_names] = encoded_df.values\n",
      "C:\\Users\\user\\AppData\\Local\\Temp\\ipykernel_4456\\484176590.py:15: PerformanceWarning: DataFrame is highly fragmented.  This is usually the result of calling `frame.insert` many times, which has poor performance.  Consider joining all columns at once using pd.concat(axis=1) instead. To get a de-fragmented frame, use `newframe = frame.copy()`\n",
      "  encoded_features[feature_names] = encoded_df.values\n",
      "C:\\Users\\user\\AppData\\Local\\Temp\\ipykernel_4456\\484176590.py:15: PerformanceWarning: DataFrame is highly fragmented.  This is usually the result of calling `frame.insert` many times, which has poor performance.  Consider joining all columns at once using pd.concat(axis=1) instead. To get a de-fragmented frame, use `newframe = frame.copy()`\n",
      "  encoded_features[feature_names] = encoded_df.values\n",
      "C:\\Users\\user\\AppData\\Local\\Temp\\ipykernel_4456\\484176590.py:15: PerformanceWarning: DataFrame is highly fragmented.  This is usually the result of calling `frame.insert` many times, which has poor performance.  Consider joining all columns at once using pd.concat(axis=1) instead. To get a de-fragmented frame, use `newframe = frame.copy()`\n",
      "  encoded_features[feature_names] = encoded_df.values\n",
      "C:\\Users\\user\\AppData\\Local\\Temp\\ipykernel_4456\\484176590.py:15: PerformanceWarning: DataFrame is highly fragmented.  This is usually the result of calling `frame.insert` many times, which has poor performance.  Consider joining all columns at once using pd.concat(axis=1) instead. To get a de-fragmented frame, use `newframe = frame.copy()`\n",
      "  encoded_features[feature_names] = encoded_df.values\n",
      "C:\\Users\\user\\AppData\\Local\\Temp\\ipykernel_4456\\484176590.py:15: PerformanceWarning: DataFrame is highly fragmented.  This is usually the result of calling `frame.insert` many times, which has poor performance.  Consider joining all columns at once using pd.concat(axis=1) instead. To get a de-fragmented frame, use `newframe = frame.copy()`\n",
      "  encoded_features[feature_names] = encoded_df.values\n",
      "C:\\Users\\user\\AppData\\Local\\Temp\\ipykernel_4456\\484176590.py:15: PerformanceWarning: DataFrame is highly fragmented.  This is usually the result of calling `frame.insert` many times, which has poor performance.  Consider joining all columns at once using pd.concat(axis=1) instead. To get a de-fragmented frame, use `newframe = frame.copy()`\n",
      "  encoded_features[feature_names] = encoded_df.values\n",
      "C:\\Users\\user\\AppData\\Local\\Temp\\ipykernel_4456\\484176590.py:15: PerformanceWarning: DataFrame is highly fragmented.  This is usually the result of calling `frame.insert` many times, which has poor performance.  Consider joining all columns at once using pd.concat(axis=1) instead. To get a de-fragmented frame, use `newframe = frame.copy()`\n",
      "  encoded_features[feature_names] = encoded_df.values\n",
      "C:\\Users\\user\\AppData\\Local\\Temp\\ipykernel_4456\\484176590.py:15: PerformanceWarning: DataFrame is highly fragmented.  This is usually the result of calling `frame.insert` many times, which has poor performance.  Consider joining all columns at once using pd.concat(axis=1) instead. To get a de-fragmented frame, use `newframe = frame.copy()`\n",
      "  encoded_features[feature_names] = encoded_df.values\n",
      "C:\\Users\\user\\AppData\\Local\\Temp\\ipykernel_4456\\484176590.py:15: PerformanceWarning: DataFrame is highly fragmented.  This is usually the result of calling `frame.insert` many times, which has poor performance.  Consider joining all columns at once using pd.concat(axis=1) instead. To get a de-fragmented frame, use `newframe = frame.copy()`\n",
      "  encoded_features[feature_names] = encoded_df.values\n",
      "C:\\Users\\user\\AppData\\Local\\Temp\\ipykernel_4456\\484176590.py:15: PerformanceWarning: DataFrame is highly fragmented.  This is usually the result of calling `frame.insert` many times, which has poor performance.  Consider joining all columns at once using pd.concat(axis=1) instead. To get a de-fragmented frame, use `newframe = frame.copy()`\n",
      "  encoded_features[feature_names] = encoded_df.values\n",
      "C:\\Users\\user\\AppData\\Local\\Temp\\ipykernel_4456\\484176590.py:15: PerformanceWarning: DataFrame is highly fragmented.  This is usually the result of calling `frame.insert` many times, which has poor performance.  Consider joining all columns at once using pd.concat(axis=1) instead. To get a de-fragmented frame, use `newframe = frame.copy()`\n",
      "  encoded_features[feature_names] = encoded_df.values\n",
      "C:\\Users\\user\\AppData\\Local\\Temp\\ipykernel_4456\\484176590.py:15: PerformanceWarning: DataFrame is highly fragmented.  This is usually the result of calling `frame.insert` many times, which has poor performance.  Consider joining all columns at once using pd.concat(axis=1) instead. To get a de-fragmented frame, use `newframe = frame.copy()`\n",
      "  encoded_features[feature_names] = encoded_df.values\n",
      "C:\\Users\\user\\AppData\\Local\\Temp\\ipykernel_4456\\484176590.py:15: PerformanceWarning: DataFrame is highly fragmented.  This is usually the result of calling `frame.insert` many times, which has poor performance.  Consider joining all columns at once using pd.concat(axis=1) instead. To get a de-fragmented frame, use `newframe = frame.copy()`\n",
      "  encoded_features[feature_names] = encoded_df.values\n",
      "C:\\Users\\user\\AppData\\Local\\Temp\\ipykernel_4456\\484176590.py:15: PerformanceWarning: DataFrame is highly fragmented.  This is usually the result of calling `frame.insert` many times, which has poor performance.  Consider joining all columns at once using pd.concat(axis=1) instead. To get a de-fragmented frame, use `newframe = frame.copy()`\n",
      "  encoded_features[feature_names] = encoded_df.values\n",
      "C:\\Users\\user\\AppData\\Local\\Temp\\ipykernel_4456\\484176590.py:15: PerformanceWarning: DataFrame is highly fragmented.  This is usually the result of calling `frame.insert` many times, which has poor performance.  Consider joining all columns at once using pd.concat(axis=1) instead. To get a de-fragmented frame, use `newframe = frame.copy()`\n",
      "  encoded_features[feature_names] = encoded_df.values\n",
      "C:\\Users\\user\\AppData\\Local\\Temp\\ipykernel_4456\\484176590.py:15: PerformanceWarning: DataFrame is highly fragmented.  This is usually the result of calling `frame.insert` many times, which has poor performance.  Consider joining all columns at once using pd.concat(axis=1) instead. To get a de-fragmented frame, use `newframe = frame.copy()`\n",
      "  encoded_features[feature_names] = encoded_df.values\n",
      "C:\\Users\\user\\AppData\\Local\\Temp\\ipykernel_4456\\484176590.py:15: PerformanceWarning: DataFrame is highly fragmented.  This is usually the result of calling `frame.insert` many times, which has poor performance.  Consider joining all columns at once using pd.concat(axis=1) instead. To get a de-fragmented frame, use `newframe = frame.copy()`\n",
      "  encoded_features[feature_names] = encoded_df.values\n",
      "C:\\Users\\user\\AppData\\Local\\Temp\\ipykernel_4456\\484176590.py:15: PerformanceWarning: DataFrame is highly fragmented.  This is usually the result of calling `frame.insert` many times, which has poor performance.  Consider joining all columns at once using pd.concat(axis=1) instead. To get a de-fragmented frame, use `newframe = frame.copy()`\n",
      "  encoded_features[feature_names] = encoded_df.values\n",
      "C:\\Users\\user\\AppData\\Local\\Temp\\ipykernel_4456\\484176590.py:15: PerformanceWarning: DataFrame is highly fragmented.  This is usually the result of calling `frame.insert` many times, which has poor performance.  Consider joining all columns at once using pd.concat(axis=1) instead. To get a de-fragmented frame, use `newframe = frame.copy()`\n",
      "  encoded_features[feature_names] = encoded_df.values\n",
      "C:\\Users\\user\\AppData\\Local\\Temp\\ipykernel_4456\\484176590.py:15: PerformanceWarning: DataFrame is highly fragmented.  This is usually the result of calling `frame.insert` many times, which has poor performance.  Consider joining all columns at once using pd.concat(axis=1) instead. To get a de-fragmented frame, use `newframe = frame.copy()`\n",
      "  encoded_features[feature_names] = encoded_df.values\n",
      "C:\\Users\\user\\AppData\\Local\\Temp\\ipykernel_4456\\484176590.py:15: PerformanceWarning: DataFrame is highly fragmented.  This is usually the result of calling `frame.insert` many times, which has poor performance.  Consider joining all columns at once using pd.concat(axis=1) instead. To get a de-fragmented frame, use `newframe = frame.copy()`\n",
      "  encoded_features[feature_names] = encoded_df.values\n",
      "C:\\Users\\user\\AppData\\Local\\Temp\\ipykernel_4456\\484176590.py:15: PerformanceWarning: DataFrame is highly fragmented.  This is usually the result of calling `frame.insert` many times, which has poor performance.  Consider joining all columns at once using pd.concat(axis=1) instead. To get a de-fragmented frame, use `newframe = frame.copy()`\n",
      "  encoded_features[feature_names] = encoded_df.values\n",
      "C:\\Users\\user\\AppData\\Local\\Temp\\ipykernel_4456\\484176590.py:15: PerformanceWarning: DataFrame is highly fragmented.  This is usually the result of calling `frame.insert` many times, which has poor performance.  Consider joining all columns at once using pd.concat(axis=1) instead. To get a de-fragmented frame, use `newframe = frame.copy()`\n",
      "  encoded_features[feature_names] = encoded_df.values\n",
      "C:\\Users\\user\\AppData\\Local\\Temp\\ipykernel_4456\\484176590.py:15: PerformanceWarning: DataFrame is highly fragmented.  This is usually the result of calling `frame.insert` many times, which has poor performance.  Consider joining all columns at once using pd.concat(axis=1) instead. To get a de-fragmented frame, use `newframe = frame.copy()`\n",
      "  encoded_features[feature_names] = encoded_df.values\n",
      "C:\\Users\\user\\AppData\\Local\\Temp\\ipykernel_4456\\484176590.py:15: PerformanceWarning: DataFrame is highly fragmented.  This is usually the result of calling `frame.insert` many times, which has poor performance.  Consider joining all columns at once using pd.concat(axis=1) instead. To get a de-fragmented frame, use `newframe = frame.copy()`\n",
      "  encoded_features[feature_names] = encoded_df.values\n",
      "C:\\Users\\user\\AppData\\Local\\Temp\\ipykernel_4456\\484176590.py:15: PerformanceWarning: DataFrame is highly fragmented.  This is usually the result of calling `frame.insert` many times, which has poor performance.  Consider joining all columns at once using pd.concat(axis=1) instead. To get a de-fragmented frame, use `newframe = frame.copy()`\n",
      "  encoded_features[feature_names] = encoded_df.values\n",
      "C:\\Users\\user\\AppData\\Local\\Temp\\ipykernel_4456\\484176590.py:15: PerformanceWarning: DataFrame is highly fragmented.  This is usually the result of calling `frame.insert` many times, which has poor performance.  Consider joining all columns at once using pd.concat(axis=1) instead. To get a de-fragmented frame, use `newframe = frame.copy()`\n",
      "  encoded_features[feature_names] = encoded_df.values\n",
      "C:\\Users\\user\\AppData\\Local\\Temp\\ipykernel_4456\\484176590.py:15: PerformanceWarning: DataFrame is highly fragmented.  This is usually the result of calling `frame.insert` many times, which has poor performance.  Consider joining all columns at once using pd.concat(axis=1) instead. To get a de-fragmented frame, use `newframe = frame.copy()`\n",
      "  encoded_features[feature_names] = encoded_df.values\n",
      "C:\\Users\\user\\AppData\\Local\\Temp\\ipykernel_4456\\484176590.py:15: PerformanceWarning: DataFrame is highly fragmented.  This is usually the result of calling `frame.insert` many times, which has poor performance.  Consider joining all columns at once using pd.concat(axis=1) instead. To get a de-fragmented frame, use `newframe = frame.copy()`\n",
      "  encoded_features[feature_names] = encoded_df.values\n",
      "C:\\Users\\user\\AppData\\Local\\Temp\\ipykernel_4456\\484176590.py:15: PerformanceWarning: DataFrame is highly fragmented.  This is usually the result of calling `frame.insert` many times, which has poor performance.  Consider joining all columns at once using pd.concat(axis=1) instead. To get a de-fragmented frame, use `newframe = frame.copy()`\n",
      "  encoded_features[feature_names] = encoded_df.values\n",
      "C:\\Users\\user\\AppData\\Local\\Temp\\ipykernel_4456\\484176590.py:15: PerformanceWarning: DataFrame is highly fragmented.  This is usually the result of calling `frame.insert` many times, which has poor performance.  Consider joining all columns at once using pd.concat(axis=1) instead. To get a de-fragmented frame, use `newframe = frame.copy()`\n",
      "  encoded_features[feature_names] = encoded_df.values\n"
     ]
    },
    {
     "name": "stderr",
     "output_type": "stream",
     "text": [
      "C:\\Users\\user\\AppData\\Local\\Temp\\ipykernel_4456\\484176590.py:15: PerformanceWarning: DataFrame is highly fragmented.  This is usually the result of calling `frame.insert` many times, which has poor performance.  Consider joining all columns at once using pd.concat(axis=1) instead. To get a de-fragmented frame, use `newframe = frame.copy()`\n",
      "  encoded_features[feature_names] = encoded_df.values\n",
      "C:\\Users\\user\\AppData\\Local\\Temp\\ipykernel_4456\\484176590.py:15: PerformanceWarning: DataFrame is highly fragmented.  This is usually the result of calling `frame.insert` many times, which has poor performance.  Consider joining all columns at once using pd.concat(axis=1) instead. To get a de-fragmented frame, use `newframe = frame.copy()`\n",
      "  encoded_features[feature_names] = encoded_df.values\n",
      "C:\\Users\\user\\AppData\\Local\\Temp\\ipykernel_4456\\484176590.py:15: PerformanceWarning: DataFrame is highly fragmented.  This is usually the result of calling `frame.insert` many times, which has poor performance.  Consider joining all columns at once using pd.concat(axis=1) instead. To get a de-fragmented frame, use `newframe = frame.copy()`\n",
      "  encoded_features[feature_names] = encoded_df.values\n",
      "C:\\Users\\user\\AppData\\Local\\Temp\\ipykernel_4456\\484176590.py:15: PerformanceWarning: DataFrame is highly fragmented.  This is usually the result of calling `frame.insert` many times, which has poor performance.  Consider joining all columns at once using pd.concat(axis=1) instead. To get a de-fragmented frame, use `newframe = frame.copy()`\n",
      "  encoded_features[feature_names] = encoded_df.values\n",
      "C:\\Users\\user\\AppData\\Local\\Temp\\ipykernel_4456\\484176590.py:15: PerformanceWarning: DataFrame is highly fragmented.  This is usually the result of calling `frame.insert` many times, which has poor performance.  Consider joining all columns at once using pd.concat(axis=1) instead. To get a de-fragmented frame, use `newframe = frame.copy()`\n",
      "  encoded_features[feature_names] = encoded_df.values\n",
      "C:\\Users\\user\\AppData\\Local\\Temp\\ipykernel_4456\\484176590.py:15: PerformanceWarning: DataFrame is highly fragmented.  This is usually the result of calling `frame.insert` many times, which has poor performance.  Consider joining all columns at once using pd.concat(axis=1) instead. To get a de-fragmented frame, use `newframe = frame.copy()`\n",
      "  encoded_features[feature_names] = encoded_df.values\n",
      "C:\\Users\\user\\AppData\\Local\\Temp\\ipykernel_4456\\484176590.py:15: PerformanceWarning: DataFrame is highly fragmented.  This is usually the result of calling `frame.insert` many times, which has poor performance.  Consider joining all columns at once using pd.concat(axis=1) instead. To get a de-fragmented frame, use `newframe = frame.copy()`\n",
      "  encoded_features[feature_names] = encoded_df.values\n",
      "C:\\Users\\user\\AppData\\Local\\Temp\\ipykernel_4456\\484176590.py:15: PerformanceWarning: DataFrame is highly fragmented.  This is usually the result of calling `frame.insert` many times, which has poor performance.  Consider joining all columns at once using pd.concat(axis=1) instead. To get a de-fragmented frame, use `newframe = frame.copy()`\n",
      "  encoded_features[feature_names] = encoded_df.values\n",
      "C:\\Users\\user\\AppData\\Local\\Temp\\ipykernel_4456\\484176590.py:15: PerformanceWarning: DataFrame is highly fragmented.  This is usually the result of calling `frame.insert` many times, which has poor performance.  Consider joining all columns at once using pd.concat(axis=1) instead. To get a de-fragmented frame, use `newframe = frame.copy()`\n",
      "  encoded_features[feature_names] = encoded_df.values\n",
      "C:\\Users\\user\\AppData\\Local\\Temp\\ipykernel_4456\\484176590.py:15: PerformanceWarning: DataFrame is highly fragmented.  This is usually the result of calling `frame.insert` many times, which has poor performance.  Consider joining all columns at once using pd.concat(axis=1) instead. To get a de-fragmented frame, use `newframe = frame.copy()`\n",
      "  encoded_features[feature_names] = encoded_df.values\n",
      "C:\\Users\\user\\AppData\\Local\\Temp\\ipykernel_4456\\484176590.py:15: PerformanceWarning: DataFrame is highly fragmented.  This is usually the result of calling `frame.insert` many times, which has poor performance.  Consider joining all columns at once using pd.concat(axis=1) instead. To get a de-fragmented frame, use `newframe = frame.copy()`\n",
      "  encoded_features[feature_names] = encoded_df.values\n",
      "C:\\Users\\user\\AppData\\Local\\Temp\\ipykernel_4456\\484176590.py:15: PerformanceWarning: DataFrame is highly fragmented.  This is usually the result of calling `frame.insert` many times, which has poor performance.  Consider joining all columns at once using pd.concat(axis=1) instead. To get a de-fragmented frame, use `newframe = frame.copy()`\n",
      "  encoded_features[feature_names] = encoded_df.values\n",
      "C:\\Users\\user\\AppData\\Local\\Temp\\ipykernel_4456\\484176590.py:15: PerformanceWarning: DataFrame is highly fragmented.  This is usually the result of calling `frame.insert` many times, which has poor performance.  Consider joining all columns at once using pd.concat(axis=1) instead. To get a de-fragmented frame, use `newframe = frame.copy()`\n",
      "  encoded_features[feature_names] = encoded_df.values\n",
      "C:\\Users\\user\\AppData\\Local\\Temp\\ipykernel_4456\\484176590.py:15: PerformanceWarning: DataFrame is highly fragmented.  This is usually the result of calling `frame.insert` many times, which has poor performance.  Consider joining all columns at once using pd.concat(axis=1) instead. To get a de-fragmented frame, use `newframe = frame.copy()`\n",
      "  encoded_features[feature_names] = encoded_df.values\n",
      "C:\\Users\\user\\AppData\\Local\\Temp\\ipykernel_4456\\484176590.py:15: PerformanceWarning: DataFrame is highly fragmented.  This is usually the result of calling `frame.insert` many times, which has poor performance.  Consider joining all columns at once using pd.concat(axis=1) instead. To get a de-fragmented frame, use `newframe = frame.copy()`\n",
      "  encoded_features[feature_names] = encoded_df.values\n",
      "C:\\Users\\user\\AppData\\Local\\Temp\\ipykernel_4456\\484176590.py:15: PerformanceWarning: DataFrame is highly fragmented.  This is usually the result of calling `frame.insert` many times, which has poor performance.  Consider joining all columns at once using pd.concat(axis=1) instead. To get a de-fragmented frame, use `newframe = frame.copy()`\n",
      "  encoded_features[feature_names] = encoded_df.values\n",
      "C:\\Users\\user\\AppData\\Local\\Temp\\ipykernel_4456\\484176590.py:15: PerformanceWarning: DataFrame is highly fragmented.  This is usually the result of calling `frame.insert` many times, which has poor performance.  Consider joining all columns at once using pd.concat(axis=1) instead. To get a de-fragmented frame, use `newframe = frame.copy()`\n",
      "  encoded_features[feature_names] = encoded_df.values\n",
      "C:\\Users\\user\\AppData\\Local\\Temp\\ipykernel_4456\\484176590.py:15: PerformanceWarning: DataFrame is highly fragmented.  This is usually the result of calling `frame.insert` many times, which has poor performance.  Consider joining all columns at once using pd.concat(axis=1) instead. To get a de-fragmented frame, use `newframe = frame.copy()`\n",
      "  encoded_features[feature_names] = encoded_df.values\n",
      "C:\\Users\\user\\AppData\\Local\\Temp\\ipykernel_4456\\484176590.py:15: PerformanceWarning: DataFrame is highly fragmented.  This is usually the result of calling `frame.insert` many times, which has poor performance.  Consider joining all columns at once using pd.concat(axis=1) instead. To get a de-fragmented frame, use `newframe = frame.copy()`\n",
      "  encoded_features[feature_names] = encoded_df.values\n",
      "C:\\Users\\user\\AppData\\Local\\Temp\\ipykernel_4456\\484176590.py:15: PerformanceWarning: DataFrame is highly fragmented.  This is usually the result of calling `frame.insert` many times, which has poor performance.  Consider joining all columns at once using pd.concat(axis=1) instead. To get a de-fragmented frame, use `newframe = frame.copy()`\n",
      "  encoded_features[feature_names] = encoded_df.values\n",
      "C:\\Users\\user\\AppData\\Local\\Temp\\ipykernel_4456\\484176590.py:15: PerformanceWarning: DataFrame is highly fragmented.  This is usually the result of calling `frame.insert` many times, which has poor performance.  Consider joining all columns at once using pd.concat(axis=1) instead. To get a de-fragmented frame, use `newframe = frame.copy()`\n",
      "  encoded_features[feature_names] = encoded_df.values\n",
      "C:\\Users\\user\\AppData\\Local\\Temp\\ipykernel_4456\\484176590.py:15: PerformanceWarning: DataFrame is highly fragmented.  This is usually the result of calling `frame.insert` many times, which has poor performance.  Consider joining all columns at once using pd.concat(axis=1) instead. To get a de-fragmented frame, use `newframe = frame.copy()`\n",
      "  encoded_features[feature_names] = encoded_df.values\n",
      "C:\\Users\\user\\AppData\\Local\\Temp\\ipykernel_4456\\484176590.py:15: PerformanceWarning: DataFrame is highly fragmented.  This is usually the result of calling `frame.insert` many times, which has poor performance.  Consider joining all columns at once using pd.concat(axis=1) instead. To get a de-fragmented frame, use `newframe = frame.copy()`\n",
      "  encoded_features[feature_names] = encoded_df.values\n",
      "C:\\Users\\user\\AppData\\Local\\Temp\\ipykernel_4456\\484176590.py:15: PerformanceWarning: DataFrame is highly fragmented.  This is usually the result of calling `frame.insert` many times, which has poor performance.  Consider joining all columns at once using pd.concat(axis=1) instead. To get a de-fragmented frame, use `newframe = frame.copy()`\n",
      "  encoded_features[feature_names] = encoded_df.values\n",
      "C:\\Users\\user\\AppData\\Local\\Temp\\ipykernel_4456\\484176590.py:15: PerformanceWarning: DataFrame is highly fragmented.  This is usually the result of calling `frame.insert` many times, which has poor performance.  Consider joining all columns at once using pd.concat(axis=1) instead. To get a de-fragmented frame, use `newframe = frame.copy()`\n",
      "  encoded_features[feature_names] = encoded_df.values\n",
      "C:\\Users\\user\\AppData\\Local\\Temp\\ipykernel_4456\\484176590.py:15: PerformanceWarning: DataFrame is highly fragmented.  This is usually the result of calling `frame.insert` many times, which has poor performance.  Consider joining all columns at once using pd.concat(axis=1) instead. To get a de-fragmented frame, use `newframe = frame.copy()`\n",
      "  encoded_features[feature_names] = encoded_df.values\n",
      "C:\\Users\\user\\AppData\\Local\\Temp\\ipykernel_4456\\484176590.py:15: PerformanceWarning: DataFrame is highly fragmented.  This is usually the result of calling `frame.insert` many times, which has poor performance.  Consider joining all columns at once using pd.concat(axis=1) instead. To get a de-fragmented frame, use `newframe = frame.copy()`\n",
      "  encoded_features[feature_names] = encoded_df.values\n",
      "C:\\Users\\user\\AppData\\Local\\Temp\\ipykernel_4456\\484176590.py:15: PerformanceWarning: DataFrame is highly fragmented.  This is usually the result of calling `frame.insert` many times, which has poor performance.  Consider joining all columns at once using pd.concat(axis=1) instead. To get a de-fragmented frame, use `newframe = frame.copy()`\n",
      "  encoded_features[feature_names] = encoded_df.values\n",
      "C:\\Users\\user\\AppData\\Local\\Temp\\ipykernel_4456\\484176590.py:15: PerformanceWarning: DataFrame is highly fragmented.  This is usually the result of calling `frame.insert` many times, which has poor performance.  Consider joining all columns at once using pd.concat(axis=1) instead. To get a de-fragmented frame, use `newframe = frame.copy()`\n",
      "  encoded_features[feature_names] = encoded_df.values\n",
      "C:\\Users\\user\\AppData\\Local\\Temp\\ipykernel_4456\\484176590.py:15: PerformanceWarning: DataFrame is highly fragmented.  This is usually the result of calling `frame.insert` many times, which has poor performance.  Consider joining all columns at once using pd.concat(axis=1) instead. To get a de-fragmented frame, use `newframe = frame.copy()`\n",
      "  encoded_features[feature_names] = encoded_df.values\n",
      "C:\\Users\\user\\AppData\\Local\\Temp\\ipykernel_4456\\484176590.py:15: PerformanceWarning: DataFrame is highly fragmented.  This is usually the result of calling `frame.insert` many times, which has poor performance.  Consider joining all columns at once using pd.concat(axis=1) instead. To get a de-fragmented frame, use `newframe = frame.copy()`\n",
      "  encoded_features[feature_names] = encoded_df.values\n",
      "C:\\Users\\user\\AppData\\Local\\Temp\\ipykernel_4456\\484176590.py:15: PerformanceWarning: DataFrame is highly fragmented.  This is usually the result of calling `frame.insert` many times, which has poor performance.  Consider joining all columns at once using pd.concat(axis=1) instead. To get a de-fragmented frame, use `newframe = frame.copy()`\n",
      "  encoded_features[feature_names] = encoded_df.values\n",
      "C:\\Users\\user\\AppData\\Local\\Temp\\ipykernel_4456\\484176590.py:15: PerformanceWarning: DataFrame is highly fragmented.  This is usually the result of calling `frame.insert` many times, which has poor performance.  Consider joining all columns at once using pd.concat(axis=1) instead. To get a de-fragmented frame, use `newframe = frame.copy()`\n",
      "  encoded_features[feature_names] = encoded_df.values\n",
      "C:\\Users\\user\\anaconda3\\lib\\site-packages\\sklearn\\preprocessing\\_encoders.py:828: FutureWarning: `sparse` was renamed to `sparse_output` in version 1.2 and will be removed in 1.4. `sparse_output` is ignored unless you leave `sparse` to its default value.\n",
      "  warnings.warn(\n",
      "C:\\Users\\user\\AppData\\Local\\Temp\\ipykernel_4456\\484176590.py:15: PerformanceWarning: DataFrame is highly fragmented.  This is usually the result of calling `frame.insert` many times, which has poor performance.  Consider joining all columns at once using pd.concat(axis=1) instead. To get a de-fragmented frame, use `newframe = frame.copy()`\n",
      "  encoded_features[feature_names] = encoded_df.values\n",
      "C:\\Users\\user\\AppData\\Local\\Temp\\ipykernel_4456\\484176590.py:15: PerformanceWarning: DataFrame is highly fragmented.  This is usually the result of calling `frame.insert` many times, which has poor performance.  Consider joining all columns at once using pd.concat(axis=1) instead. To get a de-fragmented frame, use `newframe = frame.copy()`\n",
      "  encoded_features[feature_names] = encoded_df.values\n",
      "C:\\Users\\user\\anaconda3\\lib\\site-packages\\sklearn\\preprocessing\\_encoders.py:828: FutureWarning: `sparse` was renamed to `sparse_output` in version 1.2 and will be removed in 1.4. `sparse_output` is ignored unless you leave `sparse` to its default value.\n",
      "  warnings.warn(\n",
      "C:\\Users\\user\\AppData\\Local\\Temp\\ipykernel_4456\\484176590.py:15: PerformanceWarning: DataFrame is highly fragmented.  This is usually the result of calling `frame.insert` many times, which has poor performance.  Consider joining all columns at once using pd.concat(axis=1) instead. To get a de-fragmented frame, use `newframe = frame.copy()`\n",
      "  encoded_features[feature_names] = encoded_df.values\n",
      "C:\\Users\\user\\AppData\\Local\\Temp\\ipykernel_4456\\484176590.py:15: PerformanceWarning: DataFrame is highly fragmented.  This is usually the result of calling `frame.insert` many times, which has poor performance.  Consider joining all columns at once using pd.concat(axis=1) instead. To get a de-fragmented frame, use `newframe = frame.copy()`\n",
      "  encoded_features[feature_names] = encoded_df.values\n",
      "C:\\Users\\user\\AppData\\Local\\Temp\\ipykernel_4456\\484176590.py:15: PerformanceWarning: DataFrame is highly fragmented.  This is usually the result of calling `frame.insert` many times, which has poor performance.  Consider joining all columns at once using pd.concat(axis=1) instead. To get a de-fragmented frame, use `newframe = frame.copy()`\n",
      "  encoded_features[feature_names] = encoded_df.values\n",
      "C:\\Users\\user\\AppData\\Local\\Temp\\ipykernel_4456\\484176590.py:15: PerformanceWarning: DataFrame is highly fragmented.  This is usually the result of calling `frame.insert` many times, which has poor performance.  Consider joining all columns at once using pd.concat(axis=1) instead. To get a de-fragmented frame, use `newframe = frame.copy()`\n",
      "  encoded_features[feature_names] = encoded_df.values\n",
      "C:\\Users\\user\\AppData\\Local\\Temp\\ipykernel_4456\\484176590.py:15: PerformanceWarning: DataFrame is highly fragmented.  This is usually the result of calling `frame.insert` many times, which has poor performance.  Consider joining all columns at once using pd.concat(axis=1) instead. To get a de-fragmented frame, use `newframe = frame.copy()`\n",
      "  encoded_features[feature_names] = encoded_df.values\n",
      "C:\\Users\\user\\AppData\\Local\\Temp\\ipykernel_4456\\484176590.py:15: PerformanceWarning: DataFrame is highly fragmented.  This is usually the result of calling `frame.insert` many times, which has poor performance.  Consider joining all columns at once using pd.concat(axis=1) instead. To get a de-fragmented frame, use `newframe = frame.copy()`\n",
      "  encoded_features[feature_names] = encoded_df.values\n"
     ]
    }
   ],
   "source": [
    "encoded_features = pd.DataFrame()\n",
    "\n",
    "for col in cols_to_encode:\n",
    "\n",
    "    pre_encoded_df = df3[[col]]\n",
    "    encoder = OneHotEncoder(categories='auto', handle_unknown='ignore', sparse=False)\n",
    "    encoded_array = encoder.fit_transform(pre_encoded_df)\n",
    "    #feature_names = [f'{col}_{name}' for name in encoder.get_feature_names_out()]\n",
    "    feature_names = encoder.get_feature_names_out()\n",
    "    encoded_df = pd.DataFrame(encoded_array, columns=feature_names)\n",
    "    \n",
    "    if len(encoded_features) == 0:\n",
    "        encoded_features = encoded_df.copy()\n",
    "    else:\n",
    "        encoded_features[feature_names] = encoded_df.values\n",
    "\n"
   ]
  },
  {
   "cell_type": "code",
   "execution_count": 166,
   "id": "8a5e3c07",
   "metadata": {},
   "outputs": [],
   "source": [
    "#df3 = df_backup.copy()"
   ]
  },
  {
   "cell_type": "code",
   "execution_count": 167,
   "id": "e72d4dbd",
   "metadata": {},
   "outputs": [],
   "source": [
    "#df_backup = df3.copy()"
   ]
  },
  {
   "cell_type": "code",
   "execution_count": 168,
   "id": "174ff993",
   "metadata": {},
   "outputs": [],
   "source": [
    "#df3 = df_backup"
   ]
  },
  {
   "cell_type": "code",
   "execution_count": 169,
   "id": "50797f73",
   "metadata": {},
   "outputs": [],
   "source": [
    "df3 = df3.join(encoded_features, how='right')"
   ]
  },
  {
   "cell_type": "code",
   "execution_count": 170,
   "id": "f46d79a2",
   "metadata": {},
   "outputs": [
    {
     "data": {
      "text/plain": [
       "Index(['index', 'visit_number', 'utm_source', 'utm_medium', 'utm_campaign',\n",
       "       'utm_adcontent', 'device_category', 'device_brand',\n",
       "       'device_screen_resolution', 'device_browser',\n",
       "       ...\n",
       "       'utm_campaign_zmnpxOKDENholtspXiGy',\n",
       "       'utm_campaign_zxoiLxhuSIFrCeTLQVWZ', 'geo_country_Russia',\n",
       "       'geo_country_some_unimportant_country', 'geo_city_Kazan',\n",
       "       'geo_city_Krasnodar', 'geo_city_Moscow', 'geo_city_Saint Petersburg',\n",
       "       'geo_city_Yekaterinburg', 'geo_city_some_unimportant_city'],\n",
       "      dtype='object', length=705)"
      ]
     },
     "execution_count": 170,
     "metadata": {},
     "output_type": "execute_result"
    }
   ],
   "source": [
    "df3.columns"
   ]
  },
  {
   "cell_type": "code",
   "execution_count": 171,
   "id": "f794bd97",
   "metadata": {},
   "outputs": [
    {
     "name": "stdout",
     "output_type": "stream",
     "text": [
      "% of empties\n"
     ]
    },
    {
     "data": {
      "text/plain": [
       "0"
      ]
     },
     "execution_count": 171,
     "metadata": {},
     "output_type": "execute_result"
    }
   ],
   "source": [
    "show_empties_percentage(df3)\n",
    "#lts = list(encoded_features.columns)\n",
    "#df3 = df3.drop(list(encoded_features.columns), axis=1)"
   ]
  },
  {
   "cell_type": "code",
   "execution_count": 172,
   "id": "a9489bd3",
   "metadata": {},
   "outputs": [],
   "source": [
    "df3 = df3.drop(cols_to_encode, axis=1)"
   ]
  },
  {
   "cell_type": "markdown",
   "id": "c03a4498",
   "metadata": {},
   "source": [
    "## scalin' shit!"
   ]
  },
  {
   "cell_type": "code",
   "execution_count": 173,
   "id": "489aad8b",
   "metadata": {},
   "outputs": [],
   "source": [
    "cols_to_scale = ['visit_number']"
   ]
  },
  {
   "cell_type": "markdown",
   "id": "2bee6236",
   "metadata": {},
   "source": [
    "cols_to_scale.pop(0)"
   ]
  },
  {
   "cell_type": "code",
   "execution_count": 174,
   "id": "8dd99940",
   "metadata": {},
   "outputs": [],
   "source": [
    "scaler = StandardScaler()\n",
    "scaled_features = scaler.fit_transform(df3.loc[:,cols_to_scale])\n",
    "scaled_feature_names = [f'{name}_scaled' for name in scaler.get_feature_names_out()]\n",
    "#scaler.get_feature_names_out()\n",
    "\n",
    "scaled_df = pd.DataFrame(scaled_features, columns=scaled_feature_names)\n",
    "\n",
    "df3 = df3.join(scaled_df)\n"
   ]
  },
  {
   "cell_type": "code",
   "execution_count": 175,
   "id": "5a8db8a3",
   "metadata": {},
   "outputs": [],
   "source": [
    "df3 = df3.drop('visit_number', axis=1)"
   ]
  },
  {
   "cell_type": "code",
   "execution_count": 176,
   "id": "15ce1d9e",
   "metadata": {},
   "outputs": [
    {
     "name": "stdout",
     "output_type": "stream",
     "text": [
      "True\n"
     ]
    }
   ],
   "source": [
    "counter = 0\n",
    "for feature in df3.columns:\n",
    "    if df3[feature].dtype != 'O':\n",
    "        #print(feature, ' - ', df3[feature].dtype)\n",
    "        counter += 1\n",
    "    else:\n",
    "        print(feature)\n",
    "print(counter == len(df3.columns))"
   ]
  },
  {
   "cell_type": "markdown",
   "id": "7d7f286b",
   "metadata": {},
   "source": [
    "# prediction time, bitch!"
   ]
  },
  {
   "cell_type": "markdown",
   "id": "a8838e9b",
   "metadata": {},
   "source": [
    "df3.to_parquet('data/df_prepped_100k_parq_50_50.parquet', index=False)"
   ]
  },
  {
   "cell_type": "code",
   "execution_count": 307,
   "id": "7c62142d",
   "metadata": {},
   "outputs": [],
   "source": [
    "df3 = pd.read_parquet('data/df_prepped_100k_parq_50_50.parquet')"
   ]
  },
  {
   "cell_type": "code",
   "execution_count": 308,
   "id": "b9c711a4",
   "metadata": {},
   "outputs": [],
   "source": [
    "df3 = df3.drop('index', axis=1)\n"
   ]
  },
  {
   "cell_type": "code",
   "execution_count": 272,
   "id": "4e6286ec",
   "metadata": {},
   "outputs": [],
   "source": [
    "df3_pos = df3[df3['target_action'] == 1].sample(5000)\n",
    "df3_neg = df3[df3['target_action'] == 0].sample(5000)\n",
    "df3_pos = df3_pos.reset_index()\n",
    "df3_neg = df3_neg.reset_index()\n",
    "df3_pos = df3_pos.drop('index', axis=1)\n",
    "df3_neg = df3_neg.drop('index', axis=1)\n",
    "df3 = pd.concat([df3_pos, df3_neg])\n",
    "#df3 = df3.drop('level_0', axis=1)"
   ]
  },
  {
   "cell_type": "code",
   "execution_count": 309,
   "id": "06cb5a13",
   "metadata": {},
   "outputs": [
    {
     "data": {
      "text/html": [
       "<div>\n",
       "<style scoped>\n",
       "    .dataframe tbody tr th:only-of-type {\n",
       "        vertical-align: middle;\n",
       "    }\n",
       "\n",
       "    .dataframe tbody tr th {\n",
       "        vertical-align: top;\n",
       "    }\n",
       "\n",
       "    .dataframe thead th {\n",
       "        text-align: right;\n",
       "    }\n",
       "</style>\n",
       "<table border=\"1\" class=\"dataframe\">\n",
       "  <thead>\n",
       "    <tr style=\"text-align: right;\">\n",
       "      <th></th>\n",
       "      <th>target_action</th>\n",
       "      <th>camp_succ_rate</th>\n",
       "      <th>day_of_week</th>\n",
       "      <th>utm_source_ArbfvYgWhqxkzywKqpQf</th>\n",
       "      <th>utm_source_BHcvLfOaCWvWTykYqHVe</th>\n",
       "      <th>utm_source_BKeImrJuRDZcHiSSTdzm</th>\n",
       "      <th>utm_source_CgsxHpdTmXHvrHqEKRxp</th>\n",
       "      <th>utm_source_CqeIpFwJscTsZoYXdHsP</th>\n",
       "      <th>utm_source_DfoBrvtzFbohFKcUrmMV</th>\n",
       "      <th>utm_source_DlnuGwaJBHGNEKdWfOpe</th>\n",
       "      <th>...</th>\n",
       "      <th>utm_campaign_zxoiLxhuSIFrCeTLQVWZ</th>\n",
       "      <th>geo_country_Russia</th>\n",
       "      <th>geo_country_some_unimportant_country</th>\n",
       "      <th>geo_city_Kazan</th>\n",
       "      <th>geo_city_Krasnodar</th>\n",
       "      <th>geo_city_Moscow</th>\n",
       "      <th>geo_city_Saint Petersburg</th>\n",
       "      <th>geo_city_Yekaterinburg</th>\n",
       "      <th>geo_city_some_unimportant_city</th>\n",
       "      <th>visit_number_scaled</th>\n",
       "    </tr>\n",
       "  </thead>\n",
       "  <tbody>\n",
       "  </tbody>\n",
       "</table>\n",
       "<p>0 rows × 694 columns</p>\n",
       "</div>"
      ],
      "text/plain": [
       "Empty DataFrame\n",
       "Columns: [target_action, camp_succ_rate, day_of_week, utm_source_ArbfvYgWhqxkzywKqpQf, utm_source_BHcvLfOaCWvWTykYqHVe, utm_source_BKeImrJuRDZcHiSSTdzm, utm_source_CgsxHpdTmXHvrHqEKRxp, utm_source_CqeIpFwJscTsZoYXdHsP, utm_source_DfoBrvtzFbohFKcUrmMV, utm_source_DlnuGwaJBHGNEKdWfOpe, utm_source_DnEUulZAecfGPvdtZBYS, utm_source_DnxUhHWInKVDAWzwROOC, utm_source_EvhrtRzIJnQYHziPiLzV, utm_source_FTAuYVNoYYxgvKMpKSLW, utm_source_GWZGdHKPgmZPNPwkJshU, utm_source_GkGprIZHXAKqgsyDIvMR, utm_source_GmILPdZyuAVJCPsUBHeN, utm_source_GpAkIXsclxDGyILfNlrR, utm_source_HFaOtpcChAlcMuxEAlpu, utm_source_HJnvbONaVHFanPpYHwts, utm_source_HbolMJUevblAbkHClEQa, utm_source_ISrKoXQCxqqYvAZICvjs, utm_source_IZEXUFLARCUMynmHNBGo, utm_source_InLrxElufkSAvhfyFcOA, utm_source_IsHcZJuNYwanAAEDxuOE, utm_source_JXhFObdOttDFJXtNDBuH, utm_source_KgicpPxiEQfzPlPwQZJq, utm_source_LIWKeifdTCbuNeniIUqm, utm_source_LkGnzVRewoaOHnMCwadT, utm_source_LlBOVIARRTjfgnQNjJre, utm_source_MQvSjpHGoGjbcBjfnLLm, utm_source_MYrKypXYDhDVwJMUhCqu, utm_source_MlvrtLODeciGJoIzwoNf, utm_source_MvfHsxITijuriZxsqZqt, utm_source_NCOBaqbWTRpdTXezdNNg, utm_source_NGNkCWwKgYFmiCCeZVxg, utm_source_NTQAiqAhSTbkRRmxVKoQ, utm_source_NwLFDlNWnYxuLZEAZppl, utm_source_NwuIyBhuPCXhJVPLtXCC, utm_source_OtrdXnwzWFjzhNlHVLfd, utm_source_PKriXrefSFPLBYtCRGSE, utm_source_PlbkrSYoHuZBWfYjYnfw, utm_source_PsRRjEPKVbKXDDjZTzqz, utm_source_QKpFeggpjKAvhtjHKHZC, utm_source_QYfbqJXuLdJGfOSFgZOs, utm_source_QxAxdyPLuQMEcrdZWdWb, utm_source_QzPMrfYhYSLYYPtPaBxI, utm_source_RAeIjhqmnmNXpLaHKdgp, utm_source_RVKHNCFOYpjJjjAtwCgE, utm_source_RYQFHbWRnjKqraTDuhGb, utm_source_RmEBuqrriAfAVsLQQmhk, utm_source_RxecHElWobBxIeAkqFXV, utm_source_SzZERoLMmrEUEhDaYcyN, utm_source_TTtiRKFZIaQpIWggfCoF, utm_source_TxKUcPpthBDPieTGmVhx, utm_source_UbQpozKfTgYxQovHjkQM, utm_source_UphNUPPFIJLIZnvubKDj, utm_source_WEXkMlsnJodrzBgKJBpG, utm_source_WeIwsqEbpZGZwhcQktNS, utm_source_WiILFRDQbcHDHNvHzGpX, utm_source_XiUifkjKLLnomcDRhswp, utm_source_XzfzEBYZWgSDtJNXOadn, utm_source_YECMcEASiXejEJmgUmEG, utm_source_YclHumxPxSxgzHfvCaeF, utm_source_YlsczTIyBSwTLNtuDkCd, utm_source_YpBKcihLLfFjWuxOLfvW, utm_source_ZHCJROlbqnkXTqIuVxnm, utm_source_ZSALOpDDuJdQyGxrsDWn, utm_source_ZpYIoDJMcFzVoPFsHGJL, utm_source_aXQzDWsJuGXeBXexNHjc, utm_source_azajeHUvPOKkHBvWFbjz, utm_source_bByPQxmDaMXgpHeypKSM, utm_source_bgTYkDHjOsJzMUtoGhiQ, utm_source_bxOTvPtyGSdUrbwoXCPO, utm_source_cAqxcRdSSFAyCPUxQHqy, utm_source_dGlVSdmIlgWDyOPjfwwy, utm_source_dyicZQGoeASogoSafjEh, utm_source_eLzNJHzPelJpEyBwMrKo, utm_source_eTMcXJUftGtjDdKkZmfy, utm_source_eYRDXZIocNyHVjEHzesr, utm_source_eimRuUrNhZLAYcwRrNXu, utm_source_fDLlAcSmythWSCVMvqvL, utm_source_fJCYsujgSxIHFbOmgDdN, utm_source_faqsogjxCvbseFqupueU, utm_source_fbFKcMumlScApQMqFIqp, utm_source_fcXWTQaKfxbkBkBnzLhK, utm_source_fgymSoTvjKPEgaIJqsiH, utm_source_gDBGzjFKYabGgSPZvrDH, utm_source_gLXXuZYbFVYlDWhMmZiU, utm_source_gVRrcxiDQubJiljoTbGm, utm_source_geDcueAOghDzHkGMmdOq, utm_source_ghoaGAksqhKomdFrxgyJ, utm_source_hIlpdXTVGwzYWIOqvhtN, utm_source_hTjLvqNxGggkGnxSCaTm, utm_source_hzrqPZyPrRXcOdyjRQRg, utm_source_iNFgfQPqHPBuvGCYtrQE, utm_source_jaSOmLICuBzCFqHfBdRg, utm_source_juYouSPHPfKdXivEPJjt, utm_source_kjsLglQLzykiRbcDiGcD, utm_source_klTrhUaShgnjIbaPmqjc, ...]\n",
       "Index: []\n",
       "\n",
       "[0 rows x 694 columns]"
      ]
     },
     "execution_count": 309,
     "metadata": {},
     "output_type": "execute_result"
    }
   ],
   "source": [
    "df3[df3[str(feature)].isna() == True]"
   ]
  },
  {
   "cell_type": "code",
   "execution_count": 310,
   "id": "83e3853a",
   "metadata": {},
   "outputs": [
    {
     "name": "stdout",
     "output_type": "stream",
     "text": [
      "vse zaebis\", pustukh fi4ei net\n"
     ]
    }
   ],
   "source": [
    "counter = 0\n",
    "for feature in df3.columns:\n",
    "    if len(df3[df3[str(feature)].isna() == True]) != 0:\n",
    "        print(feature, ' - ', len(df3[df3[str(feature)].isna() == True]))\n",
    "        counter += 1\n",
    "    \n",
    "        \n",
    "    \n",
    "        \n",
    "if counter == 0:\n",
    "            print('vse zaebis\", pustukh fi4ei net')    "
   ]
  },
  {
   "cell_type": "markdown",
   "id": "e65dda76",
   "metadata": {},
   "source": [
    "df3 = df3.drop(\"day_of_week\", axis=1)"
   ]
  },
  {
   "cell_type": "code",
   "execution_count": 311,
   "id": "f6c7b02b",
   "metadata": {},
   "outputs": [],
   "source": [
    "y = df3['target_action']\n",
    "df3 = df3.drop('target_action', axis=1)\n"
   ]
  },
  {
   "cell_type": "markdown",
   "id": "42d9f6ae",
   "metadata": {},
   "source": [
    "scores = cross_val_score(rf, x, y, cv=4)"
   ]
  },
  {
   "cell_type": "markdown",
   "id": "4181cac0",
   "metadata": {},
   "source": [
    "scores"
   ]
  },
  {
   "cell_type": "markdown",
   "id": "d7b53fba",
   "metadata": {},
   "source": [
    "len(x.columns)"
   ]
  },
  {
   "cell_type": "code",
   "execution_count": 312,
   "id": "bc007421",
   "metadata": {},
   "outputs": [],
   "source": [
    "x_train, x_test, y_train, y_test = train_test_split(df3,y, test_size=0.3)"
   ]
  },
  {
   "cell_type": "markdown",
   "id": "5f572fd8",
   "metadata": {},
   "source": [
    "with open('models/rf_model.pkl', 'rb') as file:\n",
    "    rf = dill.load(file)"
   ]
  },
  {
   "cell_type": "code",
   "execution_count": 291,
   "id": "07d27508",
   "metadata": {},
   "outputs": [],
   "source": [
    "with open('data/best_params_rf_10k_fit.json', 'r') as f:\n",
    "    best_params = json.load(f)"
   ]
  },
  {
   "cell_type": "code",
   "execution_count": 297,
   "id": "9677fb2c",
   "metadata": {},
   "outputs": [
    {
     "data": {
      "text/plain": [
       "{'max_features': 'sqrt', 'min_samples_leaf': 2, 'n_estimators': 400}"
      ]
     },
     "execution_count": 297,
     "metadata": {},
     "output_type": "execute_result"
    }
   ],
   "source": [
    "best_params"
   ]
  },
  {
   "cell_type": "code",
   "execution_count": 298,
   "id": "0b711892",
   "metadata": {},
   "outputs": [],
   "source": [
    "rf = RandomForestClassifier(n_estimators=400, min_samples_leaf=2, max_features='sqrt')"
   ]
  },
  {
   "cell_type": "code",
   "execution_count": 299,
   "id": "9fe4a967",
   "metadata": {
    "scrolled": true
   },
   "outputs": [
    {
     "data": {
      "text/html": [
       "<style>#sk-container-id-10 {color: black;background-color: white;}#sk-container-id-10 pre{padding: 0;}#sk-container-id-10 div.sk-toggleable {background-color: white;}#sk-container-id-10 label.sk-toggleable__label {cursor: pointer;display: block;width: 100%;margin-bottom: 0;padding: 0.3em;box-sizing: border-box;text-align: center;}#sk-container-id-10 label.sk-toggleable__label-arrow:before {content: \"▸\";float: left;margin-right: 0.25em;color: #696969;}#sk-container-id-10 label.sk-toggleable__label-arrow:hover:before {color: black;}#sk-container-id-10 div.sk-estimator:hover label.sk-toggleable__label-arrow:before {color: black;}#sk-container-id-10 div.sk-toggleable__content {max-height: 0;max-width: 0;overflow: hidden;text-align: left;background-color: #f0f8ff;}#sk-container-id-10 div.sk-toggleable__content pre {margin: 0.2em;color: black;border-radius: 0.25em;background-color: #f0f8ff;}#sk-container-id-10 input.sk-toggleable__control:checked~div.sk-toggleable__content {max-height: 200px;max-width: 100%;overflow: auto;}#sk-container-id-10 input.sk-toggleable__control:checked~label.sk-toggleable__label-arrow:before {content: \"▾\";}#sk-container-id-10 div.sk-estimator input.sk-toggleable__control:checked~label.sk-toggleable__label {background-color: #d4ebff;}#sk-container-id-10 div.sk-label input.sk-toggleable__control:checked~label.sk-toggleable__label {background-color: #d4ebff;}#sk-container-id-10 input.sk-hidden--visually {border: 0;clip: rect(1px 1px 1px 1px);clip: rect(1px, 1px, 1px, 1px);height: 1px;margin: -1px;overflow: hidden;padding: 0;position: absolute;width: 1px;}#sk-container-id-10 div.sk-estimator {font-family: monospace;background-color: #f0f8ff;border: 1px dotted black;border-radius: 0.25em;box-sizing: border-box;margin-bottom: 0.5em;}#sk-container-id-10 div.sk-estimator:hover {background-color: #d4ebff;}#sk-container-id-10 div.sk-parallel-item::after {content: \"\";width: 100%;border-bottom: 1px solid gray;flex-grow: 1;}#sk-container-id-10 div.sk-label:hover label.sk-toggleable__label {background-color: #d4ebff;}#sk-container-id-10 div.sk-serial::before {content: \"\";position: absolute;border-left: 1px solid gray;box-sizing: border-box;top: 0;bottom: 0;left: 50%;z-index: 0;}#sk-container-id-10 div.sk-serial {display: flex;flex-direction: column;align-items: center;background-color: white;padding-right: 0.2em;padding-left: 0.2em;position: relative;}#sk-container-id-10 div.sk-item {position: relative;z-index: 1;}#sk-container-id-10 div.sk-parallel {display: flex;align-items: stretch;justify-content: center;background-color: white;position: relative;}#sk-container-id-10 div.sk-item::before, #sk-container-id-10 div.sk-parallel-item::before {content: \"\";position: absolute;border-left: 1px solid gray;box-sizing: border-box;top: 0;bottom: 0;left: 50%;z-index: -1;}#sk-container-id-10 div.sk-parallel-item {display: flex;flex-direction: column;z-index: 1;position: relative;background-color: white;}#sk-container-id-10 div.sk-parallel-item:first-child::after {align-self: flex-end;width: 50%;}#sk-container-id-10 div.sk-parallel-item:last-child::after {align-self: flex-start;width: 50%;}#sk-container-id-10 div.sk-parallel-item:only-child::after {width: 0;}#sk-container-id-10 div.sk-dashed-wrapped {border: 1px dashed gray;margin: 0 0.4em 0.5em 0.4em;box-sizing: border-box;padding-bottom: 0.4em;background-color: white;}#sk-container-id-10 div.sk-label label {font-family: monospace;font-weight: bold;display: inline-block;line-height: 1.2em;}#sk-container-id-10 div.sk-label-container {text-align: center;}#sk-container-id-10 div.sk-container {/* jupyter's `normalize.less` sets `[hidden] { display: none; }` but bootstrap.min.css set `[hidden] { display: none !important; }` so we also need the `!important` here to be able to override the default hidden behavior on the sphinx rendered scikit-learn.org. See: https://github.com/scikit-learn/scikit-learn/issues/21755 */display: inline-block !important;position: relative;}#sk-container-id-10 div.sk-text-repr-fallback {display: none;}</style><div id=\"sk-container-id-10\" class=\"sk-top-container\"><div class=\"sk-text-repr-fallback\"><pre>RandomForestClassifier(min_samples_leaf=2, n_estimators=400)</pre><b>In a Jupyter environment, please rerun this cell to show the HTML representation or trust the notebook. <br />On GitHub, the HTML representation is unable to render, please try loading this page with nbviewer.org.</b></div><div class=\"sk-container\" hidden><div class=\"sk-item\"><div class=\"sk-estimator sk-toggleable\"><input class=\"sk-toggleable__control sk-hidden--visually\" id=\"sk-estimator-id-12\" type=\"checkbox\" checked><label for=\"sk-estimator-id-12\" class=\"sk-toggleable__label sk-toggleable__label-arrow\">RandomForestClassifier</label><div class=\"sk-toggleable__content\"><pre>RandomForestClassifier(min_samples_leaf=2, n_estimators=400)</pre></div></div></div></div></div>"
      ],
      "text/plain": [
       "RandomForestClassifier(min_samples_leaf=2, n_estimators=400)"
      ]
     },
     "execution_count": 299,
     "metadata": {},
     "output_type": "execute_result"
    }
   ],
   "source": [
    "rf.fit(x_train, y_train)"
   ]
  },
  {
   "cell_type": "code",
   "execution_count": 313,
   "id": "bff3bad5",
   "metadata": {},
   "outputs": [],
   "source": [
    "predicted_train = rf.predict(x_train)"
   ]
  },
  {
   "cell_type": "code",
   "execution_count": 314,
   "id": "0a6fc191",
   "metadata": {},
   "outputs": [],
   "source": [
    "predicted_test = rf.predict(x_test)"
   ]
  },
  {
   "cell_type": "code",
   "execution_count": 315,
   "id": "64d5c5b8",
   "metadata": {},
   "outputs": [
    {
     "data": {
      "text/plain": [
       "0.6057714285714285"
      ]
     },
     "execution_count": 315,
     "metadata": {},
     "output_type": "execute_result"
    }
   ],
   "source": [
    "accuracy_score(y_train, predicted_train)"
   ]
  },
  {
   "cell_type": "code",
   "execution_count": 316,
   "id": "6c4417db",
   "metadata": {},
   "outputs": [
    {
     "data": {
      "text/plain": [
       "0.6083333333333333"
      ]
     },
     "execution_count": 316,
     "metadata": {},
     "output_type": "execute_result"
    }
   ],
   "source": [
    "accuracy_score(y_test, predicted_test)"
   ]
  },
  {
   "cell_type": "code",
   "execution_count": 317,
   "id": "a315ce9e",
   "metadata": {},
   "outputs": [
    {
     "data": {
      "text/plain": [
       "0.6563583668102934"
      ]
     },
     "execution_count": 317,
     "metadata": {},
     "output_type": "execute_result"
    }
   ],
   "source": [
    "roc_auc_score(y_train, rf.predict_proba(x_train)[:,1])"
   ]
  },
  {
   "cell_type": "code",
   "execution_count": 318,
   "id": "7cc10e5c",
   "metadata": {},
   "outputs": [
    {
     "data": {
      "text/plain": [
       "0.6595781200878102"
      ]
     },
     "execution_count": 318,
     "metadata": {},
     "output_type": "execute_result"
    }
   ],
   "source": [
    "roc_auc_score(y_test, rf.predict_proba(x_test)[:,1])"
   ]
  },
  {
   "cell_type": "code",
   "execution_count": 319,
   "id": "bf1b4252",
   "metadata": {},
   "outputs": [
    {
     "data": {
      "text/plain": [
       "(100000, 693)"
      ]
     },
     "execution_count": 319,
     "metadata": {},
     "output_type": "execute_result"
    }
   ],
   "source": [
    "df3.shape"
   ]
  },
  {
   "cell_type": "markdown",
   "id": "dd26423a",
   "metadata": {},
   "source": [
    "models = [\n",
    "    LogisticRegression(solver='liblinear'),\n",
    "    RandomForestClassifier()\n",
    "    #, SVC()\n",
    "]\n",
    "\n",
    "best_score = .0\n",
    "best_pipe = None\n",
    "for model in models:\n",
    "\n",
    "    #pipe = Pipeline([\n",
    "    #    ('preprocessor', preprocessor),\n",
    "    #    ('classifier', model)\n",
    "    #])\n",
    "\n",
    "    score = cross_val_score(model, df3, y, cv=4, scoring='accuracy')\n",
    "    print(score, ' - ', model)\n",
    "    #logging.info(f'model: {type(model).__name__}, acc_mean: {score.mean():.4f}, acc_std: {score.std():.4f}')\n",
    "    #if score.mean() > best_score:\n",
    "    #    best_score = score.mean()\n",
    "    #    best_pipe = pipe"
   ]
  },
  {
   "cell_type": "code",
   "execution_count": 285,
   "id": "8a931ac8",
   "metadata": {},
   "outputs": [],
   "source": [
    "param_grid = {\n",
    "   'n_estimators': list(range(100, 501, 100)),\n",
    "   'max_features': ['sqrt', 'log2'],\n",
    "   'min_samples_leaf': list(range(1, 10))\n",
    "}"
   ]
  },
  {
   "cell_type": "code",
   "execution_count": 286,
   "id": "b300123f",
   "metadata": {},
   "outputs": [],
   "source": [
    "grid_search_rf = GridSearchCV(\n",
    "   estimator=rf,\n",
    "   param_grid=param_grid,\n",
    "   scoring='accuracy',\n",
    "   verbose=1,\n",
    "   n_jobs=-1\n",
    ")"
   ]
  },
  {
   "cell_type": "code",
   "execution_count": 287,
   "id": "7f5c0572",
   "metadata": {},
   "outputs": [
    {
     "name": "stdout",
     "output_type": "stream",
     "text": [
      "Fitting 5 folds for each of 90 candidates, totalling 450 fits\n"
     ]
    },
    {
     "data": {
      "text/html": [
       "<style>#sk-container-id-9 {color: black;background-color: white;}#sk-container-id-9 pre{padding: 0;}#sk-container-id-9 div.sk-toggleable {background-color: white;}#sk-container-id-9 label.sk-toggleable__label {cursor: pointer;display: block;width: 100%;margin-bottom: 0;padding: 0.3em;box-sizing: border-box;text-align: center;}#sk-container-id-9 label.sk-toggleable__label-arrow:before {content: \"▸\";float: left;margin-right: 0.25em;color: #696969;}#sk-container-id-9 label.sk-toggleable__label-arrow:hover:before {color: black;}#sk-container-id-9 div.sk-estimator:hover label.sk-toggleable__label-arrow:before {color: black;}#sk-container-id-9 div.sk-toggleable__content {max-height: 0;max-width: 0;overflow: hidden;text-align: left;background-color: #f0f8ff;}#sk-container-id-9 div.sk-toggleable__content pre {margin: 0.2em;color: black;border-radius: 0.25em;background-color: #f0f8ff;}#sk-container-id-9 input.sk-toggleable__control:checked~div.sk-toggleable__content {max-height: 200px;max-width: 100%;overflow: auto;}#sk-container-id-9 input.sk-toggleable__control:checked~label.sk-toggleable__label-arrow:before {content: \"▾\";}#sk-container-id-9 div.sk-estimator input.sk-toggleable__control:checked~label.sk-toggleable__label {background-color: #d4ebff;}#sk-container-id-9 div.sk-label input.sk-toggleable__control:checked~label.sk-toggleable__label {background-color: #d4ebff;}#sk-container-id-9 input.sk-hidden--visually {border: 0;clip: rect(1px 1px 1px 1px);clip: rect(1px, 1px, 1px, 1px);height: 1px;margin: -1px;overflow: hidden;padding: 0;position: absolute;width: 1px;}#sk-container-id-9 div.sk-estimator {font-family: monospace;background-color: #f0f8ff;border: 1px dotted black;border-radius: 0.25em;box-sizing: border-box;margin-bottom: 0.5em;}#sk-container-id-9 div.sk-estimator:hover {background-color: #d4ebff;}#sk-container-id-9 div.sk-parallel-item::after {content: \"\";width: 100%;border-bottom: 1px solid gray;flex-grow: 1;}#sk-container-id-9 div.sk-label:hover label.sk-toggleable__label {background-color: #d4ebff;}#sk-container-id-9 div.sk-serial::before {content: \"\";position: absolute;border-left: 1px solid gray;box-sizing: border-box;top: 0;bottom: 0;left: 50%;z-index: 0;}#sk-container-id-9 div.sk-serial {display: flex;flex-direction: column;align-items: center;background-color: white;padding-right: 0.2em;padding-left: 0.2em;position: relative;}#sk-container-id-9 div.sk-item {position: relative;z-index: 1;}#sk-container-id-9 div.sk-parallel {display: flex;align-items: stretch;justify-content: center;background-color: white;position: relative;}#sk-container-id-9 div.sk-item::before, #sk-container-id-9 div.sk-parallel-item::before {content: \"\";position: absolute;border-left: 1px solid gray;box-sizing: border-box;top: 0;bottom: 0;left: 50%;z-index: -1;}#sk-container-id-9 div.sk-parallel-item {display: flex;flex-direction: column;z-index: 1;position: relative;background-color: white;}#sk-container-id-9 div.sk-parallel-item:first-child::after {align-self: flex-end;width: 50%;}#sk-container-id-9 div.sk-parallel-item:last-child::after {align-self: flex-start;width: 50%;}#sk-container-id-9 div.sk-parallel-item:only-child::after {width: 0;}#sk-container-id-9 div.sk-dashed-wrapped {border: 1px dashed gray;margin: 0 0.4em 0.5em 0.4em;box-sizing: border-box;padding-bottom: 0.4em;background-color: white;}#sk-container-id-9 div.sk-label label {font-family: monospace;font-weight: bold;display: inline-block;line-height: 1.2em;}#sk-container-id-9 div.sk-label-container {text-align: center;}#sk-container-id-9 div.sk-container {/* jupyter's `normalize.less` sets `[hidden] { display: none; }` but bootstrap.min.css set `[hidden] { display: none !important; }` so we also need the `!important` here to be able to override the default hidden behavior on the sphinx rendered scikit-learn.org. See: https://github.com/scikit-learn/scikit-learn/issues/21755 */display: inline-block !important;position: relative;}#sk-container-id-9 div.sk-text-repr-fallback {display: none;}</style><div id=\"sk-container-id-9\" class=\"sk-top-container\"><div class=\"sk-text-repr-fallback\"><pre>GridSearchCV(estimator=RandomForestClassifier(), n_jobs=-1,\n",
       "             param_grid={&#x27;max_features&#x27;: [&#x27;sqrt&#x27;, &#x27;log2&#x27;],\n",
       "                         &#x27;min_samples_leaf&#x27;: [1, 2, 3, 4, 5, 6, 7, 8, 9],\n",
       "                         &#x27;n_estimators&#x27;: [100, 200, 300, 400, 500]},\n",
       "             scoring=&#x27;accuracy&#x27;, verbose=1)</pre><b>In a Jupyter environment, please rerun this cell to show the HTML representation or trust the notebook. <br />On GitHub, the HTML representation is unable to render, please try loading this page with nbviewer.org.</b></div><div class=\"sk-container\" hidden><div class=\"sk-item sk-dashed-wrapped\"><div class=\"sk-label-container\"><div class=\"sk-label sk-toggleable\"><input class=\"sk-toggleable__control sk-hidden--visually\" id=\"sk-estimator-id-9\" type=\"checkbox\" ><label for=\"sk-estimator-id-9\" class=\"sk-toggleable__label sk-toggleable__label-arrow\">GridSearchCV</label><div class=\"sk-toggleable__content\"><pre>GridSearchCV(estimator=RandomForestClassifier(), n_jobs=-1,\n",
       "             param_grid={&#x27;max_features&#x27;: [&#x27;sqrt&#x27;, &#x27;log2&#x27;],\n",
       "                         &#x27;min_samples_leaf&#x27;: [1, 2, 3, 4, 5, 6, 7, 8, 9],\n",
       "                         &#x27;n_estimators&#x27;: [100, 200, 300, 400, 500]},\n",
       "             scoring=&#x27;accuracy&#x27;, verbose=1)</pre></div></div></div><div class=\"sk-parallel\"><div class=\"sk-parallel-item\"><div class=\"sk-item\"><div class=\"sk-label-container\"><div class=\"sk-label sk-toggleable\"><input class=\"sk-toggleable__control sk-hidden--visually\" id=\"sk-estimator-id-10\" type=\"checkbox\" ><label for=\"sk-estimator-id-10\" class=\"sk-toggleable__label sk-toggleable__label-arrow\">estimator: RandomForestClassifier</label><div class=\"sk-toggleable__content\"><pre>RandomForestClassifier()</pre></div></div></div><div class=\"sk-serial\"><div class=\"sk-item\"><div class=\"sk-estimator sk-toggleable\"><input class=\"sk-toggleable__control sk-hidden--visually\" id=\"sk-estimator-id-11\" type=\"checkbox\" ><label for=\"sk-estimator-id-11\" class=\"sk-toggleable__label sk-toggleable__label-arrow\">RandomForestClassifier</label><div class=\"sk-toggleable__content\"><pre>RandomForestClassifier()</pre></div></div></div></div></div></div></div></div></div></div>"
      ],
      "text/plain": [
       "GridSearchCV(estimator=RandomForestClassifier(), n_jobs=-1,\n",
       "             param_grid={'max_features': ['sqrt', 'log2'],\n",
       "                         'min_samples_leaf': [1, 2, 3, 4, 5, 6, 7, 8, 9],\n",
       "                         'n_estimators': [100, 200, 300, 400, 500]},\n",
       "             scoring='accuracy', verbose=1)"
      ]
     },
     "execution_count": 287,
     "metadata": {},
     "output_type": "execute_result"
    }
   ],
   "source": [
    "grid_search_rf.fit(x_train, y_train)"
   ]
  },
  {
   "cell_type": "code",
   "execution_count": 288,
   "id": "98dcb11f",
   "metadata": {},
   "outputs": [
    {
     "data": {
      "text/plain": [
       "{'max_features': 'sqrt', 'min_samples_leaf': 2, 'n_estimators': 400}"
      ]
     },
     "execution_count": 288,
     "metadata": {},
     "output_type": "execute_result"
    }
   ],
   "source": [
    "best_params = grid_search_rf.best_params_\n",
    "best_params"
   ]
  },
  {
   "cell_type": "markdown",
   "id": "7c413f89",
   "metadata": {},
   "source": [
    "with open('data/best_params_rf_10k_fit.json', 'w') as f: json.dump(best_params, f)"
   ]
  },
  {
   "cell_type": "code",
   "execution_count": 320,
   "id": "88869ed2",
   "metadata": {},
   "outputs": [],
   "source": [
    "with open('models/rf_model.pkl', 'wb') as file:\n",
    "    dill.dump(rf, file)"
   ]
  }
 ],
 "metadata": {
  "kernelspec": {
   "display_name": "Python 3 (ipykernel)",
   "language": "python",
   "name": "python3"
  },
  "language_info": {
   "codemirror_mode": {
    "name": "ipython",
    "version": 3
   },
   "file_extension": ".py",
   "mimetype": "text/x-python",
   "name": "python",
   "nbconvert_exporter": "python",
   "pygments_lexer": "ipython3",
   "version": "3.10.9"
  }
 },
 "nbformat": 4,
 "nbformat_minor": 5
}
